{
 "cells": [
  {
   "cell_type": "code",
   "execution_count": 1,
   "id": "cf163be7",
   "metadata": {},
   "outputs": [],
   "source": [
    "import dgl, os\n",
    "import pandas as pd\n",
    "import numpy as np\n",
    "import torch\n",
    "import torch.nn as nn\n",
    "import torch.nn.functional as F"
   ]
  },
  {
   "cell_type": "code",
   "execution_count": 9,
   "id": "ff182fa6",
   "metadata": {},
   "outputs": [],
   "source": [
    "movie_df = pd.read_csv('sample_files/movies_2.csv')"
   ]
  },
  {
   "cell_type": "code",
   "execution_count": 10,
   "id": "59a54832",
   "metadata": {},
   "outputs": [],
   "source": [
    "users_df = pd.read_csv('sample_files/users_2.csv')"
   ]
  },
  {
   "cell_type": "code",
   "execution_count": 11,
   "id": "0c022b8c",
   "metadata": {},
   "outputs": [],
   "source": [
    "ratings_df = pd.read_csv('sample_files/ratings_2.csv')"
   ]
  },
  {
   "cell_type": "code",
   "execution_count": 39,
   "id": "86f9248e",
   "metadata": {},
   "outputs": [
    {
     "data": {
      "text/html": [
       "<div>\n",
       "<style scoped>\n",
       "    .dataframe tbody tr th:only-of-type {\n",
       "        vertical-align: middle;\n",
       "    }\n",
       "\n",
       "    .dataframe tbody tr th {\n",
       "        vertical-align: top;\n",
       "    }\n",
       "\n",
       "    .dataframe thead th {\n",
       "        text-align: right;\n",
       "    }\n",
       "</style>\n",
       "<table border=\"1\" class=\"dataframe\">\n",
       "  <thead>\n",
       "    <tr style=\"text-align: right;\">\n",
       "      <th></th>\n",
       "      <th>user_id</th>\n",
       "      <th>movie_id</th>\n",
       "      <th>ratings</th>\n",
       "    </tr>\n",
       "  </thead>\n",
       "  <tbody>\n",
       "    <tr>\n",
       "      <th>0</th>\n",
       "      <td>0</td>\n",
       "      <td>0</td>\n",
       "      <td>1</td>\n",
       "    </tr>\n",
       "    <tr>\n",
       "      <th>1</th>\n",
       "      <td>0</td>\n",
       "      <td>1</td>\n",
       "      <td>5</td>\n",
       "    </tr>\n",
       "    <tr>\n",
       "      <th>2</th>\n",
       "      <td>0</td>\n",
       "      <td>2</td>\n",
       "      <td>5</td>\n",
       "    </tr>\n",
       "    <tr>\n",
       "      <th>3</th>\n",
       "      <td>1</td>\n",
       "      <td>1</td>\n",
       "      <td>5</td>\n",
       "    </tr>\n",
       "    <tr>\n",
       "      <th>4</th>\n",
       "      <td>1</td>\n",
       "      <td>3</td>\n",
       "      <td>5</td>\n",
       "    </tr>\n",
       "  </tbody>\n",
       "</table>\n",
       "</div>"
      ],
      "text/plain": [
       "   user_id  movie_id  ratings\n",
       "0        0         0        1\n",
       "1        0         1        5\n",
       "2        0         2        5\n",
       "3        1         1        5\n",
       "4        1         3        5"
      ]
     },
     "execution_count": 39,
     "metadata": {},
     "output_type": "execute_result"
    }
   ],
   "source": [
    "ratings_df"
   ]
  },
  {
   "cell_type": "code",
   "execution_count": 15,
   "id": "f1784f38",
   "metadata": {},
   "outputs": [],
   "source": [
    "graph_data = {\n",
    "        ('user','rates','movie') : (ratings_df['user_id'].to_numpy(), ratings_df['movie_id'].to_numpy()),\n",
    "        ('movie','rev-rates','user') : (ratings_df['movie_id'].to_numpy(), ratings_df['user_id'].to_numpy())\n",
    "    }"
   ]
  },
  {
   "cell_type": "code",
   "execution_count": 25,
   "id": "a22b7edb",
   "metadata": {},
   "outputs": [],
   "source": [
    "movie_hetero_graph = dgl.heterograph(graph_data)"
   ]
  },
  {
   "cell_type": "code",
   "execution_count": 28,
   "id": "3207286c",
   "metadata": {},
   "outputs": [
    {
     "data": {
      "text/plain": [
       "Graph(num_nodes={'movie': 4, 'user': 2},\n",
       "      num_edges={('movie', 'rev-rates', 'user'): 5, ('user', 'rates', 'movie'): 5},\n",
       "      metagraph=[('movie', 'user', 'rev-rates'), ('user', 'movie', 'rates')])"
      ]
     },
     "execution_count": 28,
     "metadata": {},
     "output_type": "execute_result"
    }
   ],
   "source": [
    "movie_hetero_graph"
   ]
  },
  {
   "cell_type": "code",
   "execution_count": 33,
   "id": "5923c716",
   "metadata": {},
   "outputs": [],
   "source": [
    "movie_hetero_graph.nodes['user'].data['features'] = torch.ones(movie_hetero_graph.num_nodes('user'),1)\n",
    "movie_hetero_graph.nodes['movie'].data['features'] = torch.ones(movie_hetero_graph.num_nodes('movie'),1)"
   ]
  },
  {
   "cell_type": "code",
   "execution_count": 38,
   "id": "ededff2e",
   "metadata": {},
   "outputs": [
    {
     "data": {
      "text/plain": [
       "10"
      ]
     },
     "execution_count": 38,
     "metadata": {},
     "output_type": "execute_result"
    }
   ],
   "source": [
    "movie_hetero_graph.nodes['movie'].data['features'] = torch.ones(movie_hetero_graph.num_nodes('movie'),1)"
   ]
  },
  {
   "cell_type": "code",
   "execution_count": 54,
   "id": "27070919",
   "metadata": {},
   "outputs": [],
   "source": [
    "movie_hetero_graph.edges['rates'].data['features'] = torch.ones(movie_hetero_graph.number_of_edges()//2,1)\n",
    "movie_hetero_graph.edges['rev-rates'].data['features'] = torch.ones(movie_hetero_graph.number_of_edges()//2,1)"
   ]
  },
  {
   "cell_type": "code",
   "execution_count": 55,
   "id": "bf5fa734",
   "metadata": {},
   "outputs": [],
   "source": [
    "train_g = movie_hetero_graph"
   ]
  },
  {
   "cell_type": "code",
   "execution_count": 91,
   "id": "bd7a0266",
   "metadata": {},
   "outputs": [],
   "source": [
    "dim_dict = {'user': train_g.nodes['user'].data['features'].shape[1],\n",
    "            'movie': train_g.nodes['movie'].data['features'].shape[1],\n",
    "            'edge_dim': train_g.edges['rates'].data['features'].shape[1],\n",
    "            'hidden_dim' : 128,\n",
    "            'out_dim': 4\n",
    "           }"
   ]
  },
  {
   "cell_type": "code",
   "execution_count": 92,
   "id": "7c1d74f5",
   "metadata": {},
   "outputs": [],
   "source": [
    "def construct_negative_graph(graph, k, etype_list):\n",
    "    HM = {}\n",
    "    for etype in etype_list:\n",
    "        utype, _, vtype = etype\n",
    "        src, dst = graph.edges(etype=etype)\n",
    "        neg_src = src.repeat_interleave(k)\n",
    "        neg_dst = torch.randint(0, graph.num_nodes(vtype), (len(src) * k,))\n",
    "        HM[etype] = (neg_src[:], neg_dst[:])\n",
    "\n",
    "    return dgl.heterograph(\n",
    "        HM,\n",
    "        num_nodes_dict={ntype: graph.num_nodes(ntype) for ntype in graph.ntypes})\n"
   ]
  },
  {
   "cell_type": "code",
   "execution_count": 93,
   "id": "097aa434",
   "metadata": {},
   "outputs": [],
   "source": [
    "train_neg = construct_negative_graph(movie_hetero_graph, 2, movie_hetero_graph.canonical_etypes)"
   ]
  },
  {
   "cell_type": "code",
   "execution_count": 94,
   "id": "3ffbc7aa",
   "metadata": {},
   "outputs": [],
   "source": [
    "import dgl.function as fn\n",
    "\n",
    "class GNNLayer(nn.Module):\n",
    "\n",
    "    def __init__(self, input_graph, dim_dict):\n",
    "        \n",
    "        super().__init__()\n",
    "        self.node_in_feats = dim_dict['out_dim']\n",
    "        self.node_out_feats = dim_dict['out_dim']\n",
    "#         self.edge_fc = nn.ModuleDict({\n",
    "#             name[1] : nn.Linear(dim_dict['edge_dim'], self.node_out_feats*self.node_out_feats) for name in input_graph.canonical_etypes\n",
    "#         })\n",
    "        \n",
    "    ## added a differnet edge network : check if it makes any difference\n",
    "        self.edge_fc = nn.ModuleDict({\n",
    "            name[1] : nn.Sequential(\n",
    "                nn.Linear(dim_dict['edge_dim'], dim_dict['hidden_dim']),\n",
    "                nn.ReLU(),\n",
    "                nn.Linear(dim_dict['hidden_dim'], self.node_out_feats * self.node_out_feats),\n",
    "                nn.Dropout(p=0.5)\n",
    "                # check if dropout is necessary\n",
    "            ) for name in input_graph.canonical_etypes\n",
    "        })\n",
    "    \n",
    "    def udf_u_mul_e(self, nodes):\n",
    "#         print(\"Important Shapes :\", nodes.src['node_weights'], nodes.data['edge_weights'].shape)\n",
    "        return {'m': nodes.src['node_weights'] * nodes.data['edge_weights'] }\n",
    "    \n",
    "    def reduce_func(self, nodes):\n",
    "        return {'h': torch.mean(nodes.mailbox['m'], dim=1)}\n",
    "    \n",
    "    def forward(self, pos_g, feat_dict, edge_dict):\n",
    "\n",
    "        funcs = {}\n",
    "        for c_etype in pos_g.canonical_etypes:\n",
    "            \n",
    "            srctype, etype, dsttype = c_etype\n",
    "            \n",
    "#             print(\"Source\",srctype, etype, \"Destination\",dsttype)\n",
    "            \n",
    "            node_weights = feat_dict[srctype].unsqueeze(-1)\n",
    "#             print(\"Source type\", srctype)\n",
    "            print(\"Node weights shape:\", node_weights.shape)\n",
    "\n",
    "#             pos_g.nodes[srctype].data['node_weights_%s' % etype] = node_weights\n",
    "            pos_g.nodes[srctype].data['node_weights'] = node_weights\n",
    "\n",
    "            edge_weights = self.edge_fc[etype](edge_dict[etype]).view(-1, self.node_in_feats, self.node_out_feats)\n",
    "            \n",
    "            print(\"Edge weights shape\", edge_weights.shape)\n",
    "#             print(\"Edge weights :\",edge_weights.shape, edge_dict[etype])\n",
    "            \n",
    "            pos_g[etype].edata['edge_weights'] = edge_weights\n",
    "#             pos_g[etype].edata['edge_weights_%s' % etype] = edge_weights\n",
    "            \n",
    "#             funcs[etype] = (fn.u_mul_e('node_weights_%s' % etype, 'edge_weights_%s' % etype,'m'), self.reduce_func)\n",
    "            funcs[etype] = (self.udf_u_mul_e, self.reduce_func)\n",
    "\n",
    "        pos_g.multi_update_all(funcs, 'mean')\n",
    "        results = {ntype : pos_g.nodes[ntype].data['h'].sum(dim=1) for ntype in pos_g.ntypes}\n",
    "        \n",
    "#         print(\"Results : \",results)\n",
    "        \n",
    "        return results\n",
    "\n",
    "class GNNMODEL(nn.Module):\n",
    "\n",
    "    def __init__(self, G, dim_dict, num_step_message_passing):\n",
    "\n",
    "        super(GNNMODEL, self).__init__()\n",
    "        \n",
    "        # Added an activation function here : check if actually required. \n",
    "        self.project_node_features = nn.ModuleDict({\n",
    "            name[0] : nn.Sequential(nn.Linear(dim_dict[name[0]], dim_dict['out_dim']), nn.Softmax(dim=0)) for name in G.canonical_etypes\n",
    "        })\n",
    "        \n",
    "        self.num_step_message_passing = num_step_message_passing\n",
    "        self.gnn_layer = GNNLayer(G, dim_dict=dim_dict)\n",
    "    \n",
    "    def forward(self, pos_g, node_feats, edge_feats):\n",
    "        \n",
    "#         print(\"Pre-projected Node Features :\", node_feats)\n",
    "        \n",
    "        for feat in node_feats:\n",
    "            node_feats[feat] = self.project_node_features[feat](node_feats[feat])\n",
    "            \n",
    "#         print(\"Projected Node Features : \", node_feats)\n",
    "        \n",
    "        for i in range(self.num_step_message_passing):\n",
    "            node_feats = self.gnn_layer(pos_g, node_feats, edge_feats)\n",
    "#             print(\"Layer :\"+str(i))\n",
    "#             print(node_feats)\n",
    "#         return self.predictor(g, node_feats), self.predictor(node_subgraph_negative, node_feats)\n",
    "        \n",
    "        for feat in node_feats:\n",
    "            node_feats[feat] = F.relu(node_feats[feat])\n",
    "    \n",
    "        return node_feats\n"
   ]
  },
  {
   "cell_type": "code",
   "execution_count": 95,
   "id": "96554515",
   "metadata": {},
   "outputs": [],
   "source": [
    "class CosinePrediction(nn.Module):\n",
    "    \"\"\"\n",
    "    Scoring function that uses cosine similarity to compute similarity between user and item.\n",
    "\n",
    "    Only used if fixed_params.pred == 'cos'.\n",
    "    \"\"\"\n",
    "    def __init__(self):\n",
    "        super().__init__()\n",
    "\n",
    "    def forward(self, graph, h):\n",
    "        with graph.local_scope():\n",
    "            for etype in graph.canonical_etypes:\n",
    "                try:\n",
    "                    graph.nodes[etype[0]].data['norm_h'] = F.normalize(h[etype[0]], p=2, dim=-1)\n",
    "                    graph.nodes[etype[2]].data['norm_h'] = F.normalize(h[etype[2]], p=2, dim=-1)\n",
    "                    graph.apply_edges(fn.u_dot_v('norm_h', 'norm_h', 'cos'), etype=etype)\n",
    "                except KeyError:\n",
    "                    pass  # For etypes that are not in training eids, thus have no 'h'\n",
    "            ratings = graph.edata['cos']\n",
    "        return ratings\n",
    "\n",
    "class GNNPredictor(nn.Module):\n",
    "    \n",
    "    def __init__(self, input_graph, dim_dict):\n",
    "        \n",
    "        super(GNNPredictor, self).__init__()\n",
    "        \n",
    "        self.gnn = GNNMODEL(G = input_graph,\n",
    "                            dim_dict = dim_dict,\n",
    "                               num_step_message_passing = 2)\n",
    "        self.predictor = CosinePrediction()\n",
    "    \n",
    "    def forward(self, g, neg_g, node_feats, edge_feats):\n",
    "\n",
    "        node_feats = self.gnn(g, node_feats, edge_feats)\n",
    "#         print(\"Predicted Node Features\",node_feats)\n",
    "        \n",
    "        return self.predictor(g, node_feats), self.predictor(neg_g, node_feats)\n",
    "    \n",
    "    def get_repr(self, g, node_feats, edge_feats):\n",
    "        \"\"\"Returns the embedded representation given block made from sampling neighboring nodes.\"\"\"\n",
    "        \n",
    "        node_feats = self.gnn(g, node_feats, edge_feats)\n",
    "        return node_feats"
   ]
  },
  {
   "cell_type": "code",
   "execution_count": 96,
   "id": "06e129dd",
   "metadata": {},
   "outputs": [],
   "source": [
    "mpnn_model = GNNPredictor(train_g, dim_dict)\n",
    "optimizer = torch.optim.Adam(mpnn_model.parameters(), lr=0.0001,weight_decay=0)"
   ]
  },
  {
   "cell_type": "code",
   "execution_count": 97,
   "id": "1f5db162",
   "metadata": {},
   "outputs": [
    {
     "name": "stdout",
     "output_type": "stream",
     "text": [
      "{'movie': tensor([[1.],\n",
      "        [1.],\n",
      "        [1.],\n",
      "        [1.]]), 'user': tensor([[1.],\n",
      "        [1.]])}\n",
      "{'rev-rates': tensor([[1.],\n",
      "        [1.],\n",
      "        [1.],\n",
      "        [1.],\n",
      "        [1.]]), 'rates': tensor([[1.],\n",
      "        [1.],\n",
      "        [1.],\n",
      "        [1.],\n",
      "        [1.]])}\n",
      "Node weights shape: torch.Size([4, 4, 1])\n",
      "Edge weights shape torch.Size([5, 4, 4])\n",
      "Node weights shape: torch.Size([2, 4, 1])\n",
      "Edge weights shape torch.Size([5, 4, 4])\n",
      "Node weights shape: torch.Size([4, 4, 1])\n",
      "Edge weights shape torch.Size([5, 4, 4])\n",
      "Node weights shape: torch.Size([2, 4, 1])\n",
      "Edge weights shape torch.Size([5, 4, 4])\n",
      "------------------------------------------------------------------------\n",
      "Epoch : 0, Training loss : 0.49263066053390503\n"
     ]
    }
   ],
   "source": [
    "for e in range(1):\n",
    "    \n",
    "    optimizer.zero_grad()\n",
    "    \n",
    "    node_features = train_g.ndata['features']\n",
    "    edge_features = train_g.edata['features']\n",
    "    \n",
    "    edge_features_HM = {}\n",
    "    for key, value in edge_features.items():\n",
    "        edge_features_HM[key[1]] = value.to(torch.float)\n",
    "    \n",
    "    print(node_features)\n",
    "    print(edge_features_HM)\n",
    "    \n",
    "    pos_score, neg_score = mpnn_model(train_g, train_neg, node_features, edge_features_HM)\n",
    "\n",
    "    print('------------------------------------------------------------------------')\n",
    "    \n",
    "    loss = max_margin_loss(pos_score, neg_score)\n",
    "    \n",
    "    print(\"Epoch : {}, Training loss : {}\".format(e, loss.item()))\n",
    "\n",
    "    optimizer.zero_grad()\n",
    "    loss.backward()\n",
    "    optimizer.step()"
   ]
  },
  {
   "cell_type": "code",
   "execution_count": 63,
   "id": "4083f8a5",
   "metadata": {},
   "outputs": [],
   "source": [
    "def max_margin_loss(pos_score, neg_score, delta=0.5):\n",
    "\n",
    "    all_scores = torch.empty(0)\n",
    "    \n",
    "    for etype in pos_score.keys():\n",
    "        neg_score_tensor = neg_score[etype]\n",
    "        pos_score_tensor = pos_score[etype]\n",
    "\n",
    "        neg_score_tensor = neg_score_tensor.reshape(pos_score_tensor.shape[0], -1)\n",
    "        scores = (neg_score_tensor - pos_score_tensor + delta).clamp(min=0)\n",
    "\n",
    "        relu = nn.ReLU()\n",
    "        scores = relu(scores)\n",
    "        all_scores = torch.cat((all_scores, scores), 0)\n",
    "\n",
    "    return torch.mean(all_scores)"
   ]
  },
  {
   "cell_type": "code",
   "execution_count": null,
   "id": "5a110c58",
   "metadata": {},
   "outputs": [],
   "source": []
  }
 ],
 "metadata": {
  "kernelspec": {
   "display_name": "gnnenv",
   "language": "python",
   "name": "gnnenv"
  },
  "language_info": {
   "codemirror_mode": {
    "name": "ipython",
    "version": 3
   },
   "file_extension": ".py",
   "mimetype": "text/x-python",
   "name": "python",
   "nbconvert_exporter": "python",
   "pygments_lexer": "ipython3",
   "version": "3.8.8"
  }
 },
 "nbformat": 4,
 "nbformat_minor": 5
}
