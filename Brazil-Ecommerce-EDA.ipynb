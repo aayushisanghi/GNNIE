{
 "cells": [
  {
   "cell_type": "code",
   "execution_count": 584,
   "id": "745b7444",
   "metadata": {},
   "outputs": [],
   "source": [
    "import dgl\n",
    "import torch\n",
    "import pandas as pd\n",
    "import numpy as np\n",
    "import matplotlib.pyplot as plt \n",
    "import seaborn as sns\n",
    "from datetime import datetime\n",
    "import calendar\n",
    "from pandas.api.types import CategoricalDtype\n",
    "from sklearn.feature_extraction.text import CountVectorizer, TfidfVectorizer"
   ]
  },
  {
   "cell_type": "code",
   "execution_count": 2,
   "id": "4ad6c882",
   "metadata": {},
   "outputs": [],
   "source": [
    "# pandas datframe setting\n",
    "pd.set_option('display.max_columns', None)"
   ]
  },
  {
   "cell_type": "markdown",
   "id": "124ca2ea",
   "metadata": {},
   "source": [
    "## Dataset Creation"
   ]
  },
  {
   "cell_type": "code",
   "execution_count": 3,
   "id": "7538cf04",
   "metadata": {},
   "outputs": [],
   "source": [
    "customer_data = pd.read_csv('archive/olist_customers_dataset.csv')\n",
    "geolocation_data = pd.read_csv('archive/olist_geolocation_dataset.csv')\n",
    "order_items_dataset = pd.read_csv('archive/olist_order_items_dataset.csv')\n",
    "order_payments_dataset = pd.read_csv('archive/olist_order_payments_dataset.csv')\n",
    "order_reviews_dataset = pd.read_csv('archive/olist_order_reviews_dataset.csv')\n",
    "order_dataset = pd.read_csv('archive/olist_orders_dataset.csv')\n",
    "order_products_dataset = pd.read_csv('archive/olist_products_dataset.csv')\n",
    "order_sellers_dataset = pd.read_csv('archive/olist_sellers_dataset.csv')\n",
    "product_translation_dataset = pd.read_csv('archive/product_category_name_translation.csv')"
   ]
  },
  {
   "cell_type": "code",
   "execution_count": 4,
   "id": "5ca67863",
   "metadata": {},
   "outputs": [],
   "source": [
    "order_reviews_dataset = order_reviews_dataset[['order_id','review_score', 'review_comment_message']]\n",
    "order_review_data = order_reviews_dataset.merge(order_dataset,on='order_id')\n",
    "order_products_dataset_english = pd.merge(order_products_dataset,product_translation_dataset,on='product_category_name', how='left')\n",
    "order_products_dataset_english = order_products_dataset_english.drop(labels='product_category_name',axis=1)\n",
    "order_product_item_dataset = pd.merge(order_items_dataset,order_products_dataset_english,on='product_id')\n",
    "ordered_product_reviews = pd.merge(order_product_item_dataset,order_review_data,on='order_id')\n",
    "ordered_product_reviews_payments = pd.merge(ordered_product_reviews,order_payments_dataset,on='order_id')\n",
    "df_final = pd.merge(ordered_product_reviews_payments,customer_data,on='customer_id')"
   ]
  },
  {
   "cell_type": "code",
   "execution_count": 5,
   "id": "655ad562",
   "metadata": {},
   "outputs": [
    {
     "name": "stdout",
     "output_type": "stream",
     "text": [
      "<class 'pandas.core.frame.DataFrame'>\n",
      "Int64Index: 117329 entries, 0 to 117328\n",
      "Data columns (total 32 columns):\n",
      " #   Column                         Non-Null Count   Dtype  \n",
      "---  ------                         --------------   -----  \n",
      " 0   order_id                       117329 non-null  object \n",
      " 1   order_item_id                  117329 non-null  int64  \n",
      " 2   product_id                     117329 non-null  object \n",
      " 3   seller_id                      117329 non-null  object \n",
      " 4   shipping_limit_date            117329 non-null  object \n",
      " 5   price                          117329 non-null  float64\n",
      " 6   freight_value                  117329 non-null  float64\n",
      " 7   product_name_lenght            115634 non-null  float64\n",
      " 8   product_description_lenght     115634 non-null  float64\n",
      " 9   product_photos_qty             115634 non-null  float64\n",
      " 10  product_weight_g               117309 non-null  float64\n",
      " 11  product_length_cm              117309 non-null  float64\n",
      " 12  product_height_cm              117309 non-null  float64\n",
      " 13  product_width_cm               117309 non-null  float64\n",
      " 14  product_category_name_english  115609 non-null  object \n",
      " 15  review_score                   117329 non-null  int64  \n",
      " 16  review_comment_message         49679 non-null   object \n",
      " 17  customer_id                    117329 non-null  object \n",
      " 18  order_status                   117329 non-null  object \n",
      " 19  order_purchase_timestamp       117329 non-null  object \n",
      " 20  order_approved_at              117314 non-null  object \n",
      " 21  order_delivered_carrier_date   116094 non-null  object \n",
      " 22  order_delivered_customer_date  114858 non-null  object \n",
      " 23  order_estimated_delivery_date  117329 non-null  object \n",
      " 24  payment_sequential             117329 non-null  int64  \n",
      " 25  payment_type                   117329 non-null  object \n",
      " 26  payment_installments           117329 non-null  int64  \n",
      " 27  payment_value                  117329 non-null  float64\n",
      " 28  customer_unique_id             117329 non-null  object \n",
      " 29  customer_zip_code_prefix       117329 non-null  int64  \n",
      " 30  customer_city                  117329 non-null  object \n",
      " 31  customer_state                 117329 non-null  object \n",
      "dtypes: float64(10), int64(5), object(17)\n",
      "memory usage: 29.5+ MB\n"
     ]
    }
   ],
   "source": [
    "df_final.info()"
   ]
  },
  {
   "cell_type": "code",
   "execution_count": 6,
   "id": "45162522",
   "metadata": {},
   "outputs": [
    {
     "data": {
      "text/plain": [
       "order_id                             0\n",
       "order_item_id                        0\n",
       "product_id                           0\n",
       "seller_id                            0\n",
       "shipping_limit_date                  0\n",
       "price                                0\n",
       "freight_value                        0\n",
       "product_name_lenght               1695\n",
       "product_description_lenght        1695\n",
       "product_photos_qty                1695\n",
       "product_weight_g                    20\n",
       "product_length_cm                   20\n",
       "product_height_cm                   20\n",
       "product_width_cm                    20\n",
       "product_category_name_english     1720\n",
       "review_score                         0\n",
       "review_comment_message           67650\n",
       "customer_id                          0\n",
       "order_status                         0\n",
       "order_purchase_timestamp             0\n",
       "order_approved_at                   15\n",
       "order_delivered_carrier_date      1235\n",
       "order_delivered_customer_date     2471\n",
       "order_estimated_delivery_date        0\n",
       "payment_sequential                   0\n",
       "payment_type                         0\n",
       "payment_installments                 0\n",
       "payment_value                        0\n",
       "customer_unique_id                   0\n",
       "customer_zip_code_prefix             0\n",
       "customer_city                        0\n",
       "customer_state                       0\n",
       "dtype: int64"
      ]
     },
     "execution_count": 6,
     "metadata": {},
     "output_type": "execute_result"
    }
   ],
   "source": [
    "df_final.isnull().sum()"
   ]
  },
  {
   "cell_type": "markdown",
   "id": "dae2870f",
   "metadata": {},
   "source": [
    "The maximum missing values is seen in the order delivery date feature of the data set with around 2% of the total data. For the numerical features with null values we will use median to handle missing value of these columns. For the date column order delivery date and order approve date we will fill the missing value from the corresponfiing estimated delivery date column and order purchase time column. The customer generally does not pay attention to the order_delivered_carrier_date of their order. so, we will drop this column. Also, the categorical product category feature have null values less than 1% of total data so, we will drop those rows having null values.\n"
   ]
  },
  {
   "cell_type": "code",
   "execution_count": 7,
   "id": "2ccd5212",
   "metadata": {},
   "outputs": [],
   "source": [
    "# Handling missing values\n",
    "df_final['product_name_lenght'].fillna(df_final['product_name_lenght'].median(),inplace=True)\n",
    "df_final['product_description_lenght'].fillna(df_final['product_description_lenght'].median(),inplace=True)\n",
    "df_final['product_photos_qty'].fillna(df_final['product_photos_qty'].median(),inplace=True)\n",
    "df_final['product_weight_g'].fillna(df_final['product_weight_g'].median(),inplace=True)\n",
    "df_final['product_length_cm'].fillna(df_final['product_length_cm'].median(),inplace=True)\n",
    "df_final['product_height_cm'].fillna(df_final['product_height_cm'].median(),inplace=True)\n",
    "df_final['product_width_cm'].fillna(df_final['product_width_cm'].median(),inplace=True)"
   ]
  },
  {
   "cell_type": "code",
   "execution_count": 8,
   "id": "e346a523",
   "metadata": {},
   "outputs": [],
   "source": [
    "#Handling missing values\n",
    "ids = (df_final[df_final['order_delivered_customer_date'].isnull() == True].index.values)\n",
    "vals = df_final.iloc[ids]['order_estimated_delivery_date'].values\n",
    "df_final.loc[ids,'order_delivered_customer_date'] = vals\n",
    "\n",
    "ids = (df_final[df_final['order_approved_at'].isnull() == True].index.values)\n",
    "df_final.loc[ids,'order_approved_at'] = df_final.iloc[ids]['order_purchase_timestamp'].values\n",
    "\n",
    "df_final.drop(labels='order_delivered_carrier_date',axis=1,inplace=True)"
   ]
  },
  {
   "cell_type": "code",
   "execution_count": 9,
   "id": "b8b1c0d4",
   "metadata": {},
   "outputs": [],
   "source": [
    "df_final['review_comment_message'].fillna('no_review',inplace=True)"
   ]
  },
  {
   "cell_type": "code",
   "execution_count": 10,
   "id": "7848d121",
   "metadata": {},
   "outputs": [],
   "source": [
    "df_final = df_final.dropna()"
   ]
  },
  {
   "cell_type": "code",
   "execution_count": 11,
   "id": "9458d6a3",
   "metadata": {},
   "outputs": [],
   "source": [
    "n1=df_final.shape[0]"
   ]
  },
  {
   "cell_type": "code",
   "execution_count": 12,
   "id": "a4f88c98",
   "metadata": {},
   "outputs": [
    {
     "name": "stdout",
     "output_type": "stream",
     "text": [
      "After dropping we still have 100.0% of the data\n"
     ]
    }
   ],
   "source": [
    "print('After dropping we still have {:0.1%} of the data'.format(df_final.shape[0]/n1))"
   ]
  },
  {
   "cell_type": "code",
   "execution_count": 13,
   "id": "d5a49ef3",
   "metadata": {},
   "outputs": [
    {
     "name": "stdout",
     "output_type": "stream",
     "text": [
      "<class 'pandas.core.frame.DataFrame'>\n",
      "Int64Index: 115609 entries, 0 to 117328\n",
      "Data columns (total 31 columns):\n",
      " #   Column                         Non-Null Count   Dtype  \n",
      "---  ------                         --------------   -----  \n",
      " 0   order_id                       115609 non-null  object \n",
      " 1   order_item_id                  115609 non-null  int64  \n",
      " 2   product_id                     115609 non-null  object \n",
      " 3   seller_id                      115609 non-null  object \n",
      " 4   shipping_limit_date            115609 non-null  object \n",
      " 5   price                          115609 non-null  float64\n",
      " 6   freight_value                  115609 non-null  float64\n",
      " 7   product_name_lenght            115609 non-null  float64\n",
      " 8   product_description_lenght     115609 non-null  float64\n",
      " 9   product_photos_qty             115609 non-null  float64\n",
      " 10  product_weight_g               115609 non-null  float64\n",
      " 11  product_length_cm              115609 non-null  float64\n",
      " 12  product_height_cm              115609 non-null  float64\n",
      " 13  product_width_cm               115609 non-null  float64\n",
      " 14  product_category_name_english  115609 non-null  object \n",
      " 15  review_score                   115609 non-null  int64  \n",
      " 16  review_comment_message         115609 non-null  object \n",
      " 17  customer_id                    115609 non-null  object \n",
      " 18  order_status                   115609 non-null  object \n",
      " 19  order_purchase_timestamp       115609 non-null  object \n",
      " 20  order_approved_at              115609 non-null  object \n",
      " 21  order_delivered_customer_date  115609 non-null  object \n",
      " 22  order_estimated_delivery_date  115609 non-null  object \n",
      " 23  payment_sequential             115609 non-null  int64  \n",
      " 24  payment_type                   115609 non-null  object \n",
      " 25  payment_installments           115609 non-null  int64  \n",
      " 26  payment_value                  115609 non-null  float64\n",
      " 27  customer_unique_id             115609 non-null  object \n",
      " 28  customer_zip_code_prefix       115609 non-null  int64  \n",
      " 29  customer_city                  115609 non-null  object \n",
      " 30  customer_state                 115609 non-null  object \n",
      "dtypes: float64(10), int64(5), object(16)\n",
      "memory usage: 28.2+ MB\n"
     ]
    }
   ],
   "source": [
    "df_final.info()"
   ]
  },
  {
   "cell_type": "markdown",
   "id": "ca0ea128",
   "metadata": {},
   "source": [
    "## Dataset Analysis"
   ]
  },
  {
   "cell_type": "code",
   "execution_count": 18,
   "id": "1eec02f4",
   "metadata": {},
   "outputs": [
    {
     "data": {
      "text/plain": [
       "5    65374\n",
       "4    21951\n",
       "1    14546\n",
       "3     9718\n",
       "2     4020\n",
       "Name: review_score, dtype: int64"
      ]
     },
     "execution_count": 18,
     "metadata": {},
     "output_type": "execute_result"
    }
   ],
   "source": [
    "# checking the review score \n",
    "df_final.review_score.value_counts()"
   ]
  },
  {
   "cell_type": "code",
   "execution_count": 14,
   "id": "3c46435b",
   "metadata": {},
   "outputs": [],
   "source": [
    "# df_final['Year'] = df_final['order_purchase_timestamp'].dt.year\n",
    "# df_final.groupby('Year').size().plot(kind = 'bar',figsize=(12,5));\n",
    "# plt.title('Years',fontsize=20);\n",
    "# plt.xlabel('Year',fontsize=15);\n",
    "# plt.xticks(rotation=0);"
   ]
  },
  {
   "cell_type": "code",
   "execution_count": 15,
   "id": "f4f9f76b",
   "metadata": {},
   "outputs": [],
   "source": [
    "# df_final['Month'] =  pd.Series(pd.Categorical(df_final['order_purchase_timestamp'].dt.month_name(), categories=list(calendar.month_name)))\n",
    "# df_final.groupby('Month').size().plot(kind = 'bar',figsize=(15,5))\n",
    "# plt.title('Months counts in all years',fontsize=20);\n",
    "# plt.xlabel('Month',fontsize=15);\n",
    "# plt.xticks(rotation=0);"
   ]
  },
  {
   "cell_type": "code",
   "execution_count": 17,
   "id": "eb5d425b",
   "metadata": {},
   "outputs": [],
   "source": [
    "# df_final['Month'] = df_final['order_purchase_timestamp'].dt.month\n",
    "\n",
    "# print('This available data are collected from date {} to date {}'.format(\n",
    "#     df_final.order_purchase_timestamp.min(), df_final.order_purchase_timestamp.max()))\n",
    "# print()\n",
    "# print ('For year 2016 data are for Months {}'.format(sorted(df_final.query('Year==2016').Month.unique())))\n",
    "# print ('For year 2017 data are for Months {}'.format(sorted(df_final.query('Year==2017').Month.unique())))\n",
    "# print ('For year 2018 data are for Months {}'.format(sorted(df_final.query('Year==2018').Month.unique())))"
   ]
  },
  {
   "cell_type": "markdown",
   "id": "68c4062f",
   "metadata": {},
   "source": [
    "Total orders per year just compares only one month of 2016 with 12 Months of 2017 and 8 Months of 2018 that result in misleading information about trending up of orders.\n",
    "\n",
    "It was expected November( Black Friday) or December(X-mas) to have the highest value. SO, let's have a deeper lock for the data.\n",
    "\n"
   ]
  },
  {
   "cell_type": "code",
   "execution_count": 18,
   "id": "eddb052e",
   "metadata": {},
   "outputs": [],
   "source": [
    "# df_final['Day'] = df_final['order_purchase_timestamp'].dt.day_name()\n",
    "\n",
    "# plt.figure(figsize=(10,7))\n",
    "# basecolor=sns.color_palette()[0]\n",
    "# sns.countplot(data=df_final,x='Day',order=list(calendar.day_name),color=basecolor);\n",
    "\n",
    "# plt.title('All Order purchased in the Day in all years', fontsize=20);\n",
    "# plt.xlabel('Day',fontsize=15);"
   ]
  },
  {
   "cell_type": "code",
   "execution_count": 19,
   "id": "dbbd323c",
   "metadata": {},
   "outputs": [],
   "source": [
    "# df_final['Hour'] = df_final['order_purchase_timestamp'].dt.hour\n",
    "\n",
    "# plt.figure(figsize=(10,7))\n",
    "# basecolor=sns.color_palette()[0]\n",
    "# sns.countplot(data=df_final ,x='Hour',order=list(range(0, 24)),color=basecolor);\n",
    "\n",
    "# plt.title('All Order purchased in the Hour', fontsize=20);\n",
    "# plt.xlabel('Hour',fontsize=15);"
   ]
  },
  {
   "cell_type": "markdown",
   "id": "6dc5ba65",
   "metadata": {},
   "source": [
    "There is no name for the items in the dataset, each item has item_id. Therefore we relate each item by category which belongs to. Below the top 10 popular categories are obtained."
   ]
  },
  {
   "cell_type": "code",
   "execution_count": 20,
   "id": "7c0c0957",
   "metadata": {},
   "outputs": [],
   "source": [
    "# top_10_category = df_final[\"product_category_name_english\"].value_counts().head(10)\n",
    "\n",
    "# print('Top 10 frequently repeated categories')\n",
    "# print('--------------------------------------')\n",
    "# print(top_10_category.reset_index().rename(columns={'index':'product_category',\n",
    "#                                               'product_category_name_english':'counts'}))"
   ]
  },
  {
   "cell_type": "code",
   "execution_count": 21,
   "id": "62752b76",
   "metadata": {},
   "outputs": [],
   "source": [
    "# average_price = df_final.groupby(\"product_category_name_english\")[\"price\"].agg(np.mean).sort_values().tail(10)\n",
    "\n",
    "# print('Top 10 categories with highest average price.')\n",
    "# print('-----------------------------------------------')\n",
    "# print(average_price.sort_values(ascending=False))\n"
   ]
  },
  {
   "cell_type": "code",
   "execution_count": null,
   "id": "8151c927",
   "metadata": {},
   "outputs": [],
   "source": [
    "# https://www.kaggle.com/code/yichengs/brazilian-e-commerce-rating-prediction"
   ]
  },
  {
   "cell_type": "code",
   "execution_count": null,
   "id": "595e1298",
   "metadata": {},
   "outputs": [],
   "source": [
    "# work on correlation"
   ]
  },
  {
   "cell_type": "code",
   "execution_count": null,
   "id": "17ec3459",
   "metadata": {},
   "outputs": [],
   "source": [
    "# Covariance measures the directional relationship between the returns on two assets. A positive covariance means that asset returns move together while a negative covariance means they move inversely."
   ]
  },
  {
   "cell_type": "code",
   "execution_count": null,
   "id": "2673e145",
   "metadata": {},
   "outputs": [],
   "source": [
    "df.columns"
   ]
  },
  {
   "cell_type": "code",
   "execution_count": null,
   "id": "76bf781e",
   "metadata": {},
   "outputs": [],
   "source": [
    "df = df[['order_id', 'customer_id', 'order_item_id', 'product_id', 'order_status', 'order_purchase_timestamp', 'payment_sequential','payment_type', 'payment_installments', 'payment_value', 'customer_zip_code_prefix', 'customer_city', 'customer_state', 'price', 'freight_value', 'product_category_name','product_name_lenght', 'product_weight_g', 'product_length_cm', 'product_height_cm', 'product_width_cm', 'product_category_name_english', 'Year', 'Month', 'Day', 'Hour' ]] "
   ]
  },
  {
   "cell_type": "code",
   "execution_count": null,
   "id": "20f26f30",
   "metadata": {},
   "outputs": [],
   "source": [
    "pd.set_option('display.max_columns', None)"
   ]
  },
  {
   "cell_type": "markdown",
   "id": "67df0497",
   "metadata": {},
   "source": [
    "## 3.4 Feature Engineering"
   ]
  },
  {
   "cell_type": "markdown",
   "id": "6ac0cfea",
   "metadata": {},
   "source": [
    "    Sellers Count:- Number of sellers for each product as a feature.\n",
    "    Products count:- Number of products ordered in each order as a feature.\n",
    "    Estimated Delivery Time(in number of days):- Gets the days between order approval and estimated delivery date. A customer might be unsatisfied if he is told that the estimated time is big.\n",
    "    Actual Delivery Time:- Gets the days between order approval and delivered customer date. A customer might be more satisfied if he gets the product faster.\n",
    "    Difference in delivery days:- The difference between the actual and estimated date. If negative was delivered early, if positive was delivered late. A customer might be more satisfied if the order arrives sooner than expected, or unhappy if he receives after the deadline\n",
    "    Is Late:- Binary variable indicating if the order was delivered after the estimated date.\n",
    "    Average Product Value:- Cheaper products might have lower quality, leaving customers unhappy.\n",
    "    Total Order Value:- If a customer expends more, he might expect a better order fulfilment.\n",
    "    Order Freight Ratio:- If a customer pays more for freight, he might expect a better service.\n",
    "    Purchase Day of Week:- Day of week on which purchase was made.\n",
    "    is_reviewed:- If the review comment is given or not."
   ]
  },
  {
   "cell_type": "code",
   "execution_count": 22,
   "id": "b8716d1c",
   "metadata": {},
   "outputs": [
    {
     "data": {
      "text/html": [
       "<div>\n",
       "<style scoped>\n",
       "    .dataframe tbody tr th:only-of-type {\n",
       "        vertical-align: middle;\n",
       "    }\n",
       "\n",
       "    .dataframe tbody tr th {\n",
       "        vertical-align: top;\n",
       "    }\n",
       "\n",
       "    .dataframe thead th {\n",
       "        text-align: right;\n",
       "    }\n",
       "</style>\n",
       "<table border=\"1\" class=\"dataframe\">\n",
       "  <thead>\n",
       "    <tr style=\"text-align: right;\">\n",
       "      <th></th>\n",
       "      <th>product_id</th>\n",
       "      <th>sellers_count</th>\n",
       "    </tr>\n",
       "  </thead>\n",
       "  <tbody>\n",
       "    <tr>\n",
       "      <th>0</th>\n",
       "      <td>00066f42aeeb9f3007548bb9d3f33c38</td>\n",
       "      <td>1</td>\n",
       "    </tr>\n",
       "    <tr>\n",
       "      <th>1</th>\n",
       "      <td>00088930e925c41fd95ebfe695fd2655</td>\n",
       "      <td>1</td>\n",
       "    </tr>\n",
       "  </tbody>\n",
       "</table>\n",
       "</div>"
      ],
      "text/plain": [
       "                         product_id  sellers_count\n",
       "0  00066f42aeeb9f3007548bb9d3f33c38              1\n",
       "1  00088930e925c41fd95ebfe695fd2655              1"
      ]
     },
     "execution_count": 22,
     "metadata": {},
     "output_type": "execute_result"
    }
   ],
   "source": [
    "# Finding number of sellers for each product as a feature\n",
    "product_id = order_product_item_dataset.groupby('product_id').count()['seller_id'].index\n",
    "seller_count = order_product_item_dataset.groupby('product_id').count()['seller_id'].values\n",
    "product_seller_count = pd.DataFrame({'product_id':product_id,'sellers_count':seller_count})\n",
    "product_seller_count.head(2)"
   ]
  },
  {
   "cell_type": "code",
   "execution_count": 23,
   "id": "99c0e34b",
   "metadata": {},
   "outputs": [
    {
     "data": {
      "text/html": [
       "<div>\n",
       "<style scoped>\n",
       "    .dataframe tbody tr th:only-of-type {\n",
       "        vertical-align: middle;\n",
       "    }\n",
       "\n",
       "    .dataframe tbody tr th {\n",
       "        vertical-align: top;\n",
       "    }\n",
       "\n",
       "    .dataframe thead th {\n",
       "        text-align: right;\n",
       "    }\n",
       "</style>\n",
       "<table border=\"1\" class=\"dataframe\">\n",
       "  <thead>\n",
       "    <tr style=\"text-align: right;\">\n",
       "      <th></th>\n",
       "      <th>order_id</th>\n",
       "      <th>products_count</th>\n",
       "    </tr>\n",
       "  </thead>\n",
       "  <tbody>\n",
       "    <tr>\n",
       "      <th>0</th>\n",
       "      <td>00010242fe8c5a6d1ba2dd792cb16214</td>\n",
       "      <td>1</td>\n",
       "    </tr>\n",
       "    <tr>\n",
       "      <th>1</th>\n",
       "      <td>00018f77f2f0320c557190d7a144bdd3</td>\n",
       "      <td>1</td>\n",
       "    </tr>\n",
       "  </tbody>\n",
       "</table>\n",
       "</div>"
      ],
      "text/plain": [
       "                           order_id  products_count\n",
       "0  00010242fe8c5a6d1ba2dd792cb16214               1\n",
       "1  00018f77f2f0320c557190d7a144bdd3               1"
      ]
     },
     "execution_count": 23,
     "metadata": {},
     "output_type": "execute_result"
    }
   ],
   "source": [
    "# Finding number of products ordered in each order as a feature\n",
    "order_id = order_product_item_dataset.groupby('order_id').count()['product_id'].index\n",
    "pd_count = order_product_item_dataset.groupby('order_id').count()['product_id'].values\n",
    "order_items_count = pd.DataFrame({'order_id':order_id,'products_count':pd_count})\n",
    "order_items_count.head(2)"
   ]
  },
  {
   "cell_type": "code",
   "execution_count": null,
   "id": "12368d49",
   "metadata": {},
   "outputs": [],
   "source": [
    "# Finding number of products ordered in each order as a feature\n",
    "order_id = order_product_item_dataset.groupby('order_id').count()['product_id'].index\n",
    "total_order_value = order_product_item_dataset.groupby('order_id').count()['price'].values\n",
    "order_items_count = pd.DataFrame({'order_id':order_id,'total_order_value':total_order_value})\n",
    "order_items_count.head(2)"
   ]
  },
  {
   "cell_type": "code",
   "execution_count": null,
   "id": "e3b924bd",
   "metadata": {},
   "outputs": [],
   "source": []
  },
  {
   "cell_type": "code",
   "execution_count": null,
   "id": "49daa5ed",
   "metadata": {},
   "outputs": [],
   "source": []
  },
  {
   "cell_type": "code",
   "execution_count": 24,
   "id": "1523bc68",
   "metadata": {},
   "outputs": [],
   "source": [
    "# Adding the seller count and products count feature to the final data set\n",
    "df_final = pd.merge(df_final,product_seller_count,on='product_id')\n",
    "df_final = pd.merge(df_final,order_items_count,on='order_id')"
   ]
  },
  {
   "cell_type": "code",
   "execution_count": 25,
   "id": "4d7ccae4",
   "metadata": {},
   "outputs": [],
   "source": [
    "# converting date to datetime and extracting dates from the datetime columns in the data set\n",
    "datetime_cols = ['order_purchase_timestamp','order_approved_at','order_delivered_customer_date','order_estimated_delivery_date']\n",
    "for col in datetime_cols:\n",
    "    df_final[col] = pd.to_datetime(df_final[col]).dt.date"
   ]
  },
  {
   "cell_type": "code",
   "execution_count": 26,
   "id": "497cb4dd",
   "metadata": {},
   "outputs": [],
   "source": [
    "# calculating estimated delivery time\n",
    "df_final['estimated_delivery_time'] = (df_final['order_estimated_delivery_date'] - df_final['order_approved_at']).dt.days\n",
    "\n",
    "# calculating actual delivery time\n",
    "df_final['actual_delivery_time'] = (df_final['order_delivered_customer_date'] - df_final['order_approved_at']).dt.days\n",
    "\n",
    "# calculating diff_in_delivery_time\n",
    "df_final['diff_in_delivery_time'] = df_final['estimated_delivery_time'] - df_final['actual_delivery_time']\n",
    "\n",
    "# finding if delivery was late\n",
    "df_final['on_time_delivery'] = df_final['order_delivered_customer_date'] < df_final['order_estimated_delivery_date']\n",
    "df_final['on_time_delivery'] = df_final['on_time_delivery'].astype('int')\n",
    "\n",
    "# calculating mean product value\n",
    "df_final['avg_product_value'] = df_final['price']/df_final['products_count']\n",
    "\n",
    "# finding total order cost\n",
    "df_final['total_order_cost'] = df_final['price'] + df_final['freight_value']\n",
    "\n",
    "# calculating order freight ratio\n",
    "df_final['order_freight_ratio'] = df_final['freight_value']/df_final['price']\n",
    "\n",
    "# finding the day of week on which order was made\n",
    "df_final['purchase_dayofweek'] = pd.to_datetime(df_final['order_purchase_timestamp']).dt.dayofweek\n",
    "\n",
    "# finding the day of month on which order was made\n",
    "df_final['purchase_dayofmonth'] = pd.to_datetime(df_final['order_purchase_timestamp']).dt.day\n",
    "\n",
    "# finding the week of month on which order was made\n",
    "df_final['purchase_weekofmonth'] = df_final['purchase_dayofmonth']//7\n",
    "\n",
    "# finding the week year on which order was made\n",
    "df_final['purchase_weekofyear'] = pd.to_datetime(df_final['order_purchase_timestamp']).dt.isocalendar().week\n",
    "\n",
    "# adding is_reviewed where 1 is if review comment is given otherwise 0.\n",
    "df_final['is_reviewed'] = (df_final['review_comment_message'] != 'no_review').astype('int')"
   ]
  },
  {
   "cell_type": "markdown",
   "id": "6ab064fd",
   "metadata": {},
   "source": [
    "## Dropping date columns and id columns like seller_id, order_id etc."
   ]
  },
  {
   "cell_type": "code",
   "execution_count": 27,
   "id": "765012b4",
   "metadata": {},
   "outputs": [],
   "source": [
    "df_final.drop(columns=['order_item_id', 'seller_id','shipping_limit_date',\n",
    "                       'order_purchase_timestamp', 'order_approved_at', 'customer_unique_id'], axis=1,inplace=True)"
   ]
  },
  {
   "cell_type": "code",
   "execution_count": 124,
   "id": "85a1f090",
   "metadata": {},
   "outputs": [
    {
     "data": {
      "text/html": [
       "<div>\n",
       "<style scoped>\n",
       "    .dataframe tbody tr th:only-of-type {\n",
       "        vertical-align: middle;\n",
       "    }\n",
       "\n",
       "    .dataframe tbody tr th {\n",
       "        vertical-align: top;\n",
       "    }\n",
       "\n",
       "    .dataframe thead th {\n",
       "        text-align: right;\n",
       "    }\n",
       "</style>\n",
       "<table border=\"1\" class=\"dataframe\">\n",
       "  <thead>\n",
       "    <tr style=\"text-align: right;\">\n",
       "      <th></th>\n",
       "      <th>order_id</th>\n",
       "      <th>product_id</th>\n",
       "      <th>price</th>\n",
       "      <th>freight_value</th>\n",
       "      <th>product_name_lenght</th>\n",
       "      <th>product_description_lenght</th>\n",
       "      <th>product_photos_qty</th>\n",
       "      <th>product_weight_g</th>\n",
       "      <th>product_length_cm</th>\n",
       "      <th>product_height_cm</th>\n",
       "      <th>product_width_cm</th>\n",
       "      <th>product_category_name_english</th>\n",
       "      <th>review_score</th>\n",
       "      <th>review_comment_message</th>\n",
       "      <th>customer_id</th>\n",
       "      <th>order_status</th>\n",
       "      <th>order_delivered_customer_date</th>\n",
       "      <th>order_estimated_delivery_date</th>\n",
       "      <th>payment_sequential</th>\n",
       "      <th>payment_type</th>\n",
       "      <th>payment_installments</th>\n",
       "      <th>payment_value</th>\n",
       "      <th>customer_zip_code_prefix</th>\n",
       "      <th>customer_city</th>\n",
       "      <th>customer_state</th>\n",
       "      <th>sellers_count</th>\n",
       "      <th>products_count</th>\n",
       "      <th>estimated_delivery_time</th>\n",
       "      <th>actual_delivery_time</th>\n",
       "      <th>diff_in_delivery_time</th>\n",
       "      <th>on_time_delivery</th>\n",
       "      <th>avg_product_value</th>\n",
       "      <th>total_order_cost</th>\n",
       "      <th>order_freight_ratio</th>\n",
       "      <th>purchase_dayofweek</th>\n",
       "      <th>purchase_dayofmonth</th>\n",
       "      <th>purchase_weekofmonth</th>\n",
       "      <th>purchase_weekofyear</th>\n",
       "      <th>is_reviewed</th>\n",
       "      <th>customer_id_int</th>\n",
       "      <th>product_id_int</th>\n",
       "    </tr>\n",
       "  </thead>\n",
       "  <tbody>\n",
       "    <tr>\n",
       "      <th>0</th>\n",
       "      <td>00010242fe8c5a6d1ba2dd792cb16214</td>\n",
       "      <td>4244733e06e7ecb4970a6e2683c13e61</td>\n",
       "      <td>58.9</td>\n",
       "      <td>13.29</td>\n",
       "      <td>58.0</td>\n",
       "      <td>598.0</td>\n",
       "      <td>4.0</td>\n",
       "      <td>650.0</td>\n",
       "      <td>28.0</td>\n",
       "      <td>9.0</td>\n",
       "      <td>14.0</td>\n",
       "      <td>cool_stuff</td>\n",
       "      <td>5</td>\n",
       "      <td>Perfeito, produto entregue antes do combinado.</td>\n",
       "      <td>3ce436f183e68e07877b285a838db11a</td>\n",
       "      <td>delivered</td>\n",
       "      <td>2017-09-20</td>\n",
       "      <td>2017-09-29</td>\n",
       "      <td>1</td>\n",
       "      <td>credit_card</td>\n",
       "      <td>2</td>\n",
       "      <td>72.19</td>\n",
       "      <td>28013</td>\n",
       "      <td>campos dos goytacazes</td>\n",
       "      <td>RJ</td>\n",
       "      <td>9</td>\n",
       "      <td>1</td>\n",
       "      <td>16</td>\n",
       "      <td>7</td>\n",
       "      <td>9</td>\n",
       "      <td>1</td>\n",
       "      <td>58.9</td>\n",
       "      <td>72.19</td>\n",
       "      <td>0.225637</td>\n",
       "      <td>2</td>\n",
       "      <td>13</td>\n",
       "      <td>1</td>\n",
       "      <td>37</td>\n",
       "      <td>1</td>\n",
       "      <td>0</td>\n",
       "      <td>0</td>\n",
       "    </tr>\n",
       "    <tr>\n",
       "      <th>1</th>\n",
       "      <td>130898c0987d1801452a8ed92a670612</td>\n",
       "      <td>4244733e06e7ecb4970a6e2683c13e61</td>\n",
       "      <td>55.9</td>\n",
       "      <td>17.96</td>\n",
       "      <td>58.0</td>\n",
       "      <td>598.0</td>\n",
       "      <td>4.0</td>\n",
       "      <td>650.0</td>\n",
       "      <td>28.0</td>\n",
       "      <td>9.0</td>\n",
       "      <td>14.0</td>\n",
       "      <td>cool_stuff</td>\n",
       "      <td>5</td>\n",
       "      <td>lannister como sempre, entregou certinho e den...</td>\n",
       "      <td>e6eecc5a77de221464d1c4eaff0a9b64</td>\n",
       "      <td>delivered</td>\n",
       "      <td>2017-07-13</td>\n",
       "      <td>2017-07-26</td>\n",
       "      <td>1</td>\n",
       "      <td>boleto</td>\n",
       "      <td>1</td>\n",
       "      <td>73.86</td>\n",
       "      <td>75800</td>\n",
       "      <td>jatai</td>\n",
       "      <td>GO</td>\n",
       "      <td>9</td>\n",
       "      <td>1</td>\n",
       "      <td>27</td>\n",
       "      <td>14</td>\n",
       "      <td>13</td>\n",
       "      <td>1</td>\n",
       "      <td>55.9</td>\n",
       "      <td>73.86</td>\n",
       "      <td>0.321288</td>\n",
       "      <td>2</td>\n",
       "      <td>28</td>\n",
       "      <td>4</td>\n",
       "      <td>26</td>\n",
       "      <td>1</td>\n",
       "      <td>1</td>\n",
       "      <td>0</td>\n",
       "    </tr>\n",
       "    <tr>\n",
       "      <th>2</th>\n",
       "      <td>532ed5e14e24ae1f0d735b91524b98b9</td>\n",
       "      <td>4244733e06e7ecb4970a6e2683c13e61</td>\n",
       "      <td>64.9</td>\n",
       "      <td>18.33</td>\n",
       "      <td>58.0</td>\n",
       "      <td>598.0</td>\n",
       "      <td>4.0</td>\n",
       "      <td>650.0</td>\n",
       "      <td>28.0</td>\n",
       "      <td>9.0</td>\n",
       "      <td>14.0</td>\n",
       "      <td>cool_stuff</td>\n",
       "      <td>4</td>\n",
       "      <td>carrinho muito bonito</td>\n",
       "      <td>4ef55bf80f711b372afebcb7c715344a</td>\n",
       "      <td>delivered</td>\n",
       "      <td>2018-06-04</td>\n",
       "      <td>2018-06-07</td>\n",
       "      <td>1</td>\n",
       "      <td>credit_card</td>\n",
       "      <td>2</td>\n",
       "      <td>83.23</td>\n",
       "      <td>30720</td>\n",
       "      <td>belo horizonte</td>\n",
       "      <td>MG</td>\n",
       "      <td>9</td>\n",
       "      <td>1</td>\n",
       "      <td>20</td>\n",
       "      <td>17</td>\n",
       "      <td>3</td>\n",
       "      <td>1</td>\n",
       "      <td>64.9</td>\n",
       "      <td>83.23</td>\n",
       "      <td>0.282435</td>\n",
       "      <td>4</td>\n",
       "      <td>18</td>\n",
       "      <td>2</td>\n",
       "      <td>20</td>\n",
       "      <td>1</td>\n",
       "      <td>2</td>\n",
       "      <td>0</td>\n",
       "    </tr>\n",
       "    <tr>\n",
       "      <th>3</th>\n",
       "      <td>6f8c31653edb8c83e1a739408b5ff750</td>\n",
       "      <td>4244733e06e7ecb4970a6e2683c13e61</td>\n",
       "      <td>58.9</td>\n",
       "      <td>16.17</td>\n",
       "      <td>58.0</td>\n",
       "      <td>598.0</td>\n",
       "      <td>4.0</td>\n",
       "      <td>650.0</td>\n",
       "      <td>28.0</td>\n",
       "      <td>9.0</td>\n",
       "      <td>14.0</td>\n",
       "      <td>cool_stuff</td>\n",
       "      <td>5</td>\n",
       "      <td>no_review</td>\n",
       "      <td>30407a72ad8b3f4df4d15369126b20c9</td>\n",
       "      <td>delivered</td>\n",
       "      <td>2017-08-09</td>\n",
       "      <td>2017-08-25</td>\n",
       "      <td>1</td>\n",
       "      <td>credit_card</td>\n",
       "      <td>3</td>\n",
       "      <td>75.07</td>\n",
       "      <td>83070</td>\n",
       "      <td>sao jose dos pinhais</td>\n",
       "      <td>PR</td>\n",
       "      <td>9</td>\n",
       "      <td>1</td>\n",
       "      <td>24</td>\n",
       "      <td>8</td>\n",
       "      <td>16</td>\n",
       "      <td>1</td>\n",
       "      <td>58.9</td>\n",
       "      <td>75.07</td>\n",
       "      <td>0.274533</td>\n",
       "      <td>1</td>\n",
       "      <td>1</td>\n",
       "      <td>0</td>\n",
       "      <td>31</td>\n",
       "      <td>0</td>\n",
       "      <td>3</td>\n",
       "      <td>0</td>\n",
       "    </tr>\n",
       "    <tr>\n",
       "      <th>4</th>\n",
       "      <td>7d19f4ef4d04461989632411b7e588b9</td>\n",
       "      <td>4244733e06e7ecb4970a6e2683c13e61</td>\n",
       "      <td>58.9</td>\n",
       "      <td>13.29</td>\n",
       "      <td>58.0</td>\n",
       "      <td>598.0</td>\n",
       "      <td>4.0</td>\n",
       "      <td>650.0</td>\n",
       "      <td>28.0</td>\n",
       "      <td>9.0</td>\n",
       "      <td>14.0</td>\n",
       "      <td>cool_stuff</td>\n",
       "      <td>5</td>\n",
       "      <td>no_review</td>\n",
       "      <td>91a792fef70ecd8cc69d3c7feb3d12da</td>\n",
       "      <td>delivered</td>\n",
       "      <td>2017-08-24</td>\n",
       "      <td>2017-09-01</td>\n",
       "      <td>1</td>\n",
       "      <td>credit_card</td>\n",
       "      <td>4</td>\n",
       "      <td>72.19</td>\n",
       "      <td>36400</td>\n",
       "      <td>conselheiro lafaiete</td>\n",
       "      <td>MG</td>\n",
       "      <td>9</td>\n",
       "      <td>1</td>\n",
       "      <td>22</td>\n",
       "      <td>14</td>\n",
       "      <td>8</td>\n",
       "      <td>1</td>\n",
       "      <td>58.9</td>\n",
       "      <td>72.19</td>\n",
       "      <td>0.225637</td>\n",
       "      <td>3</td>\n",
       "      <td>10</td>\n",
       "      <td>1</td>\n",
       "      <td>32</td>\n",
       "      <td>0</td>\n",
       "      <td>4</td>\n",
       "      <td>0</td>\n",
       "    </tr>\n",
       "  </tbody>\n",
       "</table>\n",
       "</div>"
      ],
      "text/plain": [
       "                           order_id                        product_id  price  \\\n",
       "0  00010242fe8c5a6d1ba2dd792cb16214  4244733e06e7ecb4970a6e2683c13e61   58.9   \n",
       "1  130898c0987d1801452a8ed92a670612  4244733e06e7ecb4970a6e2683c13e61   55.9   \n",
       "2  532ed5e14e24ae1f0d735b91524b98b9  4244733e06e7ecb4970a6e2683c13e61   64.9   \n",
       "3  6f8c31653edb8c83e1a739408b5ff750  4244733e06e7ecb4970a6e2683c13e61   58.9   \n",
       "4  7d19f4ef4d04461989632411b7e588b9  4244733e06e7ecb4970a6e2683c13e61   58.9   \n",
       "\n",
       "   freight_value  product_name_lenght  product_description_lenght  \\\n",
       "0          13.29                 58.0                       598.0   \n",
       "1          17.96                 58.0                       598.0   \n",
       "2          18.33                 58.0                       598.0   \n",
       "3          16.17                 58.0                       598.0   \n",
       "4          13.29                 58.0                       598.0   \n",
       "\n",
       "   product_photos_qty  product_weight_g  product_length_cm  product_height_cm  \\\n",
       "0                 4.0             650.0               28.0                9.0   \n",
       "1                 4.0             650.0               28.0                9.0   \n",
       "2                 4.0             650.0               28.0                9.0   \n",
       "3                 4.0             650.0               28.0                9.0   \n",
       "4                 4.0             650.0               28.0                9.0   \n",
       "\n",
       "   product_width_cm product_category_name_english  review_score  \\\n",
       "0              14.0                    cool_stuff             5   \n",
       "1              14.0                    cool_stuff             5   \n",
       "2              14.0                    cool_stuff             4   \n",
       "3              14.0                    cool_stuff             5   \n",
       "4              14.0                    cool_stuff             5   \n",
       "\n",
       "                              review_comment_message  \\\n",
       "0     Perfeito, produto entregue antes do combinado.   \n",
       "1  lannister como sempre, entregou certinho e den...   \n",
       "2                              carrinho muito bonito   \n",
       "3                                          no_review   \n",
       "4                                          no_review   \n",
       "\n",
       "                        customer_id order_status  \\\n",
       "0  3ce436f183e68e07877b285a838db11a    delivered   \n",
       "1  e6eecc5a77de221464d1c4eaff0a9b64    delivered   \n",
       "2  4ef55bf80f711b372afebcb7c715344a    delivered   \n",
       "3  30407a72ad8b3f4df4d15369126b20c9    delivered   \n",
       "4  91a792fef70ecd8cc69d3c7feb3d12da    delivered   \n",
       "\n",
       "  order_delivered_customer_date order_estimated_delivery_date  \\\n",
       "0                    2017-09-20                    2017-09-29   \n",
       "1                    2017-07-13                    2017-07-26   \n",
       "2                    2018-06-04                    2018-06-07   \n",
       "3                    2017-08-09                    2017-08-25   \n",
       "4                    2017-08-24                    2017-09-01   \n",
       "\n",
       "   payment_sequential payment_type  payment_installments  payment_value  \\\n",
       "0                   1  credit_card                     2          72.19   \n",
       "1                   1       boleto                     1          73.86   \n",
       "2                   1  credit_card                     2          83.23   \n",
       "3                   1  credit_card                     3          75.07   \n",
       "4                   1  credit_card                     4          72.19   \n",
       "\n",
       "   customer_zip_code_prefix          customer_city customer_state  \\\n",
       "0                     28013  campos dos goytacazes             RJ   \n",
       "1                     75800                  jatai             GO   \n",
       "2                     30720         belo horizonte             MG   \n",
       "3                     83070   sao jose dos pinhais             PR   \n",
       "4                     36400   conselheiro lafaiete             MG   \n",
       "\n",
       "   sellers_count  products_count  estimated_delivery_time  \\\n",
       "0              9               1                       16   \n",
       "1              9               1                       27   \n",
       "2              9               1                       20   \n",
       "3              9               1                       24   \n",
       "4              9               1                       22   \n",
       "\n",
       "   actual_delivery_time  diff_in_delivery_time  on_time_delivery  \\\n",
       "0                     7                      9                 1   \n",
       "1                    14                     13                 1   \n",
       "2                    17                      3                 1   \n",
       "3                     8                     16                 1   \n",
       "4                    14                      8                 1   \n",
       "\n",
       "   avg_product_value  total_order_cost  order_freight_ratio  \\\n",
       "0               58.9             72.19             0.225637   \n",
       "1               55.9             73.86             0.321288   \n",
       "2               64.9             83.23             0.282435   \n",
       "3               58.9             75.07             0.274533   \n",
       "4               58.9             72.19             0.225637   \n",
       "\n",
       "   purchase_dayofweek  purchase_dayofmonth  purchase_weekofmonth  \\\n",
       "0                   2                   13                     1   \n",
       "1                   2                   28                     4   \n",
       "2                   4                   18                     2   \n",
       "3                   1                    1                     0   \n",
       "4                   3                   10                     1   \n",
       "\n",
       "   purchase_weekofyear  is_reviewed  customer_id_int  product_id_int  \n",
       "0                   37            1                0               0  \n",
       "1                   26            1                1               0  \n",
       "2                   20            1                2               0  \n",
       "3                   31            0                3               0  \n",
       "4                   32            0                4               0  "
      ]
     },
     "execution_count": 124,
     "metadata": {},
     "output_type": "execute_result"
    }
   ],
   "source": [
    "df_final.head()"
   ]
  },
  {
   "cell_type": "markdown",
   "id": "4709c13d",
   "metadata": {},
   "source": [
    "## Numerical data impute"
   ]
  },
  {
   "cell_type": "code",
   "execution_count": 26,
   "id": "5f4948f1",
   "metadata": {},
   "outputs": [],
   "source": [
    "# numerical features\n",
    "num_feat = ['price', 'freight_value', 'product_name_lenght','product_description_lenght', 'product_photos_qty',\n",
    "           'product_weight_g','product_length_cm', 'product_height_cm', 'product_width_cm','sellers_count', \n",
    "           'products_count', 'payment_sequential','payment_installments', 'payment_value','on_time_delivery', \n",
    "           'estimated_delivery_time','actual_delivery_time', 'diff_in_delivery_time','avg_product_value', 'purchase_dayofweek',\n",
    "           'total_order_cost', 'order_freight_ratio','is_reviewed']\n",
    "\n",
    "# categorical features\n",
    "cat_feat = ['review_comment_message','product_category_name_english','order_status', 'payment_type']"
   ]
  },
  {
   "cell_type": "code",
   "execution_count": 27,
   "id": "28a030e0",
   "metadata": {},
   "outputs": [],
   "source": [
    "# add median value\n",
    "from sklearn.impute import SimpleImputer\n",
    "si = SimpleImputer(strategy='median')\n",
    "si.fit(df_final[num_feat])\n",
    "df_final[num_feat] = si.transform(df_final[num_feat])"
   ]
  },
  {
   "cell_type": "code",
   "execution_count": 28,
   "id": "544f6860",
   "metadata": {},
   "outputs": [],
   "source": [
    "# Encoding categorical variable\n",
    "df_final['payment_type'] = df_final['payment_type'].replace({'credit_card':1,'boleto':2,'voucher':3,'debit_card':4})"
   ]
  },
  {
   "cell_type": "code",
   "execution_count": 29,
   "id": "b3527d0a",
   "metadata": {},
   "outputs": [],
   "source": [
    "# one hot encoding of delivery status\n",
    "vect = CountVectorizer()\n",
    "vect.fit(df_final['order_status'])\n",
    "\n",
    "df_final['order_status_vectorized'] = vect.transform(df_final['order_status'])"
   ]
  },
  {
   "cell_type": "code",
   "execution_count": 30,
   "id": "f7ffd287",
   "metadata": {},
   "outputs": [],
   "source": [
    "# TODO : fix this "
   ]
  },
  {
   "cell_type": "markdown",
   "id": "ab9df2c9",
   "metadata": {},
   "source": [
    "## Encoding numerical features using Normalization"
   ]
  },
  {
   "cell_type": "code",
   "execution_count": 31,
   "id": "5af0aac2",
   "metadata": {},
   "outputs": [],
   "source": [
    "# TODO :"
   ]
  },
  {
   "cell_type": "code",
   "execution_count": 29,
   "id": "17d241c3",
   "metadata": {},
   "outputs": [
    {
     "data": {
      "text/html": [
       "<div>\n",
       "<style scoped>\n",
       "    .dataframe tbody tr th:only-of-type {\n",
       "        vertical-align: middle;\n",
       "    }\n",
       "\n",
       "    .dataframe tbody tr th {\n",
       "        vertical-align: top;\n",
       "    }\n",
       "\n",
       "    .dataframe thead th {\n",
       "        text-align: right;\n",
       "    }\n",
       "</style>\n",
       "<table border=\"1\" class=\"dataframe\">\n",
       "  <thead>\n",
       "    <tr style=\"text-align: right;\">\n",
       "      <th></th>\n",
       "      <th>order_id</th>\n",
       "      <th>product_id</th>\n",
       "      <th>price</th>\n",
       "      <th>freight_value</th>\n",
       "      <th>product_name_lenght</th>\n",
       "      <th>product_description_lenght</th>\n",
       "      <th>product_photos_qty</th>\n",
       "      <th>product_weight_g</th>\n",
       "      <th>product_length_cm</th>\n",
       "      <th>product_height_cm</th>\n",
       "      <th>product_width_cm</th>\n",
       "      <th>product_category_name_english</th>\n",
       "      <th>review_score</th>\n",
       "      <th>review_comment_message</th>\n",
       "      <th>customer_id</th>\n",
       "      <th>order_status</th>\n",
       "      <th>order_delivered_customer_date</th>\n",
       "      <th>order_estimated_delivery_date</th>\n",
       "      <th>payment_sequential</th>\n",
       "      <th>payment_type</th>\n",
       "      <th>payment_installments</th>\n",
       "      <th>payment_value</th>\n",
       "      <th>customer_zip_code_prefix</th>\n",
       "      <th>customer_city</th>\n",
       "      <th>customer_state</th>\n",
       "      <th>sellers_count</th>\n",
       "      <th>products_count</th>\n",
       "      <th>estimated_delivery_time</th>\n",
       "      <th>actual_delivery_time</th>\n",
       "      <th>diff_in_delivery_time</th>\n",
       "      <th>on_time_delivery</th>\n",
       "      <th>avg_product_value</th>\n",
       "      <th>total_order_cost</th>\n",
       "      <th>order_freight_ratio</th>\n",
       "      <th>purchase_dayofweek</th>\n",
       "      <th>purchase_dayofmonth</th>\n",
       "      <th>purchase_weekofmonth</th>\n",
       "      <th>purchase_weekofyear</th>\n",
       "      <th>is_reviewed</th>\n",
       "    </tr>\n",
       "  </thead>\n",
       "  <tbody>\n",
       "    <tr>\n",
       "      <th>0</th>\n",
       "      <td>00010242fe8c5a6d1ba2dd792cb16214</td>\n",
       "      <td>4244733e06e7ecb4970a6e2683c13e61</td>\n",
       "      <td>58.9</td>\n",
       "      <td>13.29</td>\n",
       "      <td>58.0</td>\n",
       "      <td>598.0</td>\n",
       "      <td>4.0</td>\n",
       "      <td>650.0</td>\n",
       "      <td>28.0</td>\n",
       "      <td>9.0</td>\n",
       "      <td>14.0</td>\n",
       "      <td>cool_stuff</td>\n",
       "      <td>5</td>\n",
       "      <td>Perfeito, produto entregue antes do combinado.</td>\n",
       "      <td>3ce436f183e68e07877b285a838db11a</td>\n",
       "      <td>delivered</td>\n",
       "      <td>2017-09-20</td>\n",
       "      <td>2017-09-29</td>\n",
       "      <td>1</td>\n",
       "      <td>credit_card</td>\n",
       "      <td>2</td>\n",
       "      <td>72.19</td>\n",
       "      <td>28013</td>\n",
       "      <td>campos dos goytacazes</td>\n",
       "      <td>RJ</td>\n",
       "      <td>9</td>\n",
       "      <td>1</td>\n",
       "      <td>16</td>\n",
       "      <td>7</td>\n",
       "      <td>9</td>\n",
       "      <td>1</td>\n",
       "      <td>58.9</td>\n",
       "      <td>72.19</td>\n",
       "      <td>0.225637</td>\n",
       "      <td>2</td>\n",
       "      <td>13</td>\n",
       "      <td>1</td>\n",
       "      <td>37</td>\n",
       "      <td>1</td>\n",
       "    </tr>\n",
       "    <tr>\n",
       "      <th>1</th>\n",
       "      <td>130898c0987d1801452a8ed92a670612</td>\n",
       "      <td>4244733e06e7ecb4970a6e2683c13e61</td>\n",
       "      <td>55.9</td>\n",
       "      <td>17.96</td>\n",
       "      <td>58.0</td>\n",
       "      <td>598.0</td>\n",
       "      <td>4.0</td>\n",
       "      <td>650.0</td>\n",
       "      <td>28.0</td>\n",
       "      <td>9.0</td>\n",
       "      <td>14.0</td>\n",
       "      <td>cool_stuff</td>\n",
       "      <td>5</td>\n",
       "      <td>lannister como sempre, entregou certinho e den...</td>\n",
       "      <td>e6eecc5a77de221464d1c4eaff0a9b64</td>\n",
       "      <td>delivered</td>\n",
       "      <td>2017-07-13</td>\n",
       "      <td>2017-07-26</td>\n",
       "      <td>1</td>\n",
       "      <td>boleto</td>\n",
       "      <td>1</td>\n",
       "      <td>73.86</td>\n",
       "      <td>75800</td>\n",
       "      <td>jatai</td>\n",
       "      <td>GO</td>\n",
       "      <td>9</td>\n",
       "      <td>1</td>\n",
       "      <td>27</td>\n",
       "      <td>14</td>\n",
       "      <td>13</td>\n",
       "      <td>1</td>\n",
       "      <td>55.9</td>\n",
       "      <td>73.86</td>\n",
       "      <td>0.321288</td>\n",
       "      <td>2</td>\n",
       "      <td>28</td>\n",
       "      <td>4</td>\n",
       "      <td>26</td>\n",
       "      <td>1</td>\n",
       "    </tr>\n",
       "    <tr>\n",
       "      <th>2</th>\n",
       "      <td>532ed5e14e24ae1f0d735b91524b98b9</td>\n",
       "      <td>4244733e06e7ecb4970a6e2683c13e61</td>\n",
       "      <td>64.9</td>\n",
       "      <td>18.33</td>\n",
       "      <td>58.0</td>\n",
       "      <td>598.0</td>\n",
       "      <td>4.0</td>\n",
       "      <td>650.0</td>\n",
       "      <td>28.0</td>\n",
       "      <td>9.0</td>\n",
       "      <td>14.0</td>\n",
       "      <td>cool_stuff</td>\n",
       "      <td>4</td>\n",
       "      <td>carrinho muito bonito</td>\n",
       "      <td>4ef55bf80f711b372afebcb7c715344a</td>\n",
       "      <td>delivered</td>\n",
       "      <td>2018-06-04</td>\n",
       "      <td>2018-06-07</td>\n",
       "      <td>1</td>\n",
       "      <td>credit_card</td>\n",
       "      <td>2</td>\n",
       "      <td>83.23</td>\n",
       "      <td>30720</td>\n",
       "      <td>belo horizonte</td>\n",
       "      <td>MG</td>\n",
       "      <td>9</td>\n",
       "      <td>1</td>\n",
       "      <td>20</td>\n",
       "      <td>17</td>\n",
       "      <td>3</td>\n",
       "      <td>1</td>\n",
       "      <td>64.9</td>\n",
       "      <td>83.23</td>\n",
       "      <td>0.282435</td>\n",
       "      <td>4</td>\n",
       "      <td>18</td>\n",
       "      <td>2</td>\n",
       "      <td>20</td>\n",
       "      <td>1</td>\n",
       "    </tr>\n",
       "    <tr>\n",
       "      <th>3</th>\n",
       "      <td>6f8c31653edb8c83e1a739408b5ff750</td>\n",
       "      <td>4244733e06e7ecb4970a6e2683c13e61</td>\n",
       "      <td>58.9</td>\n",
       "      <td>16.17</td>\n",
       "      <td>58.0</td>\n",
       "      <td>598.0</td>\n",
       "      <td>4.0</td>\n",
       "      <td>650.0</td>\n",
       "      <td>28.0</td>\n",
       "      <td>9.0</td>\n",
       "      <td>14.0</td>\n",
       "      <td>cool_stuff</td>\n",
       "      <td>5</td>\n",
       "      <td>no_review</td>\n",
       "      <td>30407a72ad8b3f4df4d15369126b20c9</td>\n",
       "      <td>delivered</td>\n",
       "      <td>2017-08-09</td>\n",
       "      <td>2017-08-25</td>\n",
       "      <td>1</td>\n",
       "      <td>credit_card</td>\n",
       "      <td>3</td>\n",
       "      <td>75.07</td>\n",
       "      <td>83070</td>\n",
       "      <td>sao jose dos pinhais</td>\n",
       "      <td>PR</td>\n",
       "      <td>9</td>\n",
       "      <td>1</td>\n",
       "      <td>24</td>\n",
       "      <td>8</td>\n",
       "      <td>16</td>\n",
       "      <td>1</td>\n",
       "      <td>58.9</td>\n",
       "      <td>75.07</td>\n",
       "      <td>0.274533</td>\n",
       "      <td>1</td>\n",
       "      <td>1</td>\n",
       "      <td>0</td>\n",
       "      <td>31</td>\n",
       "      <td>0</td>\n",
       "    </tr>\n",
       "    <tr>\n",
       "      <th>4</th>\n",
       "      <td>7d19f4ef4d04461989632411b7e588b9</td>\n",
       "      <td>4244733e06e7ecb4970a6e2683c13e61</td>\n",
       "      <td>58.9</td>\n",
       "      <td>13.29</td>\n",
       "      <td>58.0</td>\n",
       "      <td>598.0</td>\n",
       "      <td>4.0</td>\n",
       "      <td>650.0</td>\n",
       "      <td>28.0</td>\n",
       "      <td>9.0</td>\n",
       "      <td>14.0</td>\n",
       "      <td>cool_stuff</td>\n",
       "      <td>5</td>\n",
       "      <td>no_review</td>\n",
       "      <td>91a792fef70ecd8cc69d3c7feb3d12da</td>\n",
       "      <td>delivered</td>\n",
       "      <td>2017-08-24</td>\n",
       "      <td>2017-09-01</td>\n",
       "      <td>1</td>\n",
       "      <td>credit_card</td>\n",
       "      <td>4</td>\n",
       "      <td>72.19</td>\n",
       "      <td>36400</td>\n",
       "      <td>conselheiro lafaiete</td>\n",
       "      <td>MG</td>\n",
       "      <td>9</td>\n",
       "      <td>1</td>\n",
       "      <td>22</td>\n",
       "      <td>14</td>\n",
       "      <td>8</td>\n",
       "      <td>1</td>\n",
       "      <td>58.9</td>\n",
       "      <td>72.19</td>\n",
       "      <td>0.225637</td>\n",
       "      <td>3</td>\n",
       "      <td>10</td>\n",
       "      <td>1</td>\n",
       "      <td>32</td>\n",
       "      <td>0</td>\n",
       "    </tr>\n",
       "  </tbody>\n",
       "</table>\n",
       "</div>"
      ],
      "text/plain": [
       "                           order_id                        product_id  price  \\\n",
       "0  00010242fe8c5a6d1ba2dd792cb16214  4244733e06e7ecb4970a6e2683c13e61   58.9   \n",
       "1  130898c0987d1801452a8ed92a670612  4244733e06e7ecb4970a6e2683c13e61   55.9   \n",
       "2  532ed5e14e24ae1f0d735b91524b98b9  4244733e06e7ecb4970a6e2683c13e61   64.9   \n",
       "3  6f8c31653edb8c83e1a739408b5ff750  4244733e06e7ecb4970a6e2683c13e61   58.9   \n",
       "4  7d19f4ef4d04461989632411b7e588b9  4244733e06e7ecb4970a6e2683c13e61   58.9   \n",
       "\n",
       "   freight_value  product_name_lenght  product_description_lenght  \\\n",
       "0          13.29                 58.0                       598.0   \n",
       "1          17.96                 58.0                       598.0   \n",
       "2          18.33                 58.0                       598.0   \n",
       "3          16.17                 58.0                       598.0   \n",
       "4          13.29                 58.0                       598.0   \n",
       "\n",
       "   product_photos_qty  product_weight_g  product_length_cm  product_height_cm  \\\n",
       "0                 4.0             650.0               28.0                9.0   \n",
       "1                 4.0             650.0               28.0                9.0   \n",
       "2                 4.0             650.0               28.0                9.0   \n",
       "3                 4.0             650.0               28.0                9.0   \n",
       "4                 4.0             650.0               28.0                9.0   \n",
       "\n",
       "   product_width_cm product_category_name_english  review_score  \\\n",
       "0              14.0                    cool_stuff             5   \n",
       "1              14.0                    cool_stuff             5   \n",
       "2              14.0                    cool_stuff             4   \n",
       "3              14.0                    cool_stuff             5   \n",
       "4              14.0                    cool_stuff             5   \n",
       "\n",
       "                              review_comment_message  \\\n",
       "0     Perfeito, produto entregue antes do combinado.   \n",
       "1  lannister como sempre, entregou certinho e den...   \n",
       "2                              carrinho muito bonito   \n",
       "3                                          no_review   \n",
       "4                                          no_review   \n",
       "\n",
       "                        customer_id order_status  \\\n",
       "0  3ce436f183e68e07877b285a838db11a    delivered   \n",
       "1  e6eecc5a77de221464d1c4eaff0a9b64    delivered   \n",
       "2  4ef55bf80f711b372afebcb7c715344a    delivered   \n",
       "3  30407a72ad8b3f4df4d15369126b20c9    delivered   \n",
       "4  91a792fef70ecd8cc69d3c7feb3d12da    delivered   \n",
       "\n",
       "  order_delivered_customer_date order_estimated_delivery_date  \\\n",
       "0                    2017-09-20                    2017-09-29   \n",
       "1                    2017-07-13                    2017-07-26   \n",
       "2                    2018-06-04                    2018-06-07   \n",
       "3                    2017-08-09                    2017-08-25   \n",
       "4                    2017-08-24                    2017-09-01   \n",
       "\n",
       "   payment_sequential payment_type  payment_installments  payment_value  \\\n",
       "0                   1  credit_card                     2          72.19   \n",
       "1                   1       boleto                     1          73.86   \n",
       "2                   1  credit_card                     2          83.23   \n",
       "3                   1  credit_card                     3          75.07   \n",
       "4                   1  credit_card                     4          72.19   \n",
       "\n",
       "   customer_zip_code_prefix          customer_city customer_state  \\\n",
       "0                     28013  campos dos goytacazes             RJ   \n",
       "1                     75800                  jatai             GO   \n",
       "2                     30720         belo horizonte             MG   \n",
       "3                     83070   sao jose dos pinhais             PR   \n",
       "4                     36400   conselheiro lafaiete             MG   \n",
       "\n",
       "   sellers_count  products_count  estimated_delivery_time  \\\n",
       "0              9               1                       16   \n",
       "1              9               1                       27   \n",
       "2              9               1                       20   \n",
       "3              9               1                       24   \n",
       "4              9               1                       22   \n",
       "\n",
       "   actual_delivery_time  diff_in_delivery_time  on_time_delivery  \\\n",
       "0                     7                      9                 1   \n",
       "1                    14                     13                 1   \n",
       "2                    17                      3                 1   \n",
       "3                     8                     16                 1   \n",
       "4                    14                      8                 1   \n",
       "\n",
       "   avg_product_value  total_order_cost  order_freight_ratio  \\\n",
       "0               58.9             72.19             0.225637   \n",
       "1               55.9             73.86             0.321288   \n",
       "2               64.9             83.23             0.282435   \n",
       "3               58.9             75.07             0.274533   \n",
       "4               58.9             72.19             0.225637   \n",
       "\n",
       "   purchase_dayofweek  purchase_dayofmonth  purchase_weekofmonth  \\\n",
       "0                   2                   13                     1   \n",
       "1                   2                   28                     4   \n",
       "2                   4                   18                     2   \n",
       "3                   1                    1                     0   \n",
       "4                   3                   10                     1   \n",
       "\n",
       "   purchase_weekofyear  is_reviewed  \n",
       "0                   37            1  \n",
       "1                   26            1  \n",
       "2                   20            1  \n",
       "3                   31            0  \n",
       "4                   32            0  "
      ]
     },
     "execution_count": 29,
     "metadata": {},
     "output_type": "execute_result"
    }
   ],
   "source": [
    "df_final.head(5)"
   ]
  },
  {
   "cell_type": "code",
   "execution_count": 33,
   "id": "162405d0",
   "metadata": {},
   "outputs": [],
   "source": [
    "# TODO :\n",
    "# Word2vec for product categories name"
   ]
  },
  {
   "cell_type": "markdown",
   "id": "cc28f6c5",
   "metadata": {},
   "source": [
    "## Create Graph"
   ]
  },
  {
   "cell_type": "code",
   "execution_count": 32,
   "id": "263a1941",
   "metadata": {},
   "outputs": [],
   "source": [
    "import pandas as pd\n",
    "import uuid\n",
    "\n",
    "# Create a dictionary that maps UUIDs to integer IDs\n",
    "uuid_to_int = {}\n",
    "for i, u in enumerate(df_final['customer_id'].unique()):\n",
    "    uuid_to_int[u] = i\n",
    "\n",
    "# Map the UUIDs to integer IDs using the dictionary\n",
    "df_final['customer_id_int'] = df_final['customer_id'].map(uuid_to_int)"
   ]
  },
  {
   "cell_type": "code",
   "execution_count": 33,
   "id": "cfef982f",
   "metadata": {},
   "outputs": [],
   "source": [
    "import pandas as pd\n",
    "import uuid\n",
    "\n",
    "# Create a dictionary that maps UUIDs to integer IDs\n",
    "uuid_to_int = {}\n",
    "for i, u in enumerate(df_final['product_id'].unique()):\n",
    "    uuid_to_int[u] = i\n",
    "\n",
    "# Map the UUIDs to integer IDs using the dictionary\n",
    "df_final['product_id_int'] = df_final['product_id'].map(uuid_to_int)"
   ]
  },
  {
   "cell_type": "code",
   "execution_count": 125,
   "id": "c87607a2",
   "metadata": {},
   "outputs": [
    {
     "data": {
      "text/html": [
       "<div>\n",
       "<style scoped>\n",
       "    .dataframe tbody tr th:only-of-type {\n",
       "        vertical-align: middle;\n",
       "    }\n",
       "\n",
       "    .dataframe tbody tr th {\n",
       "        vertical-align: top;\n",
       "    }\n",
       "\n",
       "    .dataframe thead th {\n",
       "        text-align: right;\n",
       "    }\n",
       "</style>\n",
       "<table border=\"1\" class=\"dataframe\">\n",
       "  <thead>\n",
       "    <tr style=\"text-align: right;\">\n",
       "      <th></th>\n",
       "      <th>customer_id_int</th>\n",
       "      <th>product_id_int</th>\n",
       "    </tr>\n",
       "  </thead>\n",
       "  <tbody>\n",
       "    <tr>\n",
       "      <th>0</th>\n",
       "      <td>0</td>\n",
       "      <td>0</td>\n",
       "    </tr>\n",
       "    <tr>\n",
       "      <th>1</th>\n",
       "      <td>1</td>\n",
       "      <td>0</td>\n",
       "    </tr>\n",
       "    <tr>\n",
       "      <th>2</th>\n",
       "      <td>2</td>\n",
       "      <td>0</td>\n",
       "    </tr>\n",
       "    <tr>\n",
       "      <th>3</th>\n",
       "      <td>3</td>\n",
       "      <td>0</td>\n",
       "    </tr>\n",
       "    <tr>\n",
       "      <th>4</th>\n",
       "      <td>4</td>\n",
       "      <td>0</td>\n",
       "    </tr>\n",
       "    <tr>\n",
       "      <th>...</th>\n",
       "      <td>...</td>\n",
       "      <td>...</td>\n",
       "    </tr>\n",
       "    <tr>\n",
       "      <th>115604</th>\n",
       "      <td>96511</td>\n",
       "      <td>32166</td>\n",
       "    </tr>\n",
       "    <tr>\n",
       "      <th>115605</th>\n",
       "      <td>96512</td>\n",
       "      <td>32167</td>\n",
       "    </tr>\n",
       "    <tr>\n",
       "      <th>115606</th>\n",
       "      <td>96513</td>\n",
       "      <td>32168</td>\n",
       "    </tr>\n",
       "    <tr>\n",
       "      <th>115607</th>\n",
       "      <td>96514</td>\n",
       "      <td>32169</td>\n",
       "    </tr>\n",
       "    <tr>\n",
       "      <th>115608</th>\n",
       "      <td>96515</td>\n",
       "      <td>32170</td>\n",
       "    </tr>\n",
       "  </tbody>\n",
       "</table>\n",
       "<p>115609 rows × 2 columns</p>\n",
       "</div>"
      ],
      "text/plain": [
       "        customer_id_int  product_id_int\n",
       "0                     0               0\n",
       "1                     1               0\n",
       "2                     2               0\n",
       "3                     3               0\n",
       "4                     4               0\n",
       "...                 ...             ...\n",
       "115604            96511           32166\n",
       "115605            96512           32167\n",
       "115606            96513           32168\n",
       "115607            96514           32169\n",
       "115608            96515           32170\n",
       "\n",
       "[115609 rows x 2 columns]"
      ]
     },
     "execution_count": 125,
     "metadata": {},
     "output_type": "execute_result"
    }
   ],
   "source": [
    "df_final[['customer_id_int','product_id_int']]"
   ]
  },
  {
   "cell_type": "code",
   "execution_count": 126,
   "id": "822a9469",
   "metadata": {},
   "outputs": [],
   "source": [
    "graph_data = {\n",
    "        ('customer','orders','product') : (df_final['customer_id_int'].to_numpy(), df_final['product_id_int'].to_numpy()),\n",
    "        ('product','rev-orders','customer') : (df_final['product_id_int'].to_numpy(), df_final['customer_id_int'].to_numpy())\n",
    "    }"
   ]
  },
  {
   "cell_type": "code",
   "execution_count": 127,
   "id": "0155f578",
   "metadata": {},
   "outputs": [
    {
     "data": {
      "text/plain": [
       "{('customer',\n",
       "  'orders',\n",
       "  'product'): (array([    0,     1,     2, ..., 96513, 96514, 96515], dtype=int64), array([    0,     0,     0, ..., 32168, 32169, 32170], dtype=int64)),\n",
       " ('product',\n",
       "  'rev-orders',\n",
       "  'customer'): (array([    0,     0,     0, ..., 32168, 32169, 32170], dtype=int64), array([    0,     1,     2, ..., 96513, 96514, 96515], dtype=int64))}"
      ]
     },
     "execution_count": 127,
     "metadata": {},
     "output_type": "execute_result"
    }
   ],
   "source": [
    "graph_data"
   ]
  },
  {
   "cell_type": "code",
   "execution_count": 128,
   "id": "08b10aeb",
   "metadata": {},
   "outputs": [],
   "source": [
    "ecommerce_hetero_graph = dgl.heterograph(graph_data)"
   ]
  },
  {
   "cell_type": "code",
   "execution_count": 129,
   "id": "cdae8a99",
   "metadata": {},
   "outputs": [
    {
     "data": {
      "text/plain": [
       "Graph(num_nodes={'customer': 96516, 'product': 32171},\n",
       "      num_edges={('customer', 'orders', 'product'): 115609, ('product', 'rev-orders', 'customer'): 115609},\n",
       "      metagraph=[('customer', 'product', 'orders'), ('product', 'customer', 'rev-orders')])"
      ]
     },
     "execution_count": 129,
     "metadata": {},
     "output_type": "execute_result"
    }
   ],
   "source": [
    "ecommerce_hetero_graph"
   ]
  },
  {
   "cell_type": "code",
   "execution_count": 130,
   "id": "b1da824a",
   "metadata": {},
   "outputs": [
    {
     "data": {
      "text/plain": [
       "96516"
      ]
     },
     "execution_count": 130,
     "metadata": {},
     "output_type": "execute_result"
    }
   ],
   "source": [
    "df_final['customer_id'].nunique()"
   ]
  },
  {
   "cell_type": "code",
   "execution_count": 131,
   "id": "3f56ad55",
   "metadata": {},
   "outputs": [
    {
     "data": {
      "text/plain": [
       "32171"
      ]
     },
     "execution_count": 131,
     "metadata": {},
     "output_type": "execute_result"
    }
   ],
   "source": [
    "df_final['product_id'].nunique()"
   ]
  },
  {
   "cell_type": "code",
   "execution_count": 142,
   "id": "f71ca178",
   "metadata": {},
   "outputs": [
    {
     "data": {
      "text/plain": [
       "(tensor([    0,     1,     2,  ..., 96513, 96514, 96515]),\n",
       " tensor([    0,     0,     0,  ..., 32168, 32169, 32170]))"
      ]
     },
     "execution_count": 142,
     "metadata": {},
     "output_type": "execute_result"
    }
   ],
   "source": [
    "ecommerce_hetero_graph.edges(etype='orders')"
   ]
  },
  {
   "cell_type": "markdown",
   "id": "40ecc01b",
   "metadata": {},
   "source": [
    "## Clean Graph"
   ]
  },
  {
   "cell_type": "code",
   "execution_count": 194,
   "id": "55244ccc",
   "metadata": {},
   "outputs": [
    {
     "name": "stdout",
     "output_type": "stream",
     "text": [
      "(tensor([0]), tensor([0]))\n",
      "(tensor([], dtype=torch.int64), tensor([], dtype=torch.int64))\n",
      "(tensor([], dtype=torch.int64), tensor([], dtype=torch.int64))\n",
      "(tensor([], dtype=torch.int64), tensor([], dtype=torch.int64))\n",
      "(tensor([], dtype=torch.int64), tensor([], dtype=torch.int64))\n",
      "(tensor([], dtype=torch.int64), tensor([], dtype=torch.int64))\n",
      "(tensor([], dtype=torch.int64), tensor([], dtype=torch.int64))\n",
      "(tensor([], dtype=torch.int64), tensor([], dtype=torch.int64))\n",
      "(tensor([], dtype=torch.int64), tensor([], dtype=torch.int64))\n",
      "(tensor([], dtype=torch.int64), tensor([], dtype=torch.int64))\n"
     ]
    }
   ],
   "source": [
    "# out edges (purchases) for first 10 customers\n",
    "for i in range(10):\n",
    "    print(sample_subgraph.out_edges(i, etype='rev-orders'))"
   ]
  },
  {
   "cell_type": "code",
   "execution_count": 343,
   "id": "7e80a681",
   "metadata": {},
   "outputs": [],
   "source": [
    "import dgl.function as fn\n",
    "import networkx as nx\n",
    "import matplotlib.pyplot as plt\n",
    "from collections import defaultdict\n",
    "\n",
    "def plot_graph(G, edge_type='rates'):\n",
    "    \n",
    "    Gnx = dgl.to_networkx(dgl.to_homogeneous(G))\n",
    "#     pos = nx.spring_layout(Gnx, k=1/np.sqrt(len(Gnx.nodes())), iterations=10)\n",
    "    \n",
    "    node_attrs = defaultdict(dict)\n",
    "    for ntype in G.ntypes:\n",
    "        for index, value in enumerate(G.nodes[ntype].data['features'].tolist()):\n",
    "            node_attrs[ntype][index] = [round(value[0], 2)]\n",
    "    \n",
    "    edge_attrs = defaultdict(dict)\n",
    "    for etype in G.etypes:\n",
    "        for index, value in enumerate(G.edges[etype].data['features'].tolist()):\n",
    "            edge_attrs[etype][index] = value\n",
    "    \n",
    "    E = {}\n",
    "    for index, edge in enumerate(list(Gnx.edges())):\n",
    "        if index < G.num_edges(etype=edge_type):\n",
    "            E[edge] = '%s :'%edge_type + str(edge_attrs[edge_type][index])\n",
    "#         else:\n",
    "#             E[edge] = 'rates' \n",
    "    \n",
    "\n",
    "    color_map = []\n",
    "    one_side_nodes = []\n",
    "    for node in Gnx:\n",
    "        if node < G.num_nodes('customer'):\n",
    "            color_map.append('blue')\n",
    "            one_side_nodes.append(node)\n",
    "        else:\n",
    "            color_map.append('green')\n",
    "    \n",
    "    print(one_side_nodes)\n",
    "    pos=nx.bipartite_layout(Gnx, one_side_nodes)\n",
    "    \n",
    "    user_nodes = (G.nodes(ntype='customer'))\n",
    "    movie_nodes = (G.nodes(ntype='product'))\n",
    "    \n",
    "    labeldict = {}\n",
    "    for node in Gnx:\n",
    "        if node < G.num_nodes('customer'):\n",
    "            labeldict[node] = str(node) + ':' + str(node_attrs['customer'][node])\n",
    "#             code change to display new IDs and not old IDs\n",
    "#             labeldict[node] = str(movie_nodes[node]) + ':' + str(node_attrs['movie'][node])\n",
    "        else:\n",
    "            updated_index = node - G.num_nodes('customer')\n",
    "            labeldict[node] = str(updated_index) + ':' + str(node_attrs['product'][updated_index])\n",
    "#             labeldict[node] = str(user_nodes[updated_index]) + ':' + str(node_attrs['user'][updated_index])\n",
    "    \n",
    "    plt.figure(3,figsize=(15,8)) \n",
    "    nx.draw(Gnx, pos=pos, labels=labeldict, font_size = 15,  node_color=color_map, with_labels=True,  arrows=False)\n",
    "    \n",
    "    nx.draw_networkx_edge_labels(Gnx, pos=pos,  edge_labels=E)\n",
    "    \n",
    "    plt.show()"
   ]
  },
  {
   "cell_type": "code",
   "execution_count": 344,
   "id": "ce85e553",
   "metadata": {},
   "outputs": [
    {
     "name": "stdout",
     "output_type": "stream",
     "text": [
      "Graph(num_nodes={'customer': 10, 'product': 5},\n",
      "      num_edges={('customer', 'orders', 'product'): 13, ('product', 'rev-orders', 'customer'): 13},\n",
      "      metagraph=[('customer', 'product', 'orders'), ('product', 'customer', 'rev-orders')])\n",
      "(tensor([0, 0, 0, 0, 0, 0, 0, 0, 0, 0, 0, 1, 1]), tensor([0, 1, 2, 3, 4, 5, 6, 7, 8, 8, 8, 7, 9]))\n"
     ]
    }
   ],
   "source": [
    "sample_subgraph = ecommerce_hetero_graph.subgraph({ 'customer' :list(range(10)), 'product': list(range(5))})\n",
    "\n",
    "print(sample_subgraph)\n",
    "print(sample_subgraph.edges(etype='rev-orders'))\n",
    "# plot_graph(sample_subgraph , edge_type='rev-orders')"
   ]
  },
  {
   "cell_type": "code",
   "execution_count": 345,
   "id": "166169af",
   "metadata": {},
   "outputs": [
    {
     "name": "stdout",
     "output_type": "stream",
     "text": [
      "[0, 1, 2, 3, 4, 5, 6, 7, 8, 9]\n"
     ]
    },
    {
     "data": {
      "image/png": "[encoded data removed]",
      "text/plain": [
       "<Figure size 1080x576 with 1 Axes>"
      ]
     },
     "metadata": {},
     "output_type": "display_data"
    }
   ],
   "source": [
    "plot_graph(sample_subgraph , edge_type='orders')"
   ]
  },
  {
   "cell_type": "code",
   "execution_count": 327,
   "id": "819a3b72",
   "metadata": {},
   "outputs": [
    {
     "data": {
      "text/html": [
       "<div>\n",
       "<style scoped>\n",
       "    .dataframe tbody tr th:only-of-type {\n",
       "        vertical-align: middle;\n",
       "    }\n",
       "\n",
       "    .dataframe tbody tr th {\n",
       "        vertical-align: top;\n",
       "    }\n",
       "\n",
       "    .dataframe thead th {\n",
       "        text-align: right;\n",
       "    }\n",
       "</style>\n",
       "<table border=\"1\" class=\"dataframe\">\n",
       "  <thead>\n",
       "    <tr style=\"text-align: right;\">\n",
       "      <th></th>\n",
       "      <th>customer_id_int</th>\n",
       "      <th>product_id_int</th>\n",
       "    </tr>\n",
       "  </thead>\n",
       "  <tbody>\n",
       "    <tr>\n",
       "      <th>0</th>\n",
       "      <td>0</td>\n",
       "      <td>0</td>\n",
       "    </tr>\n",
       "    <tr>\n",
       "      <th>1</th>\n",
       "      <td>1</td>\n",
       "      <td>0</td>\n",
       "    </tr>\n",
       "    <tr>\n",
       "      <th>2</th>\n",
       "      <td>2</td>\n",
       "      <td>0</td>\n",
       "    </tr>\n",
       "    <tr>\n",
       "      <th>3</th>\n",
       "      <td>3</td>\n",
       "      <td>0</td>\n",
       "    </tr>\n",
       "    <tr>\n",
       "      <th>4</th>\n",
       "      <td>4</td>\n",
       "      <td>0</td>\n",
       "    </tr>\n",
       "    <tr>\n",
       "      <th>5</th>\n",
       "      <td>5</td>\n",
       "      <td>0</td>\n",
       "    </tr>\n",
       "    <tr>\n",
       "      <th>6</th>\n",
       "      <td>6</td>\n",
       "      <td>0</td>\n",
       "    </tr>\n",
       "    <tr>\n",
       "      <th>7</th>\n",
       "      <td>7</td>\n",
       "      <td>0</td>\n",
       "    </tr>\n",
       "    <tr>\n",
       "      <th>8</th>\n",
       "      <td>7</td>\n",
       "      <td>1</td>\n",
       "    </tr>\n",
       "    <tr>\n",
       "      <th>9</th>\n",
       "      <td>8</td>\n",
       "      <td>0</td>\n",
       "    </tr>\n",
       "    <tr>\n",
       "      <th>10</th>\n",
       "      <td>8</td>\n",
       "      <td>0</td>\n",
       "    </tr>\n",
       "    <tr>\n",
       "      <th>11</th>\n",
       "      <td>8</td>\n",
       "      <td>0</td>\n",
       "    </tr>\n",
       "    <tr>\n",
       "      <th>12</th>\n",
       "      <td>9</td>\n",
       "      <td>1</td>\n",
       "    </tr>\n",
       "  </tbody>\n",
       "</table>\n",
       "</div>"
      ],
      "text/plain": [
       "    customer_id_int  product_id_int\n",
       "0                 0               0\n",
       "1                 1               0\n",
       "2                 2               0\n",
       "3                 3               0\n",
       "4                 4               0\n",
       "5                 5               0\n",
       "6                 6               0\n",
       "7                 7               0\n",
       "8                 7               1\n",
       "9                 8               0\n",
       "10                8               0\n",
       "11                8               0\n",
       "12                9               1"
      ]
     },
     "execution_count": 327,
     "metadata": {},
     "output_type": "execute_result"
    }
   ],
   "source": [
    "df_final[['customer_id_int', 'product_id_int']].head(13)"
   ]
  },
  {
   "cell_type": "code",
   "execution_count": 218,
   "id": "d47daabf",
   "metadata": {},
   "outputs": [],
   "source": [
    "def _process_customer_features(df_final):\n",
    "    \n",
    "    HM = {}\n",
    "    for _, row in df_final.iterrows():   \n",
    "        HM[row['customer_id_int']] = torch.tensor([row['customer_zip_code_prefix']]).float()\n",
    "    \n",
    "    return HM"
   ]
  },
  {
   "cell_type": "code",
   "execution_count": 219,
   "id": "be87f837",
   "metadata": {},
   "outputs": [],
   "source": [
    "custid_to_feat = _process_customer_features(df_final)"
   ]
  },
  {
   "cell_type": "code",
   "execution_count": 220,
   "id": "a2112fca",
   "metadata": {},
   "outputs": [],
   "source": [
    "customer_features = [value[1] for value in list(custid_to_feat.items())]"
   ]
  },
  {
   "cell_type": "code",
   "execution_count": 221,
   "id": "a6dc7eba",
   "metadata": {},
   "outputs": [],
   "source": [
    "# node feature assignment\n",
    "\n",
    "ecommerce_hetero_graph.nodes['customer'].data['features'] = torch.stack(customer_features, axis=0)"
   ]
  },
  {
   "cell_type": "code",
   "execution_count": 361,
   "id": "22de9f14",
   "metadata": {},
   "outputs": [],
   "source": [
    "def _process_product_features(df_final):\n",
    "    \n",
    "    HM = {}\n",
    "    \n",
    "    for _, row in df_final.iterrows():\n",
    "        HM[row['product_id_int']] = torch.tensor([round(row['price'], 4), row['purchase_weekofyear']])\n",
    "    \n",
    "    return HM"
   ]
  },
  {
   "cell_type": "code",
   "execution_count": 362,
   "id": "2c992ed7",
   "metadata": {},
   "outputs": [],
   "source": [
    "prodid_to_feat = _process_product_features(df_final)"
   ]
  },
  {
   "cell_type": "code",
   "execution_count": 363,
   "id": "e4434dd2",
   "metadata": {},
   "outputs": [],
   "source": [
    "product_features = [value[1] for value in list(prodid_to_feat.items())]"
   ]
  },
  {
   "cell_type": "code",
   "execution_count": 364,
   "id": "83ebce27",
   "metadata": {},
   "outputs": [],
   "source": [
    "# node feature assignment\n",
    "ecommerce_hetero_graph.nodes['product'].data['features'] = torch.stack(product_features, axis=0)    "
   ]
  },
  {
   "cell_type": "code",
   "execution_count": 365,
   "id": "5a7e4db6",
   "metadata": {},
   "outputs": [
    {
     "data": {
      "text/plain": [
       "Graph(num_nodes={'customer': 96516, 'product': 32171},\n",
       "      num_edges={('customer', 'orders', 'product'): 115609, ('product', 'rev-orders', 'customer'): 115609},\n",
       "      metagraph=[('customer', 'product', 'orders'), ('product', 'customer', 'rev-orders')])"
      ]
     },
     "execution_count": 365,
     "metadata": {},
     "output_type": "execute_result"
    }
   ],
   "source": [
    "ecommerce_hetero_graph"
   ]
  },
  {
   "cell_type": "code",
   "execution_count": 227,
   "id": "c78ee1f8",
   "metadata": {},
   "outputs": [],
   "source": [
    "# edge feature assignment\n",
    "edge_features = df_final['is_reviewed'].tolist()\n",
    "ecommerce_hetero_graph.edges['orders'].data['features']= torch.tensor(edge_features).unsqueeze(-1)\n",
    "ecommerce_hetero_graph.edges['rev-orders'].data['features']= torch.tensor(edge_features).unsqueeze(-1)"
   ]
  },
  {
   "cell_type": "code",
   "execution_count": 228,
   "id": "ff073d79",
   "metadata": {
    "scrolled": true
   },
   "outputs": [
    {
     "data": {
      "text/html": [
       "<div>\n",
       "<style scoped>\n",
       "    .dataframe tbody tr th:only-of-type {\n",
       "        vertical-align: middle;\n",
       "    }\n",
       "\n",
       "    .dataframe tbody tr th {\n",
       "        vertical-align: top;\n",
       "    }\n",
       "\n",
       "    .dataframe thead th {\n",
       "        text-align: right;\n",
       "    }\n",
       "</style>\n",
       "<table border=\"1\" class=\"dataframe\">\n",
       "  <thead>\n",
       "    <tr style=\"text-align: right;\">\n",
       "      <th></th>\n",
       "      <th>order_id</th>\n",
       "      <th>product_id</th>\n",
       "      <th>price</th>\n",
       "      <th>freight_value</th>\n",
       "      <th>product_name_lenght</th>\n",
       "      <th>product_description_lenght</th>\n",
       "      <th>product_photos_qty</th>\n",
       "      <th>product_weight_g</th>\n",
       "      <th>product_length_cm</th>\n",
       "      <th>product_height_cm</th>\n",
       "      <th>product_width_cm</th>\n",
       "      <th>product_category_name_english</th>\n",
       "      <th>review_score</th>\n",
       "      <th>review_comment_message</th>\n",
       "      <th>customer_id</th>\n",
       "      <th>order_status</th>\n",
       "      <th>order_delivered_customer_date</th>\n",
       "      <th>order_estimated_delivery_date</th>\n",
       "      <th>payment_sequential</th>\n",
       "      <th>payment_type</th>\n",
       "      <th>payment_installments</th>\n",
       "      <th>payment_value</th>\n",
       "      <th>customer_zip_code_prefix</th>\n",
       "      <th>customer_city</th>\n",
       "      <th>customer_state</th>\n",
       "      <th>sellers_count</th>\n",
       "      <th>products_count</th>\n",
       "      <th>estimated_delivery_time</th>\n",
       "      <th>actual_delivery_time</th>\n",
       "      <th>diff_in_delivery_time</th>\n",
       "      <th>on_time_delivery</th>\n",
       "      <th>avg_product_value</th>\n",
       "      <th>total_order_cost</th>\n",
       "      <th>order_freight_ratio</th>\n",
       "      <th>purchase_dayofweek</th>\n",
       "      <th>purchase_dayofmonth</th>\n",
       "      <th>purchase_weekofmonth</th>\n",
       "      <th>purchase_weekofyear</th>\n",
       "      <th>is_reviewed</th>\n",
       "      <th>customer_id_int</th>\n",
       "      <th>product_id_int</th>\n",
       "    </tr>\n",
       "  </thead>\n",
       "  <tbody>\n",
       "    <tr>\n",
       "      <th>0</th>\n",
       "      <td>00010242fe8c5a6d1ba2dd792cb16214</td>\n",
       "      <td>4244733e06e7ecb4970a6e2683c13e61</td>\n",
       "      <td>58.9</td>\n",
       "      <td>13.29</td>\n",
       "      <td>58.0</td>\n",
       "      <td>598.0</td>\n",
       "      <td>4.0</td>\n",
       "      <td>650.0</td>\n",
       "      <td>28.0</td>\n",
       "      <td>9.0</td>\n",
       "      <td>14.0</td>\n",
       "      <td>cool_stuff</td>\n",
       "      <td>5</td>\n",
       "      <td>Perfeito, produto entregue antes do combinado.</td>\n",
       "      <td>3ce436f183e68e07877b285a838db11a</td>\n",
       "      <td>delivered</td>\n",
       "      <td>2017-09-20</td>\n",
       "      <td>2017-09-29</td>\n",
       "      <td>1</td>\n",
       "      <td>credit_card</td>\n",
       "      <td>2</td>\n",
       "      <td>72.19</td>\n",
       "      <td>28013</td>\n",
       "      <td>campos dos goytacazes</td>\n",
       "      <td>RJ</td>\n",
       "      <td>9</td>\n",
       "      <td>1</td>\n",
       "      <td>16</td>\n",
       "      <td>7</td>\n",
       "      <td>9</td>\n",
       "      <td>1</td>\n",
       "      <td>58.9</td>\n",
       "      <td>72.19</td>\n",
       "      <td>0.225637</td>\n",
       "      <td>2</td>\n",
       "      <td>13</td>\n",
       "      <td>1</td>\n",
       "      <td>37</td>\n",
       "      <td>1</td>\n",
       "      <td>0</td>\n",
       "      <td>0</td>\n",
       "    </tr>\n",
       "    <tr>\n",
       "      <th>1</th>\n",
       "      <td>130898c0987d1801452a8ed92a670612</td>\n",
       "      <td>4244733e06e7ecb4970a6e2683c13e61</td>\n",
       "      <td>55.9</td>\n",
       "      <td>17.96</td>\n",
       "      <td>58.0</td>\n",
       "      <td>598.0</td>\n",
       "      <td>4.0</td>\n",
       "      <td>650.0</td>\n",
       "      <td>28.0</td>\n",
       "      <td>9.0</td>\n",
       "      <td>14.0</td>\n",
       "      <td>cool_stuff</td>\n",
       "      <td>5</td>\n",
       "      <td>lannister como sempre, entregou certinho e den...</td>\n",
       "      <td>e6eecc5a77de221464d1c4eaff0a9b64</td>\n",
       "      <td>delivered</td>\n",
       "      <td>2017-07-13</td>\n",
       "      <td>2017-07-26</td>\n",
       "      <td>1</td>\n",
       "      <td>boleto</td>\n",
       "      <td>1</td>\n",
       "      <td>73.86</td>\n",
       "      <td>75800</td>\n",
       "      <td>jatai</td>\n",
       "      <td>GO</td>\n",
       "      <td>9</td>\n",
       "      <td>1</td>\n",
       "      <td>27</td>\n",
       "      <td>14</td>\n",
       "      <td>13</td>\n",
       "      <td>1</td>\n",
       "      <td>55.9</td>\n",
       "      <td>73.86</td>\n",
       "      <td>0.321288</td>\n",
       "      <td>2</td>\n",
       "      <td>28</td>\n",
       "      <td>4</td>\n",
       "      <td>26</td>\n",
       "      <td>1</td>\n",
       "      <td>1</td>\n",
       "      <td>0</td>\n",
       "    </tr>\n",
       "    <tr>\n",
       "      <th>2</th>\n",
       "      <td>532ed5e14e24ae1f0d735b91524b98b9</td>\n",
       "      <td>4244733e06e7ecb4970a6e2683c13e61</td>\n",
       "      <td>64.9</td>\n",
       "      <td>18.33</td>\n",
       "      <td>58.0</td>\n",
       "      <td>598.0</td>\n",
       "      <td>4.0</td>\n",
       "      <td>650.0</td>\n",
       "      <td>28.0</td>\n",
       "      <td>9.0</td>\n",
       "      <td>14.0</td>\n",
       "      <td>cool_stuff</td>\n",
       "      <td>4</td>\n",
       "      <td>carrinho muito bonito</td>\n",
       "      <td>4ef55bf80f711b372afebcb7c715344a</td>\n",
       "      <td>delivered</td>\n",
       "      <td>2018-06-04</td>\n",
       "      <td>2018-06-07</td>\n",
       "      <td>1</td>\n",
       "      <td>credit_card</td>\n",
       "      <td>2</td>\n",
       "      <td>83.23</td>\n",
       "      <td>30720</td>\n",
       "      <td>belo horizonte</td>\n",
       "      <td>MG</td>\n",
       "      <td>9</td>\n",
       "      <td>1</td>\n",
       "      <td>20</td>\n",
       "      <td>17</td>\n",
       "      <td>3</td>\n",
       "      <td>1</td>\n",
       "      <td>64.9</td>\n",
       "      <td>83.23</td>\n",
       "      <td>0.282435</td>\n",
       "      <td>4</td>\n",
       "      <td>18</td>\n",
       "      <td>2</td>\n",
       "      <td>20</td>\n",
       "      <td>1</td>\n",
       "      <td>2</td>\n",
       "      <td>0</td>\n",
       "    </tr>\n",
       "  </tbody>\n",
       "</table>\n",
       "</div>"
      ],
      "text/plain": [
       "                           order_id                        product_id  price  \\\n",
       "0  00010242fe8c5a6d1ba2dd792cb16214  4244733e06e7ecb4970a6e2683c13e61   58.9   \n",
       "1  130898c0987d1801452a8ed92a670612  4244733e06e7ecb4970a6e2683c13e61   55.9   \n",
       "2  532ed5e14e24ae1f0d735b91524b98b9  4244733e06e7ecb4970a6e2683c13e61   64.9   \n",
       "\n",
       "   freight_value  product_name_lenght  product_description_lenght  \\\n",
       "0          13.29                 58.0                       598.0   \n",
       "1          17.96                 58.0                       598.0   \n",
       "2          18.33                 58.0                       598.0   \n",
       "\n",
       "   product_photos_qty  product_weight_g  product_length_cm  product_height_cm  \\\n",
       "0                 4.0             650.0               28.0                9.0   \n",
       "1                 4.0             650.0               28.0                9.0   \n",
       "2                 4.0             650.0               28.0                9.0   \n",
       "\n",
       "   product_width_cm product_category_name_english  review_score  \\\n",
       "0              14.0                    cool_stuff             5   \n",
       "1              14.0                    cool_stuff             5   \n",
       "2              14.0                    cool_stuff             4   \n",
       "\n",
       "                              review_comment_message  \\\n",
       "0     Perfeito, produto entregue antes do combinado.   \n",
       "1  lannister como sempre, entregou certinho e den...   \n",
       "2                              carrinho muito bonito   \n",
       "\n",
       "                        customer_id order_status  \\\n",
       "0  3ce436f183e68e07877b285a838db11a    delivered   \n",
       "1  e6eecc5a77de221464d1c4eaff0a9b64    delivered   \n",
       "2  4ef55bf80f711b372afebcb7c715344a    delivered   \n",
       "\n",
       "  order_delivered_customer_date order_estimated_delivery_date  \\\n",
       "0                    2017-09-20                    2017-09-29   \n",
       "1                    2017-07-13                    2017-07-26   \n",
       "2                    2018-06-04                    2018-06-07   \n",
       "\n",
       "   payment_sequential payment_type  payment_installments  payment_value  \\\n",
       "0                   1  credit_card                     2          72.19   \n",
       "1                   1       boleto                     1          73.86   \n",
       "2                   1  credit_card                     2          83.23   \n",
       "\n",
       "   customer_zip_code_prefix          customer_city customer_state  \\\n",
       "0                     28013  campos dos goytacazes             RJ   \n",
       "1                     75800                  jatai             GO   \n",
       "2                     30720         belo horizonte             MG   \n",
       "\n",
       "   sellers_count  products_count  estimated_delivery_time  \\\n",
       "0              9               1                       16   \n",
       "1              9               1                       27   \n",
       "2              9               1                       20   \n",
       "\n",
       "   actual_delivery_time  diff_in_delivery_time  on_time_delivery  \\\n",
       "0                     7                      9                 1   \n",
       "1                    14                     13                 1   \n",
       "2                    17                      3                 1   \n",
       "\n",
       "   avg_product_value  total_order_cost  order_freight_ratio  \\\n",
       "0               58.9             72.19             0.225637   \n",
       "1               55.9             73.86             0.321288   \n",
       "2               64.9             83.23             0.282435   \n",
       "\n",
       "   purchase_dayofweek  purchase_dayofmonth  purchase_weekofmonth  \\\n",
       "0                   2                   13                     1   \n",
       "1                   2                   28                     4   \n",
       "2                   4                   18                     2   \n",
       "\n",
       "   purchase_weekofyear  is_reviewed  customer_id_int  product_id_int  \n",
       "0                   37            1                0               0  \n",
       "1                   26            1                1               0  \n",
       "2                   20            1                2               0  "
      ]
     },
     "execution_count": 228,
     "metadata": {},
     "output_type": "execute_result"
    }
   ],
   "source": [
    "# differnet prices for same product\n",
    "df_final[df_final.product_id_int == 0].head(3)"
   ]
  },
  {
   "cell_type": "markdown",
   "id": "11e50a14",
   "metadata": {},
   "source": [
    "## Dataset Split"
   ]
  },
  {
   "cell_type": "code",
   "execution_count": 349,
   "id": "5c838b32",
   "metadata": {},
   "outputs": [],
   "source": [
    "train_eids_dict = {}\n",
    "valid_eids_dict = {}\n",
    "test_eids_dict = {}\n",
    "\n",
    "eids = np.arange(ecommerce_hetero_graph.number_of_edges(etype='orders'))\n",
    "eids = np.random.permutation(eids)\n",
    "\n",
    "test_size = int(len(eids) * 0.2)\n",
    "valid_size = int(len(eids) * 0.1)\n",
    "train_size = len(eids) - test_size - valid_size\n",
    "\n",
    "for e in ecommerce_hetero_graph.etypes:\n",
    "    train_eids_dict[e] = eids[:train_size]\n",
    "    valid_eids_dict[e] = eids[train_size:train_size+valid_size]\n",
    "    test_eids_dict[e] = eids[-test_size:]\n",
    "\n",
    "train_g = dgl.edge_subgraph(ecommerce_hetero_graph, train_eids_dict, relabel_nodes=False)\n",
    "# check if relabel is needed\n",
    "valid_g = dgl.edge_subgraph(ecommerce_hetero_graph, valid_eids_dict, relabel_nodes=False)\n",
    "test_g = dgl.edge_subgraph(ecommerce_hetero_graph, test_eids_dict, relabel_nodes=False)"
   ]
  },
  {
   "cell_type": "code",
   "execution_count": 350,
   "id": "307e1689",
   "metadata": {},
   "outputs": [
    {
     "data": {
      "text/plain": [
       "Graph(num_nodes={'customer': 96516, 'product': 32171},\n",
       "      num_edges={('customer', 'orders', 'product'): 80928, ('product', 'rev-orders', 'customer'): 80928},\n",
       "      metagraph=[('customer', 'product', 'orders'), ('product', 'customer', 'rev-orders')])"
      ]
     },
     "execution_count": 350,
     "metadata": {},
     "output_type": "execute_result"
    }
   ],
   "source": [
    "train_g"
   ]
  },
  {
   "cell_type": "code",
   "execution_count": 351,
   "id": "88db6f90",
   "metadata": {},
   "outputs": [
    {
     "data": {
      "text/plain": [
       "Graph(num_nodes={'customer': 96516, 'product': 32171},\n",
       "      num_edges={('customer', 'orders', 'product'): 11560, ('product', 'rev-orders', 'customer'): 11560},\n",
       "      metagraph=[('customer', 'product', 'orders'), ('product', 'customer', 'rev-orders')])"
      ]
     },
     "execution_count": 351,
     "metadata": {},
     "output_type": "execute_result"
    }
   ],
   "source": [
    "valid_g"
   ]
  },
  {
   "cell_type": "markdown",
   "id": "e50978b9",
   "metadata": {},
   "source": [
    "## Experiment with negative graph"
   ]
  },
  {
   "cell_type": "code",
   "execution_count": 353,
   "id": "1951a534",
   "metadata": {},
   "outputs": [],
   "source": [
    "def construct_negative_graph(graph, k, etype_list):\n",
    "    HM = {}\n",
    "    for etype in etype_list:\n",
    "        utype, _, vtype = etype\n",
    "        src, dst = graph.edges(etype=etype)\n",
    "        neg_src = src.repeat_interleave(k)\n",
    "        neg_dst = torch.randint(0, graph.num_nodes(vtype), (len(src) * k,))\n",
    "        HM[etype] = (neg_src[:], neg_dst[:])\n",
    "\n",
    "    return dgl.heterograph(\n",
    "        HM,\n",
    "        num_nodes_dict={ntype: graph.num_nodes(ntype) for ntype in graph.ntypes})"
   ]
  },
  {
   "cell_type": "code",
   "execution_count": 557,
   "id": "bafc753e",
   "metadata": {},
   "outputs": [],
   "source": [
    "negative_graph = construct_negative_graph(train_g, 3, train_g.canonical_etypes)"
   ]
  },
  {
   "cell_type": "code",
   "execution_count": 536,
   "id": "5ec51c8f",
   "metadata": {},
   "outputs": [],
   "source": [
    "negative_graph =  construct_negative_graph(sample_subgraph, 3, sample_subgraph.canonical_etypes)"
   ]
  },
  {
   "cell_type": "markdown",
   "id": "72998aa2",
   "metadata": {},
   "source": [
    "## Visualization"
   ]
  },
  {
   "cell_type": "code",
   "execution_count": 112,
   "id": "c0e45efc",
   "metadata": {},
   "outputs": [],
   "source": [
    "import dgl.function as fn\n",
    "import networkx as nx\n",
    "import matplotlib.pyplot as plt\n",
    "from collections import defaultdict\n",
    "\n",
    "def plot_graph(G, edge_type='rates'):\n",
    "    \n",
    "    Gnx = dgl.to_networkx(dgl.to_homogeneous(G))\n",
    "#     pos = nx.spring_layout(Gnx, k=1/np.sqrt(len(Gnx.nodes())), iterations=10)\n",
    "    \n",
    "    node_attrs = defaultdict(dict)\n",
    "    for ntype in G.ntypes:\n",
    "        for index, value in enumerate(G.nodes[ntype].data['features'].tolist()):\n",
    "            node_attrs[ntype][index] = [round(value[0], 2)]\n",
    "    \n",
    "    edge_attrs = defaultdict(dict)\n",
    "    for etype in G.etypes:\n",
    "        for index, value in enumerate(G.edges[etype].data['features'].tolist()):\n",
    "            edge_attrs[etype][index] = value\n",
    "    \n",
    "    E = {}\n",
    "    for index, edge in enumerate(list(Gnx.edges())):\n",
    "        if index < G.num_edges(etype=edge_type):\n",
    "            E[edge] = '%s :'%edge_type + str(edge_attrs[edge_type][index])\n",
    "#         else:\n",
    "#             E[edge] = 'rates' \n",
    "    \n",
    "\n",
    "    color_map = []\n",
    "    one_side_nodes = []\n",
    "    for node in Gnx:\n",
    "        if node < G.num_nodes('customer'):\n",
    "            color_map.append('blue')\n",
    "            one_side_nodes.append(node)\n",
    "        else:\n",
    "            color_map.append('green')\n",
    "    \n",
    "    print(one_side_nodes)\n",
    "    pos=nx.bipartite_layout(Gnx, one_side_nodes)\n",
    "    \n",
    "    user_nodes = (G.nodes(ntype='customer'))\n",
    "    movie_nodes = (G.nodes(ntype='product'))\n",
    "    \n",
    "    labeldict = {}\n",
    "    for node in Gnx:\n",
    "        if node < G.num_nodes('customer'):\n",
    "            labeldict[node] = str(node) + ':' + str(node_attrs['customer'][node])\n",
    "#             code change to display new IDs and not old IDs\n",
    "#             labeldict[node] = str(movie_nodes[node]) + ':' + str(node_attrs['movie'][node])\n",
    "        else:\n",
    "            updated_index = node - G.num_nodes('customer')\n",
    "            labeldict[node] = str(updated_index) + ':' + str(node_attrs['product'][updated_index])\n",
    "#             labeldict[node] = str(user_nodes[updated_index]) + ':' + str(node_attrs['user'][updated_index])\n",
    "    \n",
    "    plt.figure(3,figsize=(15,8)) \n",
    "    nx.draw(Gnx, pos=pos, labels=labeldict, font_size = 15,  node_color=color_map, with_labels=True,  arrows=False)\n",
    "    \n",
    "    nx.draw_networkx_edge_labels(Gnx, pos=pos,  edge_labels=E)\n",
    "    \n",
    "    plt.show()"
   ]
  },
  {
   "cell_type": "code",
   "execution_count": 359,
   "id": "c61af457",
   "metadata": {},
   "outputs": [
    {
     "name": "stdout",
     "output_type": "stream",
     "text": [
      "[0, 1, 2, 3, 4, 5, 6, 7, 8, 9]\n"
     ]
    },
    {
     "data": {
      "image/png": "[encoded data removed]",
      "text/plain": [
       "<Figure size 1080x576 with 1 Axes>"
      ]
     },
     "metadata": {},
     "output_type": "display_data"
    }
   ],
   "source": [
    "sample_subgraph = train_g.subgraph({ 'customer' :list(range(10)), 'product': list(range(5))})\n",
    "\n",
    "# plot_graph(sample_subgraph , edge_type='rev-orders')\n",
    "plot_graph(sample_subgraph , edge_type='orders')"
   ]
  },
  {
   "cell_type": "markdown",
   "id": "e0360747",
   "metadata": {},
   "source": [
    "## Running GNN"
   ]
  },
  {
   "cell_type": "code",
   "execution_count": null,
   "id": "8bb5e6da",
   "metadata": {},
   "outputs": [],
   "source": [
    "import dgl, os\n",
    "import pandas as pd\n",
    "import numpy as np\n",
    "import torch\n",
    "import torch.nn as nn\n",
    "import torch.nn.functional as F"
   ]
  },
  {
   "cell_type": "code",
   "execution_count": 609,
   "id": "a648dc42",
   "metadata": {},
   "outputs": [],
   "source": [
    "dim_dict = {'customer': train_g.nodes['customer'].data['features'].shape[1],\n",
    "            'product': train_g.nodes['product'].data['features'].shape[1],\n",
    "            'edge_dim': ecommerce_hetero_graph.edges['orders'].data['features'].shape[1],\n",
    "            'hidden_dim' : 128,\n",
    "            'out_dim': 16\n",
    "           }"
   ]
  },
  {
   "cell_type": "code",
   "execution_count": 602,
   "id": "f422e91b",
   "metadata": {},
   "outputs": [],
   "source": [
    "import dgl.function as fn\n",
    "\n",
    "class GNNLayer(nn.Module):\n",
    "\n",
    "    def __init__(self, input_graph, dim_dict):\n",
    "        \n",
    "        super().__init__()\n",
    "        self.node_in_feats = dim_dict['out_dim']\n",
    "        self.node_out_feats = dim_dict['out_dim']\n",
    "\n",
    "        self.edge_fc = nn.ModuleDict({\n",
    "            name[1] : nn.Sequential(\n",
    "                nn.Linear(dim_dict['edge_dim'], dim_dict['hidden_dim']),\n",
    "                nn.ReLU(),\n",
    "                nn.Linear(dim_dict['hidden_dim'], self.node_out_feats * self.node_out_feats),\n",
    "                nn.Dropout(p=0.5)\n",
    "                # check if dropout is necessary\n",
    "            ) for name in input_graph.canonical_etypes\n",
    "        })\n",
    "    \n",
    "    def udf_u_mul_e(self, nodes):\n",
    "#         print(\"Important Shapes :\", nodes.src['node_weights'], nodes.data['edge_weights'].shape)\n",
    "        return {'m': nodes.src['node_weights'] * nodes.data['edge_weights'] }\n",
    "    \n",
    "    def reduce_func(self, nodes):\n",
    "        return {'h': torch.mean(nodes.mailbox['m'], dim=1)}\n",
    "    \n",
    "    def forward(self, pos_g, feat_dict, edge_dict):\n",
    "\n",
    "        funcs = {}\n",
    "        for c_etype in pos_g.canonical_etypes:\n",
    "            \n",
    "            srctype, etype, dsttype = c_etype\n",
    "            \n",
    "#             print(\"Source\",srctype, etype, \"Destination\",dsttype)\n",
    "            \n",
    "            node_weights = feat_dict[srctype].unsqueeze(-1)\n",
    "#             print(\"Source type\", srctype)\n",
    "#             print(\"Node weights :\", node_weights.shape)\n",
    "\n",
    "#             pos_g.nodes[srctype].data['node_weights_%s' % etype] = node_weights\n",
    "            pos_g.nodes[srctype].data['node_weights'] = node_weights\n",
    "\n",
    "            edge_weights = self.edge_fc[etype](edge_dict[etype]).view(-1, self.node_in_feats, self.node_out_feats)\n",
    "            \n",
    "#             print(\"Edge weights :\",edge_weights.shape, edge_dict[etype])\n",
    "            pos_g[etype].edata['edge_weights'] = edge_weights\n",
    "#             pos_g[etype].edata['edge_weights_%s' % etype] = edge_weights\n",
    "            \n",
    "#             funcs[etype] = (fn.u_mul_e('node_weights_%s' % etype, 'edge_weights_%s' % etype,'m'), self.reduce_func)\n",
    "            funcs[etype] = (self.udf_u_mul_e, self.reduce_func)\n",
    "\n",
    "        pos_g.multi_update_all(funcs, 'mean')\n",
    "        results = {ntype : pos_g.nodes[ntype].data['h'].sum(dim=1) for ntype in pos_g.ntypes}\n",
    "        \n",
    "#         print(\"Results : \",results)\n",
    "        \n",
    "        return results\n",
    "\n",
    "class GNNMODEL(nn.Module):\n",
    "\n",
    "    def __init__(self, G, dim_dict, num_step_message_passing):\n",
    "\n",
    "        super(GNNMODEL, self).__init__()\n",
    "        \n",
    "#         # Added an activation function here : check if actually required. \n",
    "#         self.project_node_features = nn.ModuleDict({\n",
    "#             name[0] : nn.Sequential(nn.Linear(dim_dict[name[0]], dim_dict['out_dim']), nn.Softmax(dim=0)) for name in G.canonical_etypes\n",
    "#         })\n",
    "        \n",
    "        self.project_node_features = nn.ModuleDict({\n",
    "            name[0] : nn.Sequential(nn.Linear(dim_dict[name[0]], dim_dict['out_dim']), nn.ReLU()) for name in G.canonical_etypes\n",
    "        })\n",
    "        \n",
    "        self.num_step_message_passing = num_step_message_passing\n",
    "        self.gnn_layer = GNNLayer(G, dim_dict=dim_dict)\n",
    "    \n",
    "    def forward(self, pos_g, node_feats, edge_feats):\n",
    "        \n",
    "#         print(\"Pre-projected Node Features :\", node_feats)\n",
    "        \n",
    "        for feat in node_feats:\n",
    "            node_feats[feat] = self.project_node_features[feat](node_feats[feat])\n",
    "            \n",
    "#         print(\"Projected Node Features : \", node_feats)\n",
    "        \n",
    "        for i in range(self.num_step_message_passing):\n",
    "            node_feats = self.gnn_layer(pos_g, node_feats, edge_feats)\n",
    "#             print(\"Layer :\"+str(i))\n",
    "#             print(node_feats)\n",
    "        \n",
    "#         return self.predictor(g, node_feats), self.predictor(node_subgraph_negative, node_feats)\n",
    "        \n",
    "        for feat in node_feats:\n",
    "            node_feats[feat] = F.relu(node_feats[feat])\n",
    "    \n",
    "        return node_feats\n"
   ]
  },
  {
   "cell_type": "code",
   "execution_count": 603,
   "id": "210b2a4a",
   "metadata": {},
   "outputs": [],
   "source": [
    "class CosinePrediction(nn.Module):\n",
    "    \"\"\"\n",
    "    Scoring function that uses cosine similarity to compute similarity between user and item.\n",
    "\n",
    "    Only used if fixed_params.pred == 'cos'.\n",
    "    \"\"\"\n",
    "    def __init__(self):\n",
    "        super().__init__()\n",
    "\n",
    "    def forward(self, graph, h):\n",
    "        \n",
    "        print(\"h values\", h['customer'].shape, h['product'].shape)\n",
    "        with graph.local_scope():\n",
    "            for etype in graph.canonical_etypes:\n",
    "                try:\n",
    "                    graph.nodes[etype[0]].data['norm_h'] = F.normalize(h[etype[0]], p=2, dim=-1)\n",
    "                    graph.nodes[etype[2]].data['norm_h'] = F.normalize(h[etype[2]], p=2, dim=-1)\n",
    "#                     print(etype[0], h[etype[0]])\n",
    "                    graph.apply_edges(fn.u_dot_v('norm_h', 'norm_h', 'cos'), etype=etype)\n",
    "                except KeyError:\n",
    "                    pass  # For etypes that are not in training eids, thus have no 'h'\n",
    "            ratings = graph.edata['cos']\n",
    "        \n",
    "        print(ratings[('customer', 'orders', 'product')].shape)\n",
    "        return ratings\n",
    "\n",
    "class GNNPredictor(nn.Module):\n",
    "    \n",
    "    def __init__(self, input_graph, dim_dict):\n",
    "        \n",
    "        super(GNNPredictor, self).__init__()\n",
    "        \n",
    "        self.gnn = GNNMODEL(G = input_graph,\n",
    "                            dim_dict = dim_dict,\n",
    "                            num_step_message_passing = 2)\n",
    "\n",
    "        self.predictor = CosinePrediction()\n",
    "        self.node_feats = None\n",
    "    \n",
    "    def forward(self, g, neg_g, node_feats, edge_feats):\n",
    "\n",
    "        node_feats = self.gnn(g, node_feats, edge_feats)\n",
    "        \n",
    "        self.node_feats = node_feats\n",
    "        \n",
    "        return self.predictor(g, node_feats), self.predictor(neg_g, node_feats)\n",
    "    \n",
    "    def get_repr(self, g, node_feats, edge_feats):        \n",
    "        node_feats = self.gnn(g, node_feats, edge_feats)\n",
    "        return node_feats"
   ]
  },
  {
   "cell_type": "code",
   "execution_count": 604,
   "id": "48f901ea",
   "metadata": {},
   "outputs": [],
   "source": [
    "mpnn_model = GNNPredictor(train_g, dim_dict)\n",
    "optimizer = torch.optim.Adam(mpnn_model.parameters(), lr=0.0001,weight_decay=0)"
   ]
  },
  {
   "cell_type": "code",
   "execution_count": 605,
   "id": "53bb2814",
   "metadata": {},
   "outputs": [],
   "source": [
    "def max_margin_loss(pos_score, neg_score, delta=0.5):\n",
    "\n",
    "    all_scores = torch.empty(0)\n",
    "    \n",
    "    for etype in pos_score.keys():\n",
    "        neg_score_tensor = neg_score[etype]\n",
    "        pos_score_tensor = pos_score[etype]\n",
    "\n",
    "        neg_score_tensor = neg_score_tensor.reshape(pos_score_tensor.shape[0], -1)\n",
    "        scores = (neg_score_tensor - pos_score_tensor + delta).clamp(min=0)\n",
    "\n",
    "        relu = nn.ReLU()\n",
    "        scores = relu(scores)\n",
    "        all_scores = torch.cat((all_scores, scores), 0)\n",
    "\n",
    "    return torch.mean(all_scores)"
   ]
  },
  {
   "cell_type": "code",
   "execution_count": 606,
   "id": "96be0ab8",
   "metadata": {},
   "outputs": [
    {
     "data": {
      "text/plain": [
       "(tensor([71425, 71425, 71425,  ...,  7579,  7579,  7579]),\n",
       " tensor([24315,  5596, 24623,  ...,  5717,  9600, 18285]))"
      ]
     },
     "execution_count": 606,
     "metadata": {},
     "output_type": "execute_result"
    }
   ],
   "source": [
    "negative_graph.edges(etype='orders')"
   ]
  },
  {
   "cell_type": "code",
   "execution_count": 607,
   "id": "ced4ff54",
   "metadata": {},
   "outputs": [
    {
     "data": {
      "text/plain": [
       "(tensor([0, 1, 2, 3, 5, 8, 8, 9]), tensor([0, 0, 0, 0, 0, 0, 0, 1]))"
      ]
     },
     "execution_count": 607,
     "metadata": {},
     "output_type": "execute_result"
    }
   ],
   "source": [
    "sample_subgraph.edges(etype='orders')"
   ]
  },
  {
   "cell_type": "code",
   "execution_count": 594,
   "id": "a3992fd3",
   "metadata": {},
   "outputs": [
    {
     "data": {
      "text/plain": [
       "Graph(num_nodes={'customer': 10, 'product': 5},\n",
       "      num_edges={('customer', 'orders', 'product'): 8, ('product', 'rev-orders', 'customer'): 8},\n",
       "      metagraph=[('customer', 'product', 'orders'), ('product', 'customer', 'rev-orders')])"
      ]
     },
     "execution_count": 594,
     "metadata": {},
     "output_type": "execute_result"
    }
   ],
   "source": [
    "sample_subgraph"
   ]
  },
  {
   "cell_type": "code",
   "execution_count": 595,
   "id": "728c36ae",
   "metadata": {},
   "outputs": [
    {
     "data": {
      "text/plain": [
       "Graph(num_nodes={'customer': 10, 'product': 5},\n",
       "      num_edges={('customer', 'orders', 'product'): 8, ('product', 'rev-orders', 'customer'): 8},\n",
       "      metagraph=[('customer', 'product', 'orders'), ('product', 'customer', 'rev-orders')])"
      ]
     },
     "execution_count": 595,
     "metadata": {},
     "output_type": "execute_result"
    }
   ],
   "source": [
    "sample_subgraph"
   ]
  },
  {
   "cell_type": "code",
   "execution_count": null,
   "id": "598d920f",
   "metadata": {},
   "outputs": [],
   "source": []
  },
  {
   "cell_type": "code",
   "execution_count": 608,
   "id": "0d098d35",
   "metadata": {},
   "outputs": [
    {
     "ename": "KeyboardInterrupt",
     "evalue": "",
     "output_type": "error",
     "traceback": [
      "\u001b[0;31m---------------------------------------------------------------------------\u001b[0m",
      "\u001b[0;31mKeyboardInterrupt\u001b[0m                         Traceback (most recent call last)",
      "\u001b[0;32m<ipython-input-608-4ae663ec46e6>\u001b[0m in \u001b[0;36m<module>\u001b[0;34m\u001b[0m\n\u001b[1;32m     10\u001b[0m         \u001b[0medge_features_HM\u001b[0m\u001b[0;34m[\u001b[0m\u001b[0mkey\u001b[0m\u001b[0;34m[\u001b[0m\u001b[0;36m1\u001b[0m\u001b[0;34m]\u001b[0m\u001b[0;34m]\u001b[0m \u001b[0;34m=\u001b[0m \u001b[0mvalue\u001b[0m\u001b[0;34m.\u001b[0m\u001b[0mto\u001b[0m\u001b[0;34m(\u001b[0m\u001b[0mtorch\u001b[0m\u001b[0;34m.\u001b[0m\u001b[0mfloat\u001b[0m\u001b[0;34m)\u001b[0m\u001b[0;34m\u001b[0m\u001b[0;34m\u001b[0m\u001b[0m\n\u001b[1;32m     11\u001b[0m \u001b[0;34m\u001b[0m\u001b[0m\n\u001b[0;32m---> 12\u001b[0;31m     \u001b[0mpos_score\u001b[0m\u001b[0;34m,\u001b[0m \u001b[0mneg_score\u001b[0m \u001b[0;34m=\u001b[0m \u001b[0mmpnn_model\u001b[0m\u001b[0;34m(\u001b[0m\u001b[0mtrain_g\u001b[0m\u001b[0;34m,\u001b[0m \u001b[0mnegative_graph\u001b[0m\u001b[0;34m,\u001b[0m \u001b[0mnode_features\u001b[0m\u001b[0;34m,\u001b[0m \u001b[0medge_features_HM\u001b[0m\u001b[0;34m)\u001b[0m\u001b[0;34m\u001b[0m\u001b[0;34m\u001b[0m\u001b[0m\n\u001b[0m\u001b[1;32m     13\u001b[0m \u001b[0;34m\u001b[0m\u001b[0m\n\u001b[1;32m     14\u001b[0m     \u001b[0mloss\u001b[0m \u001b[0;34m=\u001b[0m \u001b[0mmax_margin_loss\u001b[0m\u001b[0;34m(\u001b[0m\u001b[0mpos_score\u001b[0m\u001b[0;34m,\u001b[0m \u001b[0mneg_score\u001b[0m\u001b[0;34m)\u001b[0m\u001b[0;34m\u001b[0m\u001b[0;34m\u001b[0m\u001b[0m\n",
      "\u001b[0;32m~/opt/anaconda3/lib/python3.8/site-packages/torch/nn/modules/module.py\u001b[0m in \u001b[0;36m_call_impl\u001b[0;34m(self, *input, **kwargs)\u001b[0m\n\u001b[1;32m   1128\u001b[0m         if not (self._backward_hooks or self._forward_hooks or self._forward_pre_hooks or _global_backward_hooks\n\u001b[1;32m   1129\u001b[0m                 or _global_forward_hooks or _global_forward_pre_hooks):\n\u001b[0;32m-> 1130\u001b[0;31m             \u001b[0;32mreturn\u001b[0m \u001b[0mforward_call\u001b[0m\u001b[0;34m(\u001b[0m\u001b[0;34m*\u001b[0m\u001b[0minput\u001b[0m\u001b[0;34m,\u001b[0m \u001b[0;34m**\u001b[0m\u001b[0mkwargs\u001b[0m\u001b[0;34m)\u001b[0m\u001b[0;34m\u001b[0m\u001b[0;34m\u001b[0m\u001b[0m\n\u001b[0m\u001b[1;32m   1131\u001b[0m         \u001b[0;31m# Do not call functions when jit is used\u001b[0m\u001b[0;34m\u001b[0m\u001b[0;34m\u001b[0m\u001b[0;34m\u001b[0m\u001b[0m\n\u001b[1;32m   1132\u001b[0m         \u001b[0mfull_backward_hooks\u001b[0m\u001b[0;34m,\u001b[0m \u001b[0mnon_full_backward_hooks\u001b[0m \u001b[0;34m=\u001b[0m \u001b[0;34m[\u001b[0m\u001b[0;34m]\u001b[0m\u001b[0;34m,\u001b[0m \u001b[0;34m[\u001b[0m\u001b[0;34m]\u001b[0m\u001b[0;34m\u001b[0m\u001b[0;34m\u001b[0m\u001b[0m\n",
      "\u001b[0;32m<ipython-input-603-f423c167d496>\u001b[0m in \u001b[0;36mforward\u001b[0;34m(self, g, neg_g, node_feats, edge_feats)\u001b[0m\n\u001b[1;32m     40\u001b[0m     \u001b[0;32mdef\u001b[0m \u001b[0mforward\u001b[0m\u001b[0;34m(\u001b[0m\u001b[0mself\u001b[0m\u001b[0;34m,\u001b[0m \u001b[0mg\u001b[0m\u001b[0;34m,\u001b[0m \u001b[0mneg_g\u001b[0m\u001b[0;34m,\u001b[0m \u001b[0mnode_feats\u001b[0m\u001b[0;34m,\u001b[0m \u001b[0medge_feats\u001b[0m\u001b[0;34m)\u001b[0m\u001b[0;34m:\u001b[0m\u001b[0;34m\u001b[0m\u001b[0;34m\u001b[0m\u001b[0m\n\u001b[1;32m     41\u001b[0m \u001b[0;34m\u001b[0m\u001b[0m\n\u001b[0;32m---> 42\u001b[0;31m         \u001b[0mnode_feats\u001b[0m \u001b[0;34m=\u001b[0m \u001b[0mself\u001b[0m\u001b[0;34m.\u001b[0m\u001b[0mgnn\u001b[0m\u001b[0;34m(\u001b[0m\u001b[0mg\u001b[0m\u001b[0;34m,\u001b[0m \u001b[0mnode_feats\u001b[0m\u001b[0;34m,\u001b[0m \u001b[0medge_feats\u001b[0m\u001b[0;34m)\u001b[0m\u001b[0;34m\u001b[0m\u001b[0;34m\u001b[0m\u001b[0m\n\u001b[0m\u001b[1;32m     43\u001b[0m \u001b[0;34m\u001b[0m\u001b[0m\n\u001b[1;32m     44\u001b[0m         \u001b[0mself\u001b[0m\u001b[0;34m.\u001b[0m\u001b[0mnode_feats\u001b[0m \u001b[0;34m=\u001b[0m \u001b[0mnode_feats\u001b[0m\u001b[0;34m\u001b[0m\u001b[0;34m\u001b[0m\u001b[0m\n",
      "\u001b[0;32m~/opt/anaconda3/lib/python3.8/site-packages/torch/nn/modules/module.py\u001b[0m in \u001b[0;36m_call_impl\u001b[0;34m(self, *input, **kwargs)\u001b[0m\n\u001b[1;32m   1128\u001b[0m         if not (self._backward_hooks or self._forward_hooks or self._forward_pre_hooks or _global_backward_hooks\n\u001b[1;32m   1129\u001b[0m                 or _global_forward_hooks or _global_forward_pre_hooks):\n\u001b[0;32m-> 1130\u001b[0;31m             \u001b[0;32mreturn\u001b[0m \u001b[0mforward_call\u001b[0m\u001b[0;34m(\u001b[0m\u001b[0;34m*\u001b[0m\u001b[0minput\u001b[0m\u001b[0;34m,\u001b[0m \u001b[0;34m**\u001b[0m\u001b[0mkwargs\u001b[0m\u001b[0;34m)\u001b[0m\u001b[0;34m\u001b[0m\u001b[0;34m\u001b[0m\u001b[0m\n\u001b[0m\u001b[1;32m   1131\u001b[0m         \u001b[0;31m# Do not call functions when jit is used\u001b[0m\u001b[0;34m\u001b[0m\u001b[0;34m\u001b[0m\u001b[0;34m\u001b[0m\u001b[0m\n\u001b[1;32m   1132\u001b[0m         \u001b[0mfull_backward_hooks\u001b[0m\u001b[0;34m,\u001b[0m \u001b[0mnon_full_backward_hooks\u001b[0m \u001b[0;34m=\u001b[0m \u001b[0;34m[\u001b[0m\u001b[0;34m]\u001b[0m\u001b[0;34m,\u001b[0m \u001b[0;34m[\u001b[0m\u001b[0;34m]\u001b[0m\u001b[0;34m\u001b[0m\u001b[0;34m\u001b[0m\u001b[0m\n",
      "\u001b[0;32m<ipython-input-602-39673e4ef8fc>\u001b[0m in \u001b[0;36mforward\u001b[0;34m(self, pos_g, node_feats, edge_feats)\u001b[0m\n\u001b[1;32m     86\u001b[0m \u001b[0;34m\u001b[0m\u001b[0m\n\u001b[1;32m     87\u001b[0m         \u001b[0;32mfor\u001b[0m \u001b[0mi\u001b[0m \u001b[0;32min\u001b[0m \u001b[0mrange\u001b[0m\u001b[0;34m(\u001b[0m\u001b[0mself\u001b[0m\u001b[0;34m.\u001b[0m\u001b[0mnum_step_message_passing\u001b[0m\u001b[0;34m)\u001b[0m\u001b[0;34m:\u001b[0m\u001b[0;34m\u001b[0m\u001b[0;34m\u001b[0m\u001b[0m\n\u001b[0;32m---> 88\u001b[0;31m             \u001b[0mnode_feats\u001b[0m \u001b[0;34m=\u001b[0m \u001b[0mself\u001b[0m\u001b[0;34m.\u001b[0m\u001b[0mgnn_layer\u001b[0m\u001b[0;34m(\u001b[0m\u001b[0mpos_g\u001b[0m\u001b[0;34m,\u001b[0m \u001b[0mnode_feats\u001b[0m\u001b[0;34m,\u001b[0m \u001b[0medge_feats\u001b[0m\u001b[0;34m)\u001b[0m\u001b[0;34m\u001b[0m\u001b[0;34m\u001b[0m\u001b[0m\n\u001b[0m\u001b[1;32m     89\u001b[0m \u001b[0;31m#             print(\"Layer :\"+str(i))\u001b[0m\u001b[0;34m\u001b[0m\u001b[0;34m\u001b[0m\u001b[0;34m\u001b[0m\u001b[0m\n\u001b[1;32m     90\u001b[0m \u001b[0;31m#             print(node_feats)\u001b[0m\u001b[0;34m\u001b[0m\u001b[0;34m\u001b[0m\u001b[0;34m\u001b[0m\u001b[0m\n",
      "\u001b[0;32m~/opt/anaconda3/lib/python3.8/site-packages/torch/nn/modules/module.py\u001b[0m in \u001b[0;36m_call_impl\u001b[0;34m(self, *input, **kwargs)\u001b[0m\n\u001b[1;32m   1128\u001b[0m         if not (self._backward_hooks or self._forward_hooks or self._forward_pre_hooks or _global_backward_hooks\n\u001b[1;32m   1129\u001b[0m                 or _global_forward_hooks or _global_forward_pre_hooks):\n\u001b[0;32m-> 1130\u001b[0;31m             \u001b[0;32mreturn\u001b[0m \u001b[0mforward_call\u001b[0m\u001b[0;34m(\u001b[0m\u001b[0;34m*\u001b[0m\u001b[0minput\u001b[0m\u001b[0;34m,\u001b[0m \u001b[0;34m**\u001b[0m\u001b[0mkwargs\u001b[0m\u001b[0;34m)\u001b[0m\u001b[0;34m\u001b[0m\u001b[0;34m\u001b[0m\u001b[0m\n\u001b[0m\u001b[1;32m   1131\u001b[0m         \u001b[0;31m# Do not call functions when jit is used\u001b[0m\u001b[0;34m\u001b[0m\u001b[0;34m\u001b[0m\u001b[0;34m\u001b[0m\u001b[0m\n\u001b[1;32m   1132\u001b[0m         \u001b[0mfull_backward_hooks\u001b[0m\u001b[0;34m,\u001b[0m \u001b[0mnon_full_backward_hooks\u001b[0m \u001b[0;34m=\u001b[0m \u001b[0;34m[\u001b[0m\u001b[0;34m]\u001b[0m\u001b[0;34m,\u001b[0m \u001b[0;34m[\u001b[0m\u001b[0;34m]\u001b[0m\u001b[0;34m\u001b[0m\u001b[0;34m\u001b[0m\u001b[0m\n",
      "\u001b[0;32m<ipython-input-602-39673e4ef8fc>\u001b[0m in \u001b[0;36mforward\u001b[0;34m(self, pos_g, feat_dict, edge_dict)\u001b[0m\n\u001b[1;32m     51\u001b[0m             \u001b[0mfuncs\u001b[0m\u001b[0;34m[\u001b[0m\u001b[0metype\u001b[0m\u001b[0;34m]\u001b[0m \u001b[0;34m=\u001b[0m \u001b[0;34m(\u001b[0m\u001b[0mself\u001b[0m\u001b[0;34m.\u001b[0m\u001b[0mudf_u_mul_e\u001b[0m\u001b[0;34m,\u001b[0m \u001b[0mself\u001b[0m\u001b[0;34m.\u001b[0m\u001b[0mreduce_func\u001b[0m\u001b[0;34m)\u001b[0m\u001b[0;34m\u001b[0m\u001b[0;34m\u001b[0m\u001b[0m\n\u001b[1;32m     52\u001b[0m \u001b[0;34m\u001b[0m\u001b[0m\n\u001b[0;32m---> 53\u001b[0;31m         \u001b[0mpos_g\u001b[0m\u001b[0;34m.\u001b[0m\u001b[0mmulti_update_all\u001b[0m\u001b[0;34m(\u001b[0m\u001b[0mfuncs\u001b[0m\u001b[0;34m,\u001b[0m \u001b[0;34m'mean'\u001b[0m\u001b[0;34m)\u001b[0m\u001b[0;34m\u001b[0m\u001b[0;34m\u001b[0m\u001b[0m\n\u001b[0m\u001b[1;32m     54\u001b[0m         \u001b[0mresults\u001b[0m \u001b[0;34m=\u001b[0m \u001b[0;34m{\u001b[0m\u001b[0mntype\u001b[0m \u001b[0;34m:\u001b[0m \u001b[0mpos_g\u001b[0m\u001b[0;34m.\u001b[0m\u001b[0mnodes\u001b[0m\u001b[0;34m[\u001b[0m\u001b[0mntype\u001b[0m\u001b[0;34m]\u001b[0m\u001b[0;34m.\u001b[0m\u001b[0mdata\u001b[0m\u001b[0;34m[\u001b[0m\u001b[0;34m'h'\u001b[0m\u001b[0;34m]\u001b[0m\u001b[0;34m.\u001b[0m\u001b[0msum\u001b[0m\u001b[0;34m(\u001b[0m\u001b[0mdim\u001b[0m\u001b[0;34m=\u001b[0m\u001b[0;36m1\u001b[0m\u001b[0;34m)\u001b[0m \u001b[0;32mfor\u001b[0m \u001b[0mntype\u001b[0m \u001b[0;32min\u001b[0m \u001b[0mpos_g\u001b[0m\u001b[0;34m.\u001b[0m\u001b[0mntypes\u001b[0m\u001b[0;34m}\u001b[0m\u001b[0;34m\u001b[0m\u001b[0;34m\u001b[0m\u001b[0m\n\u001b[1;32m     55\u001b[0m \u001b[0;34m\u001b[0m\u001b[0m\n",
      "\u001b[0;32m~/opt/anaconda3/lib/python3.8/site-packages/dgl/heterograph.py\u001b[0m in \u001b[0;36mmulti_update_all\u001b[0;34m(self, etype_dict, cross_reducer, apply_node_func)\u001b[0m\n\u001b[1;32m   5021\u001b[0m             \u001b[0mmfunc\u001b[0m\u001b[0;34m,\u001b[0m \u001b[0mrfunc\u001b[0m\u001b[0;34m,\u001b[0m \u001b[0mafunc\u001b[0m \u001b[0;34m=\u001b[0m \u001b[0margs\u001b[0m\u001b[0;34m\u001b[0m\u001b[0;34m\u001b[0m\u001b[0m\n\u001b[1;32m   5022\u001b[0m             \u001b[0mg\u001b[0m \u001b[0;34m=\u001b[0m \u001b[0mself\u001b[0m \u001b[0;32mif\u001b[0m \u001b[0metype\u001b[0m \u001b[0;32mis\u001b[0m \u001b[0;32mNone\u001b[0m \u001b[0;32melse\u001b[0m \u001b[0mself\u001b[0m\u001b[0;34m[\u001b[0m\u001b[0metype\u001b[0m\u001b[0;34m]\u001b[0m\u001b[0;34m\u001b[0m\u001b[0;34m\u001b[0m\u001b[0m\n\u001b[0;32m-> 5023\u001b[0;31m             \u001b[0mall_out\u001b[0m\u001b[0;34m[\u001b[0m\u001b[0mdtid\u001b[0m\u001b[0;34m]\u001b[0m\u001b[0;34m.\u001b[0m\u001b[0mappend\u001b[0m\u001b[0;34m(\u001b[0m\u001b[0mcore\u001b[0m\u001b[0;34m.\u001b[0m\u001b[0mmessage_passing\u001b[0m\u001b[0;34m(\u001b[0m\u001b[0mg\u001b[0m\u001b[0;34m,\u001b[0m \u001b[0mmfunc\u001b[0m\u001b[0;34m,\u001b[0m \u001b[0mrfunc\u001b[0m\u001b[0;34m,\u001b[0m \u001b[0mafunc\u001b[0m\u001b[0;34m)\u001b[0m\u001b[0;34m)\u001b[0m\u001b[0;34m\u001b[0m\u001b[0;34m\u001b[0m\u001b[0m\n\u001b[0m\u001b[1;32m   5024\u001b[0m             \u001b[0mmerge_order\u001b[0m\u001b[0;34m[\u001b[0m\u001b[0mdtid\u001b[0m\u001b[0;34m]\u001b[0m\u001b[0;34m.\u001b[0m\u001b[0mappend\u001b[0m\u001b[0;34m(\u001b[0m\u001b[0metid\u001b[0m\u001b[0;34m)\u001b[0m  \u001b[0;31m# use edge type id as merge order hint\u001b[0m\u001b[0;34m\u001b[0m\u001b[0;34m\u001b[0m\u001b[0m\n\u001b[1;32m   5025\u001b[0m         \u001b[0;32mfor\u001b[0m \u001b[0mdtid\u001b[0m\u001b[0;34m,\u001b[0m \u001b[0mframes\u001b[0m \u001b[0;32min\u001b[0m \u001b[0mall_out\u001b[0m\u001b[0;34m.\u001b[0m\u001b[0mitems\u001b[0m\u001b[0;34m(\u001b[0m\u001b[0;34m)\u001b[0m\u001b[0;34m:\u001b[0m\u001b[0;34m\u001b[0m\u001b[0;34m\u001b[0m\u001b[0m\n",
      "\u001b[0;32m~/opt/anaconda3/lib/python3.8/site-packages/dgl/core.py\u001b[0m in \u001b[0;36mmessage_passing\u001b[0;34m(g, mfunc, rfunc, afunc)\u001b[0m\n\u001b[1;32m    370\u001b[0m         \u001b[0;32melse\u001b[0m\u001b[0;34m:\u001b[0m\u001b[0;34m\u001b[0m\u001b[0;34m\u001b[0m\u001b[0m\n\u001b[1;32m    371\u001b[0m             \u001b[0morig_nid\u001b[0m \u001b[0;34m=\u001b[0m \u001b[0mg\u001b[0m\u001b[0;34m.\u001b[0m\u001b[0mdstdata\u001b[0m\u001b[0;34m.\u001b[0m\u001b[0mget\u001b[0m\u001b[0;34m(\u001b[0m\u001b[0mNID\u001b[0m\u001b[0;34m,\u001b[0m \u001b[0;32mNone\u001b[0m\u001b[0;34m)\u001b[0m\u001b[0;34m\u001b[0m\u001b[0;34m\u001b[0m\u001b[0m\n\u001b[0;32m--> 372\u001b[0;31m             \u001b[0mndata\u001b[0m \u001b[0;34m=\u001b[0m \u001b[0minvoke_udf_reduce\u001b[0m\u001b[0;34m(\u001b[0m\u001b[0mg\u001b[0m\u001b[0;34m,\u001b[0m \u001b[0mrfunc\u001b[0m\u001b[0;34m,\u001b[0m \u001b[0mmsgdata\u001b[0m\u001b[0;34m,\u001b[0m \u001b[0morig_nid\u001b[0m\u001b[0;34m=\u001b[0m\u001b[0morig_nid\u001b[0m\u001b[0;34m)\u001b[0m\u001b[0;34m\u001b[0m\u001b[0;34m\u001b[0m\u001b[0m\n\u001b[0m\u001b[1;32m    373\u001b[0m     \u001b[0;31m# apply phase\u001b[0m\u001b[0;34m\u001b[0m\u001b[0;34m\u001b[0m\u001b[0;34m\u001b[0m\u001b[0m\n\u001b[1;32m    374\u001b[0m     \u001b[0;32mif\u001b[0m \u001b[0mafunc\u001b[0m \u001b[0;32mis\u001b[0m \u001b[0;32mnot\u001b[0m \u001b[0;32mNone\u001b[0m\u001b[0;34m:\u001b[0m\u001b[0;34m\u001b[0m\u001b[0;34m\u001b[0m\u001b[0m\n",
      "\u001b[0;32m~/opt/anaconda3/lib/python3.8/site-packages/dgl/core.py\u001b[0m in \u001b[0;36minvoke_udf_reduce\u001b[0;34m(graph, func, msgdata, orig_nid)\u001b[0m\n\u001b[1;32m    154\u001b[0m             \u001b[0mmerged_rst\u001b[0m\u001b[0;34m[\u001b[0m\u001b[0mk\u001b[0m\u001b[0;34m]\u001b[0m \u001b[0;34m=\u001b[0m \u001b[0mF\u001b[0m\u001b[0;34m.\u001b[0m\u001b[0mcat\u001b[0m\u001b[0;34m(\u001b[0m\u001b[0;34m[\u001b[0m\u001b[0mrst\u001b[0m\u001b[0;34m[\u001b[0m\u001b[0mk\u001b[0m\u001b[0;34m]\u001b[0m \u001b[0;32mfor\u001b[0m \u001b[0mrst\u001b[0m \u001b[0;32min\u001b[0m \u001b[0mbkt_rsts\u001b[0m\u001b[0;34m]\u001b[0m\u001b[0;34m,\u001b[0m \u001b[0mdim\u001b[0m\u001b[0;34m=\u001b[0m\u001b[0;36m0\u001b[0m\u001b[0;34m)\u001b[0m\u001b[0;34m\u001b[0m\u001b[0;34m\u001b[0m\u001b[0m\n\u001b[1;32m    155\u001b[0m         \u001b[0mmerged_nodes\u001b[0m \u001b[0;34m=\u001b[0m \u001b[0mF\u001b[0m\u001b[0;34m.\u001b[0m\u001b[0mcat\u001b[0m\u001b[0;34m(\u001b[0m\u001b[0mbkt_nodes\u001b[0m\u001b[0;34m,\u001b[0m \u001b[0mdim\u001b[0m\u001b[0;34m=\u001b[0m\u001b[0;36m0\u001b[0m\u001b[0;34m)\u001b[0m\u001b[0;34m\u001b[0m\u001b[0;34m\u001b[0m\u001b[0m\n\u001b[0;32m--> 156\u001b[0;31m         \u001b[0mretf\u001b[0m\u001b[0;34m.\u001b[0m\u001b[0mupdate_row\u001b[0m\u001b[0;34m(\u001b[0m\u001b[0mmerged_nodes\u001b[0m\u001b[0;34m,\u001b[0m \u001b[0mmerged_rst\u001b[0m\u001b[0;34m)\u001b[0m\u001b[0;34m\u001b[0m\u001b[0;34m\u001b[0m\u001b[0m\n\u001b[0m\u001b[1;32m    157\u001b[0m \u001b[0;34m\u001b[0m\u001b[0m\n\u001b[1;32m    158\u001b[0m     \u001b[0;32mreturn\u001b[0m \u001b[0mretf\u001b[0m\u001b[0;34m\u001b[0m\u001b[0;34m\u001b[0m\u001b[0m\n",
      "\u001b[0;32m~/opt/anaconda3/lib/python3.8/site-packages/dgl/frame.py\u001b[0m in \u001b[0;36mupdate_row\u001b[0;34m(self, rowids, data)\u001b[0m\n\u001b[1;32m    720\u001b[0m                 \u001b[0mself\u001b[0m\u001b[0;34m.\u001b[0m\u001b[0madd_column\u001b[0m\u001b[0;34m(\u001b[0m\u001b[0mkey\u001b[0m\u001b[0;34m,\u001b[0m \u001b[0mscheme\u001b[0m\u001b[0;34m,\u001b[0m \u001b[0mctx\u001b[0m\u001b[0;34m)\u001b[0m\u001b[0;34m\u001b[0m\u001b[0;34m\u001b[0m\u001b[0m\n\u001b[1;32m    721\u001b[0m         \u001b[0;32mfor\u001b[0m \u001b[0mkey\u001b[0m\u001b[0;34m,\u001b[0m \u001b[0mval\u001b[0m \u001b[0;32min\u001b[0m \u001b[0mdata\u001b[0m\u001b[0;34m.\u001b[0m\u001b[0mitems\u001b[0m\u001b[0;34m(\u001b[0m\u001b[0;34m)\u001b[0m\u001b[0;34m:\u001b[0m\u001b[0;34m\u001b[0m\u001b[0;34m\u001b[0m\u001b[0m\n\u001b[0;32m--> 722\u001b[0;31m             \u001b[0mself\u001b[0m\u001b[0;34m.\u001b[0m\u001b[0m_columns\u001b[0m\u001b[0;34m[\u001b[0m\u001b[0mkey\u001b[0m\u001b[0;34m]\u001b[0m\u001b[0;34m.\u001b[0m\u001b[0mupdate\u001b[0m\u001b[0;34m(\u001b[0m\u001b[0mrowids\u001b[0m\u001b[0;34m,\u001b[0m \u001b[0mval\u001b[0m\u001b[0;34m)\u001b[0m\u001b[0;34m\u001b[0m\u001b[0;34m\u001b[0m\u001b[0m\n\u001b[0m\u001b[1;32m    723\u001b[0m \u001b[0;34m\u001b[0m\u001b[0m\n\u001b[1;32m    724\u001b[0m     \u001b[0;32mdef\u001b[0m \u001b[0m_append\u001b[0m\u001b[0;34m(\u001b[0m\u001b[0mself\u001b[0m\u001b[0;34m,\u001b[0m \u001b[0mother\u001b[0m\u001b[0;34m)\u001b[0m\u001b[0;34m:\u001b[0m\u001b[0;34m\u001b[0m\u001b[0;34m\u001b[0m\u001b[0m\n",
      "\u001b[0;32m~/opt/anaconda3/lib/python3.8/site-packages/dgl/frame.py\u001b[0m in \u001b[0;36mupdate\u001b[0;34m(self, rowids, feats)\u001b[0m\n\u001b[1;32m    353\u001b[0m             raise DGLError(\"Cannot update column of scheme %s using feature of scheme %s.\"\n\u001b[1;32m    354\u001b[0m                            % (feat_scheme, self.scheme))\n\u001b[0;32m--> 355\u001b[0;31m         \u001b[0mself\u001b[0m\u001b[0;34m.\u001b[0m\u001b[0mdata\u001b[0m \u001b[0;34m=\u001b[0m \u001b[0mF\u001b[0m\u001b[0;34m.\u001b[0m\u001b[0mscatter_row\u001b[0m\u001b[0;34m(\u001b[0m\u001b[0mself\u001b[0m\u001b[0;34m.\u001b[0m\u001b[0mdata\u001b[0m\u001b[0;34m,\u001b[0m \u001b[0mrowids\u001b[0m\u001b[0;34m,\u001b[0m \u001b[0mfeats\u001b[0m\u001b[0;34m)\u001b[0m\u001b[0;34m\u001b[0m\u001b[0;34m\u001b[0m\u001b[0m\n\u001b[0m\u001b[1;32m    356\u001b[0m \u001b[0;34m\u001b[0m\u001b[0m\n\u001b[1;32m    357\u001b[0m     \u001b[0;32mdef\u001b[0m \u001b[0mextend\u001b[0m\u001b[0;34m(\u001b[0m\u001b[0mself\u001b[0m\u001b[0;34m,\u001b[0m \u001b[0mfeats\u001b[0m\u001b[0;34m,\u001b[0m \u001b[0mfeat_scheme\u001b[0m\u001b[0;34m=\u001b[0m\u001b[0;32mNone\u001b[0m\u001b[0;34m)\u001b[0m\u001b[0;34m:\u001b[0m\u001b[0;34m\u001b[0m\u001b[0;34m\u001b[0m\u001b[0m\n",
      "\u001b[0;32m~/opt/anaconda3/lib/python3.8/site-packages/dgl/backend/pytorch/tensor.py\u001b[0m in \u001b[0;36mscatter_row\u001b[0;34m(data, row_index, value)\u001b[0m\n\u001b[1;32m    204\u001b[0m \u001b[0;34m\u001b[0m\u001b[0m\n\u001b[1;32m    205\u001b[0m \u001b[0;32mdef\u001b[0m \u001b[0mscatter_row\u001b[0m\u001b[0;34m(\u001b[0m\u001b[0mdata\u001b[0m\u001b[0;34m,\u001b[0m \u001b[0mrow_index\u001b[0m\u001b[0;34m,\u001b[0m \u001b[0mvalue\u001b[0m\u001b[0;34m)\u001b[0m\u001b[0;34m:\u001b[0m\u001b[0;34m\u001b[0m\u001b[0;34m\u001b[0m\u001b[0m\n\u001b[0;32m--> 206\u001b[0;31m     \u001b[0;32mreturn\u001b[0m \u001b[0mdata\u001b[0m\u001b[0;34m.\u001b[0m\u001b[0mindex_copy\u001b[0m\u001b[0;34m(\u001b[0m\u001b[0;36m0\u001b[0m\u001b[0;34m,\u001b[0m \u001b[0mrow_index\u001b[0m\u001b[0;34m.\u001b[0m\u001b[0mlong\u001b[0m\u001b[0;34m(\u001b[0m\u001b[0;34m)\u001b[0m\u001b[0;34m,\u001b[0m \u001b[0mvalue\u001b[0m\u001b[0;34m)\u001b[0m\u001b[0;34m\u001b[0m\u001b[0;34m\u001b[0m\u001b[0m\n\u001b[0m\u001b[1;32m    207\u001b[0m \u001b[0;34m\u001b[0m\u001b[0m\n\u001b[1;32m    208\u001b[0m \u001b[0;32mdef\u001b[0m \u001b[0mscatter_row_inplace\u001b[0m\u001b[0;34m(\u001b[0m\u001b[0mdata\u001b[0m\u001b[0;34m,\u001b[0m \u001b[0mrow_index\u001b[0m\u001b[0;34m,\u001b[0m \u001b[0mvalue\u001b[0m\u001b[0;34m)\u001b[0m\u001b[0;34m:\u001b[0m\u001b[0;34m\u001b[0m\u001b[0;34m\u001b[0m\u001b[0m\n",
      "\u001b[0;31mKeyboardInterrupt\u001b[0m: "
     ]
    }
   ],
   "source": [
    "for e in range(10):\n",
    "    \n",
    "    optimizer.zero_grad()\n",
    "    \n",
    "    node_features = train_g.ndata['features']\n",
    "    edge_features = train_g.edata['features']\n",
    "    \n",
    "    edge_features_HM = {}\n",
    "    for key, value in edge_features.items():\n",
    "        edge_features_HM[key[1]] = value.to(torch.float)\n",
    "    \n",
    "    pos_score, neg_score = mpnn_model(train_g, negative_graph, node_features, edge_features_HM)\n",
    "    \n",
    "    loss = max_margin_loss(pos_score, neg_score)\n",
    "    \n",
    "    print(\"Epoch : {}, Training loss : {}\".format(e, loss.item()))\n",
    "\n",
    "    optimizer.zero_grad()\n",
    "    loss.backward()\n",
    "    optimizer.step()\n",
    "    \n",
    "#     print(pos_score, neg_score)\n",
    "    print('--------------------------------------------')"
   ]
  },
  {
   "cell_type": "code",
   "execution_count": 600,
   "id": "5d5db787",
   "metadata": {},
   "outputs": [
    {
     "name": "stdout",
     "output_type": "stream",
     "text": [
      "gnn.project_node_features.customer.0.weight torch.Size([16, 1])\n",
      "gnn.project_node_features.customer.0.bias torch.Size([16])\n",
      "gnn.project_node_features.product.0.weight torch.Size([16, 1])\n",
      "gnn.project_node_features.product.0.bias torch.Size([16])\n",
      "gnn.gnn_layer.edge_fc.orders.0.weight torch.Size([128, 1])\n",
      "gnn.gnn_layer.edge_fc.orders.0.bias torch.Size([128])\n",
      "gnn.gnn_layer.edge_fc.orders.2.weight torch.Size([256, 128])\n",
      "gnn.gnn_layer.edge_fc.orders.2.bias torch.Size([256])\n",
      "gnn.gnn_layer.edge_fc.rev-orders.0.weight torch.Size([128, 1])\n",
      "gnn.gnn_layer.edge_fc.rev-orders.0.bias torch.Size([128])\n",
      "gnn.gnn_layer.edge_fc.rev-orders.2.weight torch.Size([256, 128])\n",
      "gnn.gnn_layer.edge_fc.rev-orders.2.bias torch.Size([256])\n"
     ]
    }
   ],
   "source": [
    "for name, param in mpnn_model.named_parameters():\n",
    "    if param.requires_grad:\n",
    "        print(name, param.grad.shape)\n",
    "#     print(param, param.grad)"
   ]
  },
  {
   "cell_type": "code",
   "execution_count": 576,
   "id": "48dd008a",
   "metadata": {},
   "outputs": [
    {
     "name": "stdout",
     "output_type": "stream",
     "text": [
      "Linear(in_features=1, out_features=16, bias=True)\n",
      "ReLU()\n"
     ]
    },
    {
     "ename": "AttributeError",
     "evalue": "'ReLU' object has no attribute 'out'",
     "output_type": "error",
     "traceback": [
      "\u001b[0;31m---------------------------------------------------------------------------\u001b[0m",
      "\u001b[0;31mAttributeError\u001b[0m                            Traceback (most recent call last)",
      "\u001b[0;32m<ipython-input-576-11efcb7738aa>\u001b[0m in \u001b[0;36m<module>\u001b[0;34m\u001b[0m\n\u001b[1;32m      5\u001b[0m     \u001b[0mprint\u001b[0m\u001b[0;34m(\u001b[0m\u001b[0mlayer\u001b[0m\u001b[0;34m)\u001b[0m\u001b[0;34m\u001b[0m\u001b[0;34m\u001b[0m\u001b[0m\n\u001b[1;32m      6\u001b[0m     \u001b[0;32mif\u001b[0m \u001b[0misinstance\u001b[0m\u001b[0;34m(\u001b[0m\u001b[0mlayer\u001b[0m\u001b[0;34m,\u001b[0m \u001b[0mnn\u001b[0m\u001b[0;34m.\u001b[0m\u001b[0mReLU\u001b[0m\u001b[0;34m)\u001b[0m\u001b[0;34m:\u001b[0m\u001b[0;34m\u001b[0m\u001b[0;34m\u001b[0m\u001b[0m\n\u001b[0;32m----> 7\u001b[0;31m         \u001b[0mt\u001b[0m \u001b[0;34m=\u001b[0m \u001b[0mlayer\u001b[0m\u001b[0;34m.\u001b[0m\u001b[0mout\u001b[0m\u001b[0;34m\u001b[0m\u001b[0;34m\u001b[0m\u001b[0m\n\u001b[0m\u001b[1;32m      8\u001b[0m         \u001b[0mprint\u001b[0m\u001b[0;34m(\u001b[0m\u001b[0mt\u001b[0m\u001b[0;34m)\u001b[0m\u001b[0;34m\u001b[0m\u001b[0;34m\u001b[0m\u001b[0m\n\u001b[1;32m      9\u001b[0m         \u001b[0mprint\u001b[0m\u001b[0;34m(\u001b[0m\u001b[0;34m'layer %d (%10s): mean %+.2f, std %.2f, saturated: %.2f%%'\u001b[0m \u001b[0;34m%\u001b[0m \u001b[0;34m(\u001b[0m\u001b[0mi\u001b[0m\u001b[0;34m,\u001b[0m \u001b[0mlayer\u001b[0m\u001b[0;34m.\u001b[0m\u001b[0m__class__\u001b[0m\u001b[0;34m.\u001b[0m\u001b[0m__name__\u001b[0m\u001b[0;34m,\u001b[0m \u001b[0mt\u001b[0m\u001b[0;34m.\u001b[0m\u001b[0mmean\u001b[0m\u001b[0;34m(\u001b[0m\u001b[0;34m)\u001b[0m\u001b[0;34m,\u001b[0m \u001b[0mt\u001b[0m\u001b[0;34m.\u001b[0m\u001b[0mstd\u001b[0m\u001b[0;34m(\u001b[0m\u001b[0;34m)\u001b[0m\u001b[0;34m,\u001b[0m \u001b[0;34m(\u001b[0m\u001b[0mt\u001b[0m\u001b[0;34m.\u001b[0m\u001b[0mabs\u001b[0m\u001b[0;34m(\u001b[0m\u001b[0;34m)\u001b[0m \u001b[0;34m>\u001b[0m \u001b[0;36m0.97\u001b[0m\u001b[0;34m)\u001b[0m\u001b[0;34m.\u001b[0m\u001b[0mfloat\u001b[0m\u001b[0;34m(\u001b[0m\u001b[0;34m)\u001b[0m\u001b[0;34m.\u001b[0m\u001b[0mmean\u001b[0m\u001b[0;34m(\u001b[0m\u001b[0;34m)\u001b[0m\u001b[0;34m*\u001b[0m\u001b[0;36m100\u001b[0m\u001b[0;34m)\u001b[0m\u001b[0;34m)\u001b[0m\u001b[0;34m\u001b[0m\u001b[0;34m\u001b[0m\u001b[0m\n",
      "\u001b[0;32m~/opt/anaconda3/lib/python3.8/site-packages/torch/nn/modules/module.py\u001b[0m in \u001b[0;36m__getattr__\u001b[0;34m(self, name)\u001b[0m\n\u001b[1;32m   1205\u001b[0m             \u001b[0;32mif\u001b[0m \u001b[0mname\u001b[0m \u001b[0;32min\u001b[0m \u001b[0mmodules\u001b[0m\u001b[0;34m:\u001b[0m\u001b[0;34m\u001b[0m\u001b[0;34m\u001b[0m\u001b[0m\n\u001b[1;32m   1206\u001b[0m                 \u001b[0;32mreturn\u001b[0m \u001b[0mmodules\u001b[0m\u001b[0;34m[\u001b[0m\u001b[0mname\u001b[0m\u001b[0;34m]\u001b[0m\u001b[0;34m\u001b[0m\u001b[0;34m\u001b[0m\u001b[0m\n\u001b[0;32m-> 1207\u001b[0;31m         raise AttributeError(\"'{}' object has no attribute '{}'\".format(\n\u001b[0m\u001b[1;32m   1208\u001b[0m             type(self).__name__, name))\n\u001b[1;32m   1209\u001b[0m \u001b[0;34m\u001b[0m\u001b[0m\n",
      "\u001b[0;31mAttributeError\u001b[0m: 'ReLU' object has no attribute 'out'"
     ]
    },
    {
     "data": {
      "text/plain": [
       "<Figure size 1440x288 with 0 Axes>"
      ]
     },
     "metadata": {},
     "output_type": "display_data"
    }
   ],
   "source": [
    "# visualize histograms\n",
    "plt.figure(figsize=(20, 4)) # width and height of the plot\n",
    "legends = []\n",
    "for i, layer in enumerate(mpnn_model.gnn.project_node_features['customer']): # note: exclude the output layer\n",
    "    print(layer)\n",
    "    if isinstance(layer, nn.ReLU):\n",
    "        t = layer.out\n",
    "        print(t)\n",
    "        print('layer %d (%10s): mean %+.2f, std %.2f, saturated: %.2f%%' % (i, layer.__class__.__name__, t.mean(), t.std(), (t.abs() > 0.97).float().mean()*100))\n",
    "        hy, hx = torch.histogram(t, density=True)\n",
    "        plt.plot(hx[:-1].detach(), hy.detach())\n",
    "        legends.append(f'layer {i} ({layer.__class__.__name__}')\n",
    "plt.legend(legends);\n",
    "plt.title('activation distribution')"
   ]
  },
  {
   "cell_type": "code",
   "execution_count": 571,
   "id": "880ac70f",
   "metadata": {},
   "outputs": [
    {
     "name": "stdout",
     "output_type": "stream",
     "text": [
      "torch.Size([16, 1])\n",
      "torch.Size([16])\n",
      "torch.Size([16, 1])\n",
      "torch.Size([16])\n"
     ]
    },
    {
     "data": {
      "image/png": "[encoded data removed]",
      "text/plain": [
       "<Figure size 1440x288 with 1 Axes>"
      ]
     },
     "metadata": {
      "needs_background": "light"
     },
     "output_type": "display_data"
    }
   ],
   "source": [
    "# visualize histograms\n",
    "plt.figure(figsize=(20, 4)) # width and height of the plot\n",
    "legends = []\n",
    "for name, param in mpnn_model.named_parameters():\n",
    "    if param.requires_grad and \"project_node_features\" in name :\n",
    "        t = param.grad\n",
    "        print(t.shape)\n",
    "#         print('weight %10s | mean %+f | std %e | grad:data ratio %e' % (tuple(p.shape), t.mean(), t.std(), t.std() / p.std()))\n",
    "        hy, hx = torch.histogram(t, density=True)\n",
    "        plt.plot(hx[:-1].detach(), hy.detach())\n",
    "        legends.append(f'{i} {tuple(param.shape)}')\n",
    "        \n",
    "    plt.legend(legends)\n",
    "    plt.title('weights gradient distribution');"
   ]
  },
  {
   "cell_type": "code",
   "execution_count": 538,
   "id": "b23cbb77",
   "metadata": {},
   "outputs": [
    {
     "data": {
      "text/plain": [
       "{'customer': tensor([[2.9047e-01, 0.0000e+00, 2.4570e-01, 2.8768e-01, 0.0000e+00, 2.6530e-01,\n",
       "          1.2303e-01, 0.0000e+00, 0.0000e+00, 0.0000e+00, 0.0000e+00, 0.0000e+00,\n",
       "          0.0000e+00, 2.7535e-01, 0.0000e+00, 0.0000e+00],\n",
       "         [0.0000e+00, 0.0000e+00, 0.0000e+00, 1.9328e-01, 3.7134e-02, 0.0000e+00,\n",
       "          2.6453e-01, 0.0000e+00, 0.0000e+00, 0.0000e+00, 2.5241e-02, 0.0000e+00,\n",
       "          0.0000e+00, 9.5598e-02, 0.0000e+00, 7.5655e-02],\n",
       "         [8.4317e-02, 3.6693e-02, 0.0000e+00, 9.6659e-01, 0.0000e+00, 0.0000e+00,\n",
       "          0.0000e+00, 3.3756e-02, 0.0000e+00, 4.4253e-03, 0.0000e+00, 0.0000e+00,\n",
       "          1.2942e-02, 5.7457e-02, 0.0000e+00, 4.0253e-01],\n",
       "         [1.0544e-01, 0.0000e+00, 0.0000e+00, 5.2506e-01, 1.1783e-01, 1.3358e-01,\n",
       "          1.4528e-01, 0.0000e+00, 8.9365e-02, 1.1691e-03, 0.0000e+00, 2.7486e-01,\n",
       "          2.6094e-01, 1.7909e-02, 5.2922e-02, 3.1594e-01],\n",
       "         [0.0000e+00, 0.0000e+00, 0.0000e+00, 0.0000e+00, 0.0000e+00, 0.0000e+00,\n",
       "          0.0000e+00, 0.0000e+00, 0.0000e+00, 0.0000e+00, 0.0000e+00, 0.0000e+00,\n",
       "          0.0000e+00, 0.0000e+00, 0.0000e+00, 0.0000e+00],\n",
       "         [6.5346e-02, 0.0000e+00, 3.4711e-02, 6.3778e-03, 1.6546e-01, 0.0000e+00,\n",
       "          3.2771e-02, 0.0000e+00, 0.0000e+00, 2.5630e-01, 0.0000e+00, 8.5059e-02,\n",
       "          6.3477e-02, 3.6086e-02, 0.0000e+00, 5.6137e-02],\n",
       "         [0.0000e+00, 0.0000e+00, 0.0000e+00, 0.0000e+00, 0.0000e+00, 0.0000e+00,\n",
       "          0.0000e+00, 0.0000e+00, 0.0000e+00, 0.0000e+00, 0.0000e+00, 0.0000e+00,\n",
       "          0.0000e+00, 0.0000e+00, 0.0000e+00, 0.0000e+00],\n",
       "         [0.0000e+00, 0.0000e+00, 0.0000e+00, 0.0000e+00, 0.0000e+00, 0.0000e+00,\n",
       "          0.0000e+00, 0.0000e+00, 0.0000e+00, 0.0000e+00, 0.0000e+00, 0.0000e+00,\n",
       "          0.0000e+00, 0.0000e+00, 0.0000e+00, 0.0000e+00],\n",
       "         [0.0000e+00, 0.0000e+00, 0.0000e+00, 9.2162e-01, 0.0000e+00, 0.0000e+00,\n",
       "          1.2705e-01, 0.0000e+00, 0.0000e+00, 0.0000e+00, 0.0000e+00, 2.3879e-01,\n",
       "          0.0000e+00, 0.0000e+00, 0.0000e+00, 3.2755e-01],\n",
       "         [2.5901e+00, 2.4346e+00, 6.4813e+00, 0.0000e+00, 3.1990e+00, 0.0000e+00,\n",
       "          0.0000e+00, 5.8596e+00, 1.8904e+00, 0.0000e+00, 0.0000e+00, 8.0150e+00,\n",
       "          0.0000e+00, 5.0148e+00, 0.0000e+00, 0.0000e+00]],\n",
       "        grad_fn=<ReluBackward0>),\n",
       " 'product': tensor([[0.0000, 0.0000, 0.0000, 0.2362, 0.0000, 0.0000, 0.1930, 0.0000, 0.0000,\n",
       "          0.7411, 0.0912, 0.3496, 0.1601, 0.6187, 0.1611, 0.3886],\n",
       "         [0.0000, 0.0000, 0.0000, 0.9449, 0.0000, 0.7634, 0.0000, 0.0000, 0.0000,\n",
       "          0.3217, 0.0000, 0.0000, 0.0000, 0.0000, 0.1808, 0.0000],\n",
       "         [0.0000, 0.0000, 0.0000, 0.0000, 0.0000, 0.0000, 0.0000, 0.0000, 0.0000,\n",
       "          0.0000, 0.0000, 0.0000, 0.0000, 0.0000, 0.0000, 0.0000],\n",
       "         [0.0000, 0.0000, 0.0000, 0.0000, 0.0000, 0.0000, 0.0000, 0.0000, 0.0000,\n",
       "          0.0000, 0.0000, 0.0000, 0.0000, 0.0000, 0.0000, 0.0000],\n",
       "         [0.0000, 0.0000, 0.0000, 0.0000, 0.0000, 0.0000, 0.0000, 0.0000, 0.0000,\n",
       "          0.0000, 0.0000, 0.0000, 0.0000, 0.0000, 0.0000, 0.0000]],\n",
       "        grad_fn=<ReluBackward0>)}"
      ]
     },
     "execution_count": 538,
     "metadata": {},
     "output_type": "execute_result"
    }
   ],
   "source": [
    "mpnn_model.node_feats"
   ]
  },
  {
   "cell_type": "code",
   "execution_count": 547,
   "id": "6a107632",
   "metadata": {},
   "outputs": [],
   "source": [
    "is_zero_cust = torch.all(mpnn_model.node_feats['customer'] == 0, dim=1)"
   ]
  },
  {
   "cell_type": "code",
   "execution_count": 548,
   "id": "2890f98a",
   "metadata": {},
   "outputs": [
    {
     "data": {
      "text/plain": [
       "tensor([False, False, False, False,  True, False,  True,  True, False, False])"
      ]
     },
     "execution_count": 548,
     "metadata": {},
     "output_type": "execute_result"
    }
   ],
   "source": [
    "is_zero_cust"
   ]
  },
  {
   "cell_type": "code",
   "execution_count": 549,
   "id": "51cf496e",
   "metadata": {},
   "outputs": [],
   "source": [
    "is_zero_prod = torch.all(mpnn_model.node_feats['product'] == 0, dim=1)"
   ]
  },
  {
   "cell_type": "code",
   "execution_count": 550,
   "id": "edbb0839",
   "metadata": {},
   "outputs": [
    {
     "data": {
      "text/plain": [
       "tensor([False, False,  True,  True,  True])"
      ]
     },
     "execution_count": 550,
     "metadata": {},
     "output_type": "execute_result"
    }
   ],
   "source": [
    "is_zero_prod"
   ]
  },
  {
   "cell_type": "code",
   "execution_count": null,
   "id": "20f95a21",
   "metadata": {},
   "outputs": [],
   "source": []
  },
  {
   "cell_type": "code",
   "execution_count": null,
   "id": "9ec7ce79",
   "metadata": {},
   "outputs": [],
   "source": []
  },
  {
   "cell_type": "code",
   "execution_count": 455,
   "id": "050d36be",
   "metadata": {},
   "outputs": [],
   "source": [
    "edge_features = test_g.edata['features']\n",
    "\n",
    "edge_features_HM = {}\n",
    "for key, value in edge_features.items():\n",
    "    edge_features_HM[key[1]] = value.to(torch.float)\n",
    "\n",
    "h = mpnn_model.get_repr(test_g, test_g.ndata['features'], edge_features_HM)"
   ]
  },
  {
   "cell_type": "code",
   "execution_count": 462,
   "id": "9fbdf93b",
   "metadata": {},
   "outputs": [
    {
     "data": {
      "text/plain": [
       "tensor([0., 0., 0., 0., 0., 0., 0., 0., 0., 0., 0., 0., 0., 0., 0., 0.],\n",
       "       grad_fn=<SelectBackward0>)"
      ]
     },
     "execution_count": 462,
     "metadata": {},
     "output_type": "execute_result"
    }
   ],
   "source": [
    "h['customer'][1000]"
   ]
  },
  {
   "cell_type": "code",
   "execution_count": 465,
   "id": "b1c2cd14",
   "metadata": {},
   "outputs": [
    {
     "data": {
      "text/plain": [
       "(tensor([1000]), tensor([15739]))"
      ]
     },
     "execution_count": 465,
     "metadata": {},
     "output_type": "execute_result"
    }
   ],
   "source": [
    "test_g.out_edges(1000, etype='rev-orders')"
   ]
  },
  {
   "cell_type": "code",
   "execution_count": 415,
   "id": "e1d552e0",
   "metadata": {},
   "outputs": [],
   "source": [
    "t = torch.tensor([[1.,2.,3.],\n",
    "                  [4.,5.,6.]])"
   ]
  },
  {
   "cell_type": "code",
   "execution_count": 422,
   "id": "d1743017",
   "metadata": {},
   "outputs": [],
   "source": [
    "t1 = F.normalize(t, p=2.0, dim = -1)"
   ]
  },
  {
   "cell_type": "code",
   "execution_count": null,
   "id": "75e32595",
   "metadata": {},
   "outputs": [],
   "source": [
    "t2 = F.normalize(t, p=2.0, dim = 1)"
   ]
  },
  {
   "cell_type": "code",
   "execution_count": 424,
   "id": "f3b96bf6",
   "metadata": {},
   "outputs": [
    {
     "data": {
      "text/plain": [
       "tensor([[True, True, True],\n",
       "        [True, True, True]])"
      ]
     },
     "execution_count": 424,
     "metadata": {},
     "output_type": "execute_result"
    }
   ],
   "source": [
    "t1 == t1"
   ]
  },
  {
   "cell_type": "code",
   "execution_count": null,
   "id": "6f27685e",
   "metadata": {},
   "outputs": [],
   "source": []
  }
 ],
 "metadata": {
  "kernelspec": {
   "display_name": "gnnenv",
   "language": "python",
   "name": "gnnenv"
  },
  "language_info": {
   "codemirror_mode": {
    "name": "ipython",
    "version": 3
   },
   "file_extension": ".py",
   "mimetype": "text/x-python",
   "name": "python",
   "nbconvert_exporter": "python",
   "pygments_lexer": "ipython3",
   "version": "3.8.8"
  }
 },
 "nbformat": 4,
 "nbformat_minor": 5
}
