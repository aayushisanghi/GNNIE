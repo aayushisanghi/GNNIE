{
 "cells": [
  {
   "cell_type": "code",
   "execution_count": null,
   "id": "2828cc29",
   "metadata": {},
   "outputs": [],
   "source": [
    "\"\"\"\n",
    "    PageRank Helper Function\n",
    "\"\"\"\n",
    "def pagerank_reduce_func(nodes):\n",
    "    msgs = torch.sum(nodes.mailbox['pagerank_pv'], dim=1)\n",
    "    pv = (1 - DAMP) / N + DAMP * msgs\n",
    "    return {'pagerank_pv' : pv}"
   ]
  },
  {
   "cell_type": "code",
   "execution_count": null,
   "id": "0835e0c3",
   "metadata": {},
   "outputs": [],
   "source": [
    "\"\"\"\n",
    "    PageRank Helper Function\n",
    "\"\"\"\n",
    "def pagerank_message_func(edges):\n",
    "    return {'pagerank_pv' : edges.src['pagerank_pv'] / edges.src['pagerank_deg']}"
   ]
  },
  {
   "cell_type": "code",
   "execution_count": null,
   "id": "889d47bd",
   "metadata": {},
   "outputs": [],
   "source": [
    "\"\"\"\n",
    "PageRank\n",
    "\n",
    "Implements Pagerank features in bypartite GNN\n",
    "\n",
    "Parameters\n",
    "----------\n",
    "g : DGL Heterograph \n",
    "    The Graph should contain two node types only.\n",
    "user_label : string, optional\n",
    "    Name of the user node\n",
    "product_label: string, optional\n",
    "    Name of the product node\n",
    "edge_label: string, optional\n",
    "    Name of the user to product edge type\n",
    "rev_edge_label: string, optional\n",
    "    Name of the product to user edge type\n",
    "DAMP: float, optional\n",
    "    Damp or decay factor. This corresponds to the probability of connections sinking at any giving point (nodes with no outgoing edges). \n",
    "    It prevents the sinked nodes from \"absorbing\" the PageRanks of those pages connected to the sinks. \n",
    "reverse: bool, optional\n",
    "    Whether or not the PageRank algorithm should run on the reverse orientation (products to users)\n",
    "\n",
    "Returns\n",
    "    \n",
    "-------\n",
    "DGL Heterograph \n",
    "    The Graph with pagerank features included in its nodes (\"pagerank_pv\").\n",
    "\"\"\"\n",
    "def pagerank(g, user_label = 'user', product_label = 'product', edge_label = 'purchase', rev_edge_label = 'review', DAMP = 0.85, reverse = False):\n",
    "   \n",
    "    N = g.number_of_nodes()\n",
    "    N_user = g.num_src_nodes(user_label)\n",
    "    N_product = g.num_src_nodes(product_label)\n",
    "    \n",
    "    g.nodes[user_label].data['pagerank_pv'] = torch.ones(N_user) / N\n",
    "    g.nodes[product_label].data['pagerank_pv'] = torch.ones(N_movie) / N\n",
    "    g.nodes[user_label].data['pagerank_deg'] = g.out_degrees(g.nodes(user_label), etype=edge_label).float()\n",
    "    g.nodes[product_label].data['pagerank_deg'] = g.out_degrees(g.nodes(product_label), etype=rev_edge_label).float()\n",
    "\n",
    "    g.multi_update_all({edge_label: (pagerank_message_func, pagerank_reduce_func)},\"sum\")\n",
    "    \n",
    "    if(reverse):\n",
    "        g.multi_update_all({rev_edge_label: (pagerank_message_func, pagerank_reduce_func)},\"sum\")\n",
    " \n",
    "    return g\n",
    "    "
   ]
  }
 ],
 "metadata": {
  "kernelspec": {
   "display_name": "Python 3",
   "language": "python",
   "name": "python3"
  },
  "language_info": {
   "codemirror_mode": {
    "name": "ipython",
    "version": 3
   },
   "file_extension": ".py",
   "mimetype": "text/x-python",
   "name": "python",
   "nbconvert_exporter": "python",
   "pygments_lexer": "ipython3",
   "version": "3.8.8"
  }
 },
 "nbformat": 4,
 "nbformat_minor": 5
}
