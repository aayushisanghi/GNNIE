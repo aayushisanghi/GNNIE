{
  "cells": [
    {
      "cell_type": "code",
      "source": [
        "# initiate the graph\n",
        "movie_hetero_graph = dgl.heterograph(graph_data) \n",
        "movie_hetero_graph_clean = clean_graph(movie_hetero_graph, users_df, movie_df, ratings_df)\n",
        "\n",
        "print(movie_hetero_graph)\n",
        "print(\"-------------------\")\n",
        "print(movie_hetero_graph_clean)"
      ],
      "metadata": {
        "colab": {
          "base_uri": "https://localhost:8080/"
        },
        "id": "wKYyFaqJwHjP",
        "outputId": "141786e6-5c36-4630-c7c3-22d25f9d7ced"
      },
      "id": "wKYyFaqJwHjP",
      "execution_count": null,
      "outputs": [
        {
          "output_type": "stream",
          "name": "stdout",
          "text": [
            "Graph(num_nodes={'movie': 4, 'user': 2},\n",
            "      num_edges={('movie', 'rev-rates', 'user'): 5, ('user', 'rates', 'movie'): 5},\n",
            "      metagraph=[('movie', 'user', 'rev-rates'), ('user', 'movie', 'rates')])\n",
            "-------------------\n",
            "Graph(num_nodes={'movie': 4, 'user': 2},\n",
            "      num_edges={('movie', 'rev-rates', 'user'): 5, ('user', 'rates', 'movie'): 5},\n",
            "      metagraph=[('movie', 'user', 'rev-rates'), ('user', 'movie', 'rates')])\n"
          ]
        }
      ]
    },
    {
      "cell_type": "markdown",
      "source": [
        "# Structural Features"
      ],
      "metadata": {
        "id": "iDwmnrd5lK4E"
      },
      "id": "iDwmnrd5lK4E"
    },
    {
      "cell_type": "markdown",
      "source": [
        "### Deep Random Walk"
      ],
      "metadata": {
        "id": "9HbV4wyJJVra"
      },
      "id": "9HbV4wyJJVra"
    },
    {
      "cell_type": "markdown",
      "source": [
        "**Network Embeddings**\n",
        "\n",
        "Network embedding, i.e., network representation learning (NRL), is proposed to **embed network into a low dimensional space while preserving the network structure and property** so that the learned embeddings can be applied to the downstream network tasks. \n",
        "\n",
        "* random walk\n",
        "* deep neural network\n",
        "* matrix factorization\n",
        "\n",
        "All these algorithms are proposed for the **homogeneous graphs**.\n",
        "<br>\n",
        "<br>\n",
        "\n",
        "\n",
        "**Deep Random Walk**\n",
        "\n",
        "Transfer graph into vectors. The representation vector carries structural information about nodes and its neighbor.\n",
        "\n",
        "Steps:\n",
        "1. Generate a random walk (a list of nodes walked) for each node\n",
        "2. To make it a feature (for each node), \n",
        "  - Use the classic walk (an 1D array)\n",
        "  - Make a revision of the walk, e.g. user_only_walk, movie_only_walk (a shorter 1D array)\n",
        "  - Calculate a score, e.g. cnt of different movies reached (a single value)\n",
        "  - Transform into embeddings\n",
        "\n",
        "TODO:\n",
        "1. Nodes in this graph should have unique ids, otherwise from the embeddings we can't distinguish nodes with same id but different node types.\n",
        "2. Check that the similarity of embedding reflects the real situation\n",
        "\n",
        "\n",
        "Backlog:\n",
        "1. Allow more walks per node (not implemented)\n",
        "\n",
        "\n",
        "Source:\n",
        "\n",
        "[DeepWalk: Online Learning of Social Representations](https://arxiv.org/pdf/1403.6652.pdf)\n",
        "\n",
        "[DeepWalk Implementation](https://towardsdatascience.com/exploring-graph-embeddings-deepwalk-and-node2vec-ee12c4c0d26d)\n",
        "\n",
        "\n"
      ],
      "metadata": {
        "id": "b0dsirOQMzwf"
      },
      "id": "b0dsirOQMzwf"
    },
    {
      "cell_type": "code",
      "source": [
        "import random\n",
        "import numpy as np\n",
        "from typing import List\n",
        "import copy\n",
        "import torch\n",
        "from torch import nn\n",
        "from gensim.models import Word2Vec\n",
        "# from tqdm import tqdm\n",
        "\n",
        "\n",
        "class DeepWalk:\n",
        "    def __init__(self, g: dgl.DGLGraph, node_edge_pairs: List, walk_length: int, walks_per_node: int):\n",
        "        \"\"\"\n",
        "        :param walk_length: length of the walk\n",
        "        :param walks_per_node: number of walks per node\n",
        "        \"\"\"\n",
        "        self.walk_length = walk_length\n",
        "        self.walk_per_node = walks_per_node # backlog\n",
        "        self.num_of_nodes = g.number_of_nodes()\n",
        "        self.num_of_nodes_ntype = []\n",
        "        for pair in node_edge_pairs:\n",
        "            ntype = pair[0]\n",
        "            self.num_of_nodes_ntype.append([ntype, g.nodes[ntype].data[\"node_ID\"].size()[0]])\n",
        "        self.walks = self._forward(g, node_edge_pairs)\n",
        "\n",
        "    def _forward(self, g: dgl.DGLGraph, node_edge_pairs: List) -> dict:\n",
        "        \"\"\"\n",
        "        Generate a random walk for every node in the graph. \n",
        "        :param g: Graph\n",
        "        :param node_edge_pairs: [node type, 1st level edge type, 2nd level edge type]\n",
        "        :return:\n",
        "        \"\"\"\n",
        "        nodes_walk = {}\n",
        "        for pair in node_edge_pairs:\n",
        "            ntype = pair[0]\n",
        "            nodes_walk[ntype] = []\n",
        "            for start in g.nodes[ntype].data[\"node_ID\"].tolist():\n",
        "                walk = [start]\n",
        "                for i in range(self.walk_length):\n",
        "                    current = walk[i]\n",
        "                    if i%2 == 0:\n",
        "                        neighbors = g.successors(current, etype=pair[1]).tolist()\n",
        "                    else:\n",
        "                        neighbors = g.successors(current, etype=pair[2]).tolist()\n",
        "                    next = random.choice(neighbors) # random sampling (equal probabilities)\n",
        "                    walk.append(next) # walk to the next node\n",
        "                nodes_walk[ntype].append(walk)\n",
        "        return nodes_walk\n",
        "\n",
        "    def get_feature_walk(self, node_type_restriction=False):\n",
        "        \"\"\"\n",
        "        Return the walks.\n",
        "        :param node_type_restriction: Default `False`. If `True`, return walks that contains only the type of the start node.\n",
        "        :return:\n",
        "        \"\"\"\n",
        "        if not node_type_restriction:\n",
        "            return self.walks\n",
        "        else:\n",
        "            walks = copy.deepcopy(self.walks)\n",
        "            ntypes = walks.keys()\n",
        "            for ntype in ntypes:\n",
        "                for w in walks[ntype]:\n",
        "                    # Remove nodes with odd indices. In the walk list, even indices have the same node type as start node.\n",
        "                    del w[1::2]\n",
        "            return walks\n",
        "\n",
        "    def get_feature_diversity_score(self):\n",
        "        \"\"\"\n",
        "        Return a score of (cnts of different nodes in the walk)/(walk length).\n",
        "        \"\"\"\n",
        "        walks = self.get_feature_walk(node_type_restriction=True)\n",
        "        score = {}\n",
        "        ntypes = walks.keys()\n",
        "        for ntype in ntypes:\n",
        "            score[ntype] = []\n",
        "            for w in walks[ntype]:\n",
        "                node = w[0]\n",
        "                distinct_node_cnt = len(set(w))\n",
        "                if distinct_node_cnt > 0:\n",
        "                    s = distinct_node_cnt/len(w)\n",
        "                else:\n",
        "                    s = 0                \n",
        "                score[ntype].append([node, s])\n",
        "        return score\n",
        "\n",
        "    def get_embedding(self, H):\n",
        "        \"\"\"\n",
        "        Return the embeddings.\n",
        "        :param H: The output dimension of embeddings. After projection, every node_id becomes an H-dim array.\n",
        "        :return: Tensors in the shape of : [num of nodes, walk length, H]0\n",
        "        \"\"\"\n",
        "        # create input tensor\n",
        "        input_walks = []\n",
        "        for _, k in enumerate(self.walks):\n",
        "            input_walks.extend([w for w in self.walks[k]])\n",
        "        input_tensor = torch.tensor(input_walks)\n",
        "\n",
        "        # train the embedding\n",
        "        embedding_layer = nn.Embedding(num_embeddings=self.num_of_nodes, embedding_dim=H) # need unique keys for this method\n",
        "        _embedding = embedding_layer(input_tensor)\n",
        "\n",
        "        # sort into different ntypes\n",
        "        embedding_walk = {}\n",
        "        start = 0\n",
        "        for pair in self.num_of_nodes_ntype:\n",
        "            ntype = pair[0]\n",
        "            n = pair[1]\n",
        "            embedding_walk[ntype] = _embedding[start:(start + n)]\n",
        "            start += n\n",
        "        return embedding_walk\n",
        "            "
      ],
      "metadata": {
        "id": "85bvxZAlJ3VA"
      },
      "id": "85bvxZAlJ3VA",
      "execution_count": null,
      "outputs": []
    },
    {
      "cell_type": "code",
      "source": [
        "### driver ###\n",
        "deepwalk = DeepWalk(g=movie_hetero_graph_clean, \n",
        "                    node_edge_pairs=[['user', 'rates', 'rev-rates'],['movie', 'rev-rates', 'rates']],\n",
        "                    walk_length=3, \n",
        "                    walks_per_node=1)\n",
        "deep_walk = deepwalk.get_feature_walk()\n",
        "same_type_walk = deepwalk.get_feature_walk(node_type_restriction=True)\n",
        "diversity_score = deepwalk.get_feature_diversity_score()\n",
        "embedding_walk = deepwalk.get_embedding(H=1)\n",
        "\n",
        "# print(deep_walk)\n",
        "# print('---------------')\n",
        "# print(same_type_walk)\n",
        "# print('---------------')\n",
        "# print(diversity_score)\n",
        "# print('---------------')\n",
        "print(embedding_walk)"
      ],
      "metadata": {
        "colab": {
          "base_uri": "https://localhost:8080/"
        },
        "id": "Ln5wSmg_qU1r",
        "outputId": "8ae9d002-912d-4524-b3a4-910faa8824d6"
      },
      "id": "Ln5wSmg_qU1r",
      "execution_count": null,
      "outputs": [
        {
          "output_type": "stream",
          "name": "stdout",
          "text": [
            "{'user': tensor([[[1.0784],\n",
            "         [1.0070],\n",
            "         [1.0784],\n",
            "         [2.0325]],\n",
            "\n",
            "        [[2.0325],\n",
            "         [1.0992],\n",
            "         [2.0325],\n",
            "         [1.0992]]], grad_fn=<SliceBackward0>), 'movie': tensor([[[1.0784],\n",
            "         [1.0784],\n",
            "         [1.0784],\n",
            "         [1.0784]],\n",
            "\n",
            "        [[2.0325],\n",
            "         [2.0325],\n",
            "         [1.0992],\n",
            "         [2.0325]],\n",
            "\n",
            "        [[1.0070],\n",
            "         [1.0784],\n",
            "         [1.0784],\n",
            "         [1.0784]],\n",
            "\n",
            "        [[1.0992],\n",
            "         [2.0325],\n",
            "         [1.0992],\n",
            "         [2.0325]]], grad_fn=<SliceBackward0>)}\n"
          ]
        }
      ]
    },
    {
      "cell_type": "markdown",
      "source": [
        "### In-degree, Out-degree"
      ],
      "metadata": {
        "id": "OAfGsYqJnNl4"
      },
      "id": "OAfGsYqJnNl4"
    },
    {
      "cell_type": "code",
      "source": [
        "def indegree_feature(graph):\n",
        "    output = {}\n",
        "    for s_ntype in graph.ntypes:\n",
        "        for d_ntype in graph.ntypes:\n",
        "            if s_ntype!=d_ntype:\n",
        "                print(\"Calculating indegree for source ntype: \", s_ntype, \"and dest ntype: \", d_ntype)\n",
        "                indegree_sum = None\n",
        "                for etype in graph.etypes:\n",
        "                    try:\n",
        "                        indegree = graph.in_degrees(etype=(s_ntype, etype, d_ntype))\n",
        "                        if indegree_sum:\n",
        "                            indegree_sum += indegree\n",
        "                        else:\n",
        "                            indegree_sum = indegree\n",
        "                    except:\n",
        "                        print(f'no edge type {etype} between source {s_ntype} and dest {d_ntype}')\n",
        "                        \n",
        "                indegree_tensor = torch.FloatTensor([[val] for val in indegree_sum])\n",
        "                output[d_ntype] = indegree_tensor\n",
        "    return output\n",
        "\n",
        "def outdegree_feature(graph):\n",
        "    output = {}\n",
        "    for s_ntype in graph.ntypes:\n",
        "        for d_ntype in graph.ntypes:\n",
        "            if s_ntype!=d_ntype:\n",
        "                print(\"Calculating outdegree for source ntype: \", s_ntype, \"and dest ntype: \", d_ntype)\n",
        "                outdegree_sum = None\n",
        "                for etype in graph.etypes:\n",
        "                    try:\n",
        "                        outdegree = graph.out_degrees(etype=(d_ntype, etype, s_ntype))\n",
        "                        if outdegree_sum:\n",
        "                            outdegree_sum += outdegree\n",
        "                        else:\n",
        "                            outdegree_sum = outdegree\n",
        "                    except:\n",
        "                        print(f'no edge type {etype} between source {d_ntype} and dest {s_ntype}')\n",
        "                        \n",
        "                outdegree_tensor = torch.FloatTensor([[val] for val in outdegree_sum])\n",
        "                output[d_ntype] = outdegree_tensor\n",
        "    return output"
      ],
      "metadata": {
        "id": "ozrKu_yxnSpm"
      },
      "id": "ozrKu_yxnSpm",
      "execution_count": null,
      "outputs": []
    },
    {
      "cell_type": "code",
      "source": [
        "### driver ###\n",
        "indegree = indegree_feature(movie_hetero_graph_clean)\n",
        "outdegree = outdegree_feature(movie_hetero_graph_clean)\n",
        "\n",
        "print(indegree, outdegree)\n"
      ],
      "metadata": {
        "colab": {
          "base_uri": "https://localhost:8080/"
        },
        "id": "zZUY8wBdnYvI",
        "outputId": "01cffa22-8c22-4ebb-b75d-ee86e2a3a359"
      },
      "id": "zZUY8wBdnYvI",
      "execution_count": null,
      "outputs": [
        {
          "output_type": "stream",
          "name": "stdout",
          "text": [
            "Calculating indegree for source ntype:  movie and dest ntype:  user\n",
            "no edge type rates between source movie and dest user\n",
            "Calculating indegree for source ntype:  user and dest ntype:  movie\n",
            "no edge type rev-rates between source user and dest movie\n",
            "Calculating outdegree for source ntype:  movie and dest ntype:  user\n",
            "no edge type rev-rates between source user and dest movie\n",
            "Calculating outdegree for source ntype:  user and dest ntype:  movie\n",
            "no edge type rates between source movie and dest user\n",
            "{'user': tensor([[3.],\n",
            "        [2.]]), 'movie': tensor([[1.],\n",
            "        [2.],\n",
            "        [1.],\n",
            "        [1.]])} {'user': tensor([[3.],\n",
            "        [2.]]), 'movie': tensor([[1.],\n",
            "        [2.],\n",
            "        [1.],\n",
            "        [1.]])}\n"
          ]
        }
      ]
    },
    {
      "cell_type": "markdown",
      "source": [
        "### PageRank"
      ],
      "metadata": {
        "id": "8wU9U0E5X-bw"
      },
      "id": "8wU9U0E5X-bw"
    },
    {
      "cell_type": "code",
      "source": [
        "\"\"\"\n",
        "    PageRank Helper Function\n",
        "\"\"\"\n",
        "def pagerank_reduce_func(nodes, DAMP=.85):\n",
        "    msgs = torch.sum(nodes.mailbox['pagerank_pv'], dim=1)\n",
        "    N = nodes.batch_size()\n",
        "\n",
        "    pv = (1 - DAMP) / N + DAMP * msgs\n",
        "    return {'pagerank_pv' : pv}\n",
        "\n",
        "def pagerank_message_func(edges):\n",
        "    return {'pagerank_pv' : edges.src['pagerank_pv'] / edges.src['pagerank_deg']}\n",
        "\n",
        "\"\"\"\n",
        "PageRank\n",
        "\n",
        "Implements Pagerank features in bypartite GNN\n",
        "\n",
        "Parameters\n",
        "----------\n",
        "g : DGL Heterograph \n",
        "    The Graph should contain two node types only.\n",
        "user_label : string, optional\n",
        "    Name of the user node\n",
        "product_label: string, optional\n",
        "    Name of the product node\n",
        "edge_label: string, optional\n",
        "    Name of the user to product edge type\n",
        "rev_edge_label: string, optional\n",
        "    Name of the product to user edge type\n",
        "DAMP: float, optional\n",
        "    Damp or decay factor. This corresponds to the probability of connections sinking at any giving point (nodes with no outgoing edges). \n",
        "    It prevents the sinked nodes from \"absorbing\" the PageRanks of those pages connected to the sinks. \n",
        "reverse: bool, optional\n",
        "    Whether or not the PageRank algorithm should run on the reverse orientation (products to users)\n",
        "\n",
        "Returns\n",
        "    \n",
        "-------\n",
        "DGL Heterograph \n",
        "    The Graph with pagerank features included in its nodes (\"pagerank_pv\").\n",
        "\"\"\"\n",
        "def pagerank(g, user_label = 'user', product_label = 'product', edge_label = 'purchase', rev_edge_label = 'review', DAMP = 0.85, reverse = False):\n",
        "   \n",
        "    N = g.number_of_nodes()\n",
        "    N_user = g.num_src_nodes(user_label)\n",
        "    N_product = g.num_src_nodes(product_label)\n",
        "    \n",
        "    g.nodes[user_label].data['pagerank_pv'] = torch.ones(N_user) / N\n",
        "    g.nodes[product_label].data['pagerank_pv'] = torch.ones(N_product) / N\n",
        "    g.nodes[user_label].data['pagerank_deg'] = g.out_degrees(g.nodes(user_label), etype=edge_label).float()\n",
        "    g.nodes[product_label].data['pagerank_deg'] = g.out_degrees(g.nodes(product_label), etype=rev_edge_label).float()\n",
        "\n",
        "    g.multi_update_all({edge_label: (pagerank_message_func, pagerank_reduce_func)},\"sum\")\n",
        "    \n",
        "    if(reverse):\n",
        "        g.multi_update_all({rev_edge_label: (pagerank_message_func, pagerank_reduce_func)},\"sum\")\n",
        " \n",
        "    dict1 = {}\n",
        "    dict1[user_label] = torch.unsqueeze(g.nodes[user_label].data['pagerank_pv'], 1) \n",
        "    dict1[product_label] = torch.unsqueeze(g.nodes[product_label].data['pagerank_pv'], 1)\n",
        "    return dict1\n",
        "    "
      ],
      "metadata": {
        "id": "0xFo-j05YBwn"
      },
      "id": "0xFo-j05YBwn",
      "execution_count": null,
      "outputs": []
    },
    {
      "cell_type": "code",
      "source": [
        "### driver ###\n",
        "pagerank = pagerank(movie_hetero_graph_clean, \n",
        "             user_label = 'user', \n",
        "             product_label = 'movie', \n",
        "             edge_label = 'rates', \n",
        "             rev_edge_label = 'rev-rates',\n",
        "             reverse = False)\n",
        "\n",
        "print(pagerank)\n",
        "# print(movie_hetero_graph_clean)"
      ],
      "metadata": {
        "colab": {
          "base_uri": "https://localhost:8080/"
        },
        "id": "X5XJ5lt5ZbzC",
        "outputId": "b52dcb79-05a2-4505-a4e2-84ad01e87f20"
      },
      "id": "X5XJ5lt5ZbzC",
      "execution_count": null,
      "outputs": [
        {
          "output_type": "stream",
          "name": "stdout",
          "text": [
            "{'user': tensor([[0.1667],\n",
            "        [0.1667]]), 'movie': tensor([[0.0972],\n",
            "        [0.2681],\n",
            "        [0.0972],\n",
            "        [0.1208]])}\n"
          ]
        }
      ]
    },
    {
      "cell_type": "markdown",
      "source": [
        "### Concatenate feature tensors and add to graph"
      ],
      "metadata": {
        "id": "Z1HvELx8Wllm"
      },
      "id": "Z1HvELx8Wllm"
    },
    {
      "cell_type": "code",
      "source": [
        "def concat_feature_tensors(node_types, **kwargs):\n",
        "    \"\"\"\n",
        "    Take in multiple feature tensors, check if its a valid tensor size, and concatenate them.\n",
        "    Output: Dict with different ntype as keys, tensors as value.\n",
        "    \"\"\"\n",
        "    out_feature_tensors = {}\n",
        "    for ntype in node_types:\n",
        "        for key, value in kwargs.items():\n",
        "            tensors = value[ntype]        \n",
        "    \n",
        "            # sanity check: tensor size\n",
        "            if tensors.dim() > 3:\n",
        "                return \"Error dimension in feature:{}\".format(key)\n",
        "            if tensors.dim() == 3:\n",
        "                value[ntype] = tensors.flatten(1, 2)\n",
        "            # print(key, ntype, value[ntype])\n",
        "        \n",
        "        out_feature_tensors[ntype] = torch.cat(tuple([v[ntype] for k, v in kwargs.items()]), \n",
        "                                               dim=-1)\n",
        "    return out_feature_tensors\n",
        "\n",
        "def add_features_to_graph(g: dgl.DGLGraph, feature_tensor_to_add: torch.tensor):\n",
        "    \"\"\"\n",
        "    Append feature tensors to the nodes in graph.\n",
        "    \"\"\"\n",
        "    # if there's exsiting features in the graph\n",
        "    exist_features = {}\n",
        "    for ntype in g.ntypes:\n",
        "        if (\"features\" in g.nodes[ntype].data.keys()) and (g.nodes[ntype].data[\"features\"] is not None):\n",
        "            exist_features[ntype] = g.nodes[ntype].data[\"features\"]\n",
        "    \n",
        "    feature_tensor_to_add = concat_feature_tensors(node_types=g.ntypes,\n",
        "                                                    exist_feature=exist_features, \n",
        "                                                    feature_tensor_to_add=feature_tensor_to_add)\n",
        "    # append features to the graph\n",
        "    for ntype in g.ntypes:\n",
        "        g.nodes[ntype].data[\"features\"] = feature_tensor_to_add[ntype]    \n",
        "    return g\n",
        "    "
      ],
      "metadata": {
        "id": "1Kb9ltx2TXUg",
        "colab": {
          "base_uri": "https://localhost:8080/"
        },
        "outputId": "9a9e7592-f00b-4520-f424-fd9174b6dd8a"
      },
      "id": "1Kb9ltx2TXUg",
      "execution_count": null,
      "outputs": [
        {
          "output_type": "stream",
          "name": "stdout",
          "text": [
            "{'node_ID': tensor([0, 1]), 'features': tensor([[25.0000,  3.0000,  3.0000,  0.1667,  1.3638,  0.4670,  1.4070, -1.9474,\n",
            "          1.3638,  0.4670,  0.4014,  0.2399,  3.0000,  3.0000,  0.1667,  1.3638,\n",
            "          0.4670,  1.4070, -1.9474,  1.3638,  0.4670,  0.4014,  0.2399],\n",
            "        [25.0000,  2.0000,  2.0000,  0.1667,  0.4014,  0.2399,  0.4014,  0.2399,\n",
            "          1.3638,  0.4670,  1.3638,  0.4670,  2.0000,  2.0000,  0.1667,  0.4014,\n",
            "          0.2399,  0.4014,  0.2399,  1.3638,  0.4670,  1.3638,  0.4670]],\n",
            "       grad_fn=<CatBackward0>), 'pagerank_pv': tensor([0.1667, 0.1667]), 'pagerank_deg': tensor([3., 2.])}\n"
          ]
        }
      ]
    },
    {
      "cell_type": "code",
      "source": [
        "### driver ###\n",
        "structural_feature_tensors = concat_feature_tensors(node_types=[\"user\",\"movie\"], \n",
        "                                          in_degree=indegree,\n",
        "                                          out_degree=outdegree,\n",
        "                                          pagerank=pagerank,\n",
        "                                          walk_embeddings=embedding_walk,\n",
        "                                          )\n",
        "\n",
        "movie_hetero_graph_clean = add_features_to_graph(movie_hetero_graph_clean, structural_feature_tensors)\n",
        "\n",
        "print(movie_hetero_graph_clean.nodes[\"user\"].data)\n"
      ],
      "metadata": {
        "id": "bKhHHK2MVuww"
      },
      "id": "bKhHHK2MVuww",
      "execution_count": null,
      "outputs": []
    }
  ],
  "metadata": {
    "kernelspec": {
      "display_name": "Python 3",
      "name": "python3"
    },
    "language_info": {
      "name": "python"
    },
    "colab": {
      "provenance": [],
      "toc_visible": true
    },
    "gpuClass": "standard",
    "accelerator": "GPU"
  },
  "nbformat": 4,
  "nbformat_minor": 5
}