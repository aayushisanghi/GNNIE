{
 "cells": [
  {
   "cell_type": "code",
   "execution_count": 2,
   "id": "4a9fe944",
   "metadata": {},
   "outputs": [],
   "source": [
    "import dgl"
   ]
  },
  {
   "cell_type": "code",
   "execution_count": 3,
   "id": "20fce431",
   "metadata": {},
   "outputs": [],
   "source": [
    "def indegree_feature(graph):\n",
    "    for s_ntype in graph.ntypes:\n",
    "        for d_ntype in graph.ntypes:\n",
    "            if s_ntype!=d_ntype:\n",
    "                print(\"Calculating indegree for source ntype: \", s_ntype, \"and dest ntype: \", d_ntype)\n",
    "                indegree_sum = None\n",
    "                for etype in graph.etypes:\n",
    "                    try:\n",
    "                        indegree = graph.in_degrees(etype=(s_ntype, etype, d_ntype))\n",
    "                        if indegree_sum:\n",
    "                            indegree_sum += indegree\n",
    "                        else:\n",
    "                            indegree_sum = indegree\n",
    "                    except:\n",
    "                        print(f'no edge type {etype} between source {s_ntype} and dest {d_ntype}')\n",
    "                        \n",
    "                indegree_tensor = [torch.FloatTensor([val]) for val in indegree_sum]\n",
    "                graph.nodes[d_ntype].data['outdegree'] = torch.stack(indegree_tensor, axis=0)\n",
    "                \n",
    "    return graph"
   ]
  },
  {
   "cell_type": "code",
   "execution_count": 4,
   "id": "b8e630ce",
   "metadata": {},
   "outputs": [],
   "source": [
    "def outdegree_feature(graph):\n",
    "    for s_ntype in graph.ntypes:\n",
    "        for d_ntype in graph.ntypes:\n",
    "            if s_ntype!=d_ntype:\n",
    "                print(\"Calculating outdegree for source ntype: \", s_ntype, \"and dest ntype: \", d_ntype)\n",
    "                outdegree_sum = None\n",
    "                for etype in graph.etypes:\n",
    "                    try:\n",
    "                        outdegree = graph.out_degrees(etype=(d_ntype, etype, s_ntype))\n",
    "                        if outdegree_sum:\n",
    "                            outdegree_sum += outdegree\n",
    "                        else:\n",
    "                            outdegree_sum = outdegree\n",
    "                    except:\n",
    "                        print(f'no edge type {etype} between source {d_ntype} and dest {s_ntype}')\n",
    "                        \n",
    "                outdegree_tensor = [torch.FloatTensor([val]) for val in outdegree_sum]\n",
    "                graph.nodes[d_ntype].data['outdegree'] = torch.stack(outdegree_tensor, axis=0)\n",
    "                \n",
    "    return graph"
   ]
  }
 ],
 "metadata": {
  "kernelspec": {
   "display_name": "Python 3 (ipykernel)",
   "language": "python",
   "name": "python3"
  },
  "language_info": {
   "codemirror_mode": {
    "name": "ipython",
    "version": 3
   },
   "file_extension": ".py",
   "mimetype": "text/x-python",
   "name": "python",
   "nbconvert_exporter": "python",
   "pygments_lexer": "ipython3",
   "version": "3.8.8"
  }
 },
 "nbformat": 4,
 "nbformat_minor": 5
}
